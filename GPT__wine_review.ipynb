{
  "nbformat": 4,
  "nbformat_minor": 0,
  "metadata": {
    "colab": {
      "provenance": [],
      "gpuType": "T4",
      "authorship_tag": "ABX9TyPVd0n7H6Eyb+/2ybi+/qyM",
      "include_colab_link": true
    },
    "kernelspec": {
      "name": "python3",
      "display_name": "Python 3"
    },
    "language_info": {
      "name": "python"
    },
    "accelerator": "GPU"
  },
  "cells": [
    {
      "cell_type": "markdown",
      "metadata": {
        "id": "view-in-github",
        "colab_type": "text"
      },
      "source": [
        "<a href=\"https://colab.research.google.com/github/Zardian18/GPT_wine_review/blob/master/GPT__wine_review.ipynb\" target=\"_parent\"><img src=\"https://colab.research.google.com/assets/colab-badge.svg\" alt=\"Open In Colab\"/></a>"
      ]
    },
    {
      "cell_type": "code",
      "execution_count": 1,
      "metadata": {
        "colab": {
          "base_uri": "https://localhost:8080/"
        },
        "id": "nvYuEEkvSjbM",
        "outputId": "538899df-5308-4198-8d25-50e927183a96"
      },
      "outputs": [
        {
          "output_type": "stream",
          "name": "stdout",
          "text": [
            "--2024-01-30 12:54:00--  https://raw.githubusercontent.com/Zardian18/helper-functions-colab/master/helper.py\n",
            "Resolving raw.githubusercontent.com (raw.githubusercontent.com)... 185.199.109.133, 185.199.108.133, 185.199.110.133, ...\n",
            "Connecting to raw.githubusercontent.com (raw.githubusercontent.com)|185.199.109.133|:443... connected.\n",
            "HTTP request sent, awaiting response... 200 OK\n",
            "Length: 17171 (17K) [text/plain]\n",
            "Saving to: ‘helper.py’\n",
            "\n",
            "\rhelper.py             0%[                    ]       0  --.-KB/s               \rhelper.py           100%[===================>]  16.77K  --.-KB/s    in 0.001s  \n",
            "\n",
            "2024-01-30 12:54:00 (24.8 MB/s) - ‘helper.py’ saved [17171/17171]\n",
            "\n"
          ]
        }
      ],
      "source": [
        "!wget https://raw.githubusercontent.com/Zardian18/helper-functions-colab/master/helper.py"
      ]
    },
    {
      "cell_type": "code",
      "source": [
        "!pip install kaggle"
      ],
      "metadata": {
        "id": "YCiWzWQMTIEj"
      },
      "execution_count": null,
      "outputs": []
    },
    {
      "cell_type": "code",
      "source": [
        "from google.colab import drive\n",
        "drive.mount(\"/content/drive\")\n",
        "\n",
        "! mkdir ~/.kaggle\n",
        "!cp /content/drive/MyDrive/kaggle/kaggle.json ~/.kaggle/kaggle.json\n",
        "!chmod 600 ~/.kaggle/kaggle.json"
      ],
      "metadata": {
        "colab": {
          "base_uri": "https://localhost:8080/"
        },
        "id": "7AIOV3bXTJPX",
        "outputId": "fee4ea1b-3288-4cee-a34d-37a110c78d99"
      },
      "execution_count": 3,
      "outputs": [
        {
          "output_type": "stream",
          "name": "stdout",
          "text": [
            "Mounted at /content/drive\n"
          ]
        }
      ]
    },
    {
      "cell_type": "code",
      "source": [
        "! kaggle datasets download -d zynicide/wine-reviews"
      ],
      "metadata": {
        "colab": {
          "base_uri": "https://localhost:8080/"
        },
        "id": "nLPOn_88TKiZ",
        "outputId": "192c2b0a-65b3-47c8-adba-ea630bfbdb4e"
      },
      "execution_count": 4,
      "outputs": [
        {
          "output_type": "stream",
          "name": "stdout",
          "text": [
            "Downloading wine-reviews.zip to /content\n",
            " 83% 42.0M/50.9M [00:00<00:00, 149MB/s]\n",
            "100% 50.9M/50.9M [00:00<00:00, 146MB/s]\n"
          ]
        }
      ]
    },
    {
      "cell_type": "code",
      "source": [
        "! unzip wine-reviews.zip"
      ],
      "metadata": {
        "colab": {
          "base_uri": "https://localhost:8080/"
        },
        "id": "EcE1Nru_TXW6",
        "outputId": "39f27e19-ba38-4ede-9dba-049bd97467ae"
      },
      "execution_count": 5,
      "outputs": [
        {
          "output_type": "stream",
          "name": "stdout",
          "text": [
            "Archive:  wine-reviews.zip\n",
            "  inflating: winemag-data-130k-v2.csv  \n",
            "  inflating: winemag-data-130k-v2.json  \n",
            "  inflating: winemag-data_first150k.csv  \n"
          ]
        }
      ]
    },
    {
      "cell_type": "code",
      "source": [
        "%load_ext autoreload\n",
        "%autoreload 2\n",
        "import numpy as np\n",
        "import json\n",
        "import re\n",
        "import string\n",
        "from IPython.display import display, HTML\n",
        "\n",
        "import tensorflow as tf\n",
        "from tensorflow.keras import layers, models, losses, callbacks"
      ],
      "metadata": {
        "id": "NoidNMk4Tbqd"
      },
      "execution_count": 6,
      "outputs": []
    },
    {
      "cell_type": "code",
      "source": [
        "VOCAB_SIZE = 10000\n",
        "MAX_LEN = 80\n",
        "EMBEDDING_DIM = 256\n",
        "KEY_DIM = 256\n",
        "N_HEADS = 2\n",
        "FEED_FORWARD_DIM = 256\n",
        "VALIDATION_SPLIT = 0.2\n",
        "SEED = 42\n",
        "LOAD_MODEL = False\n",
        "BATCH_SIZE = 32\n",
        "EPOCHS = 5"
      ],
      "metadata": {
        "id": "jsU_XhrOT31j"
      },
      "execution_count": 7,
      "outputs": []
    },
    {
      "cell_type": "code",
      "source": [
        "with open(\"/content/winemag-data-130k-v2.json\") as json_data:\n",
        "  wine_data = json.load(json_data)"
      ],
      "metadata": {
        "id": "59B6Kh6aT5h4"
      },
      "execution_count": 8,
      "outputs": []
    },
    {
      "cell_type": "code",
      "source": [
        "wine_data[25]"
      ],
      "metadata": {
        "colab": {
          "base_uri": "https://localhost:8080/"
        },
        "id": "GIZSsnBUUDHT",
        "outputId": "99c3a73c-d23e-4282-b9b2-d56ef9dd9154"
      },
      "execution_count": 9,
      "outputs": [
        {
          "output_type": "execute_result",
          "data": {
            "text/plain": [
              "{'points': '87',\n",
              " 'title': 'Castello di Amorosa 2011 King Ridge Vineyard Pinot Noir (Sonoma Coast)',\n",
              " 'description': 'Oak and earth intermingle around robust aromas of wet forest floor in this vineyard-designated Pinot that hails from a high-elevation site. Small in production, it offers intense, full-bodied raspberry and blackberry steeped in smoky spice and smooth texture.',\n",
              " 'taster_name': 'Virginie Boone',\n",
              " 'taster_twitter_handle': '@vboone',\n",
              " 'price': 69,\n",
              " 'designation': 'King Ridge Vineyard',\n",
              " 'variety': 'Pinot Noir',\n",
              " 'region_1': 'Sonoma Coast',\n",
              " 'region_2': 'Sonoma',\n",
              " 'province': 'California',\n",
              " 'country': 'US',\n",
              " 'winery': 'Castello di Amorosa'}"
            ]
          },
          "metadata": {},
          "execution_count": 9
        }
      ]
    },
    {
      "cell_type": "code",
      "source": [
        "filtered_data = [\n",
        "    \"wine review : \"\n",
        "    + x[\"country\"]\n",
        "    + \" : \"\n",
        "    + x[\"province\"]\n",
        "    + \" : \"\n",
        "    + x[\"variety\"]\n",
        "    + \" : \"\n",
        "    + x[\"description\"]\n",
        "    for x in wine_data\n",
        "    if x[\"country\"] is not None\n",
        "    and x[\"province\"] is not None\n",
        "    and x[\"variety\"] is not None\n",
        "    and x[\"description\"] is not None\n",
        "]"
      ],
      "metadata": {
        "id": "fOiYk6doUEoQ"
      },
      "execution_count": 10,
      "outputs": []
    },
    {
      "cell_type": "code",
      "source": [
        "filtered_data[25]"
      ],
      "metadata": {
        "colab": {
          "base_uri": "https://localhost:8080/",
          "height": 70
        },
        "id": "IXbFfoLMUfq7",
        "outputId": "99acf228-65ef-4e97-b63d-bb3a73a05784"
      },
      "execution_count": 11,
      "outputs": [
        {
          "output_type": "execute_result",
          "data": {
            "text/plain": [
              "'wine review : US : California : Pinot Noir : Oak and earth intermingle around robust aromas of wet forest floor in this vineyard-designated Pinot that hails from a high-elevation site. Small in production, it offers intense, full-bodied raspberry and blackberry steeped in smoky spice and smooth texture.'"
            ],
            "application/vnd.google.colaboratory.intrinsic+json": {
              "type": "string"
            }
          },
          "metadata": {},
          "execution_count": 11
        }
      ]
    },
    {
      "cell_type": "markdown",
      "source": [
        "Can apply same thing to other dataset as per requirement"
      ],
      "metadata": {
        "id": "SlZbhFJdUhUN"
      }
    },
    {
      "cell_type": "code",
      "source": [
        "n_wines = len(filtered_data)\n",
        "print(f\"{n_wines} recipes loaded\")"
      ],
      "metadata": {
        "colab": {
          "base_uri": "https://localhost:8080/"
        },
        "id": "WpLWB-O1U0R9",
        "outputId": "9429cd00-550a-4f85-8c78-0c80a592a9b5"
      },
      "execution_count": 12,
      "outputs": [
        {
          "output_type": "stream",
          "name": "stdout",
          "text": [
            "129907 recipes loaded\n"
          ]
        }
      ]
    },
    {
      "cell_type": "code",
      "source": [
        "def pad_punctuation(s):\n",
        "    s = re.sub(f\"([{string.punctuation}, '\\n'])\", r\" \\1 \", s)\n",
        "    s = re.sub(\" +\", \" \", s)\n",
        "    return s\n",
        "\n",
        "\n",
        "text_data = [pad_punctuation(x) for x in filtered_data]"
      ],
      "metadata": {
        "id": "egmn1B4HU2C0"
      },
      "execution_count": 13,
      "outputs": []
    },
    {
      "cell_type": "code",
      "source": [
        "text_data[25]"
      ],
      "metadata": {
        "colab": {
          "base_uri": "https://localhost:8080/",
          "height": 70
        },
        "id": "r2hVy-WCWaeN",
        "outputId": "e3e21027-b68d-4e22-f6f7-ddd146ccb7e9"
      },
      "execution_count": 14,
      "outputs": [
        {
          "output_type": "execute_result",
          "data": {
            "text/plain": [
              "'wine review : US : California : Pinot Noir : Oak and earth intermingle around robust aromas of wet forest floor in this vineyard - designated Pinot that hails from a high - elevation site . Small in production , it offers intense , full - bodied raspberry and blackberry steeped in smoky spice and smooth texture . '"
            ],
            "application/vnd.google.colaboratory.intrinsic+json": {
              "type": "string"
            }
          },
          "metadata": {},
          "execution_count": 14
        }
      ]
    },
    {
      "cell_type": "code",
      "source": [
        "text_ds = (\n",
        "    tf.data.Dataset.from_tensor_slices(text_data)\n",
        "    .batch(BATCH_SIZE)\n",
        "    .shuffle(1000)\n",
        ")"
      ],
      "metadata": {
        "id": "M8nvM5jYWfU-"
      },
      "execution_count": 15,
      "outputs": []
    },
    {
      "cell_type": "code",
      "source": [
        "text_ds"
      ],
      "metadata": {
        "colab": {
          "base_uri": "https://localhost:8080/"
        },
        "id": "n2p6PbCsWlS2",
        "outputId": "846a8d25-d469-4d0d-823c-9aea79bd198e"
      },
      "execution_count": 16,
      "outputs": [
        {
          "output_type": "execute_result",
          "data": {
            "text/plain": [
              "<_ShuffleDataset element_spec=TensorSpec(shape=(None,), dtype=tf.string, name=None)>"
            ]
          },
          "metadata": {},
          "execution_count": 16
        }
      ]
    },
    {
      "cell_type": "code",
      "source": [
        "sum =0\n",
        "for i in range(len(text_data)):\n",
        "  words = text_data[i].split()\n",
        "  sum += len(words)\n",
        "\n",
        "print(f\"Average words per Review: {sum/len(text_data)}\")"
      ],
      "metadata": {
        "colab": {
          "base_uri": "https://localhost:8080/"
        },
        "id": "tt73YVU2Wrj1",
        "outputId": "3d5a84a4-0f40-4c6a-f3df-b23f19c05fe8"
      },
      "execution_count": 17,
      "outputs": [
        {
          "output_type": "stream",
          "name": "stdout",
          "text": [
            "Average words per Review: 58.98505084406537\n"
          ]
        }
      ]
    },
    {
      "cell_type": "code",
      "source": [
        "vectorize_layer = layers.TextVectorization(\n",
        "    standardize=\"lower\",\n",
        "    max_tokens=VOCAB_SIZE,\n",
        "    output_mode=\"int\",\n",
        "    output_sequence_length=MAX_LEN + 1,\n",
        ")"
      ],
      "metadata": {
        "id": "vqKbHv6hWhyx"
      },
      "execution_count": 18,
      "outputs": []
    },
    {
      "cell_type": "code",
      "source": [
        "vectorize_layer.adapt(text_ds)\n",
        "vocab = vectorize_layer.get_vocabulary()"
      ],
      "metadata": {
        "id": "oZo124qPWnPv"
      },
      "execution_count": 19,
      "outputs": []
    },
    {
      "cell_type": "code",
      "source": [
        "for i, word in enumerate(vocab[:10]):\n",
        "    print(f\"{i}: {word}\")"
      ],
      "metadata": {
        "colab": {
          "base_uri": "https://localhost:8080/"
        },
        "id": "IHy4OGenW4pC",
        "outputId": "9c4eee1c-8181-4f93-bf7f-672959bfa918"
      },
      "execution_count": 20,
      "outputs": [
        {
          "output_type": "stream",
          "name": "stdout",
          "text": [
            "0: \n",
            "1: [UNK]\n",
            "2: :\n",
            "3: ,\n",
            "4: .\n",
            "5: and\n",
            "6: the\n",
            "7: wine\n",
            "8: a\n",
            "9: of\n"
          ]
        }
      ]
    },
    {
      "cell_type": "code",
      "source": [
        "example_tokenised = vectorize_layer(text_data[25])\n",
        "print(example_tokenised.numpy())"
      ],
      "metadata": {
        "colab": {
          "base_uri": "https://localhost:8080/"
        },
        "id": "cj-TLTFKW8mO",
        "outputId": "87146d1c-2d54-4be2-c26b-a95f0ab7a90f"
      },
      "execution_count": 21,
      "outputs": [
        {
          "output_type": "stream",
          "name": "stdout",
          "text": [
            "[   7   10    2   20    2   29    2   43   62    2   55    5  243 4145\n",
            "  453  634   26    9  497  499  667   17   12  142   14 2214   43   25\n",
            " 2484   32    8  223   14 2213  948    4  594   17  987    3   15   75\n",
            "  237    3   64   14   82   97    5   74 2633   17  198   49    5  125\n",
            "   77    4    0    0    0    0    0    0    0    0    0    0    0    0\n",
            "    0    0    0    0    0    0    0    0    0    0    0]\n"
          ]
        }
      ]
    },
    {
      "cell_type": "code",
      "source": [
        "def prepare_inputs(text):\n",
        "    text = tf.expand_dims(text, -1)\n",
        "    tokenized_sentences = vectorize_layer(text)\n",
        "    x = tokenized_sentences[:, :-1]\n",
        "    y = tokenized_sentences[:, 1:]\n",
        "    return x, y\n",
        "\n",
        "\n",
        "train_ds = text_ds.map(prepare_inputs)"
      ],
      "metadata": {
        "id": "93cngTc0XBo-"
      },
      "execution_count": 22,
      "outputs": []
    },
    {
      "cell_type": "code",
      "source": [
        "example_input_output = train_ds.take(1).get_single_element()"
      ],
      "metadata": {
        "id": "oXg_aNrEXQ49"
      },
      "execution_count": 23,
      "outputs": []
    },
    {
      "cell_type": "code",
      "source": [
        "example_input_output[0][0] # input"
      ],
      "metadata": {
        "colab": {
          "base_uri": "https://localhost:8080/"
        },
        "id": "8EMU-fjhX0uN",
        "outputId": "13a045f7-eddd-43e2-aeae-cd7b06ae8ef2"
      },
      "execution_count": 24,
      "outputs": [
        {
          "output_type": "execute_result",
          "data": {
            "text/plain": [
              "<tf.Tensor: shape=(80,), dtype=int64, numpy=\n",
              "array([   7,   10,    2,   20,    2,   29,    2,   43,   62,    2,  355,\n",
              "          8,  305,  994,  544,    9,  869, 1155,    3,   12,    7,  210,\n",
              "         73,    5, 1544,   23,    6,   28,    3,   11,  278,    3,  606,\n",
              "          5,   24,   36,   16,    4,  347,  189,    5,  430,    3,   15,\n",
              "         41,    8,  137,  730,    9,  370,    5,  493, 2645,   54,   22,\n",
              "          3,  488,   11,   37,  437,    4,    0,    0,    0,    0,    0,\n",
              "          0,    0,    0,    0,    0,    0,    0,    0,    0,    0,    0,\n",
              "          0,    0,    0])>"
            ]
          },
          "metadata": {},
          "execution_count": 24
        }
      ]
    },
    {
      "cell_type": "code",
      "source": [
        "example_input_output[1][0] #output"
      ],
      "metadata": {
        "colab": {
          "base_uri": "https://localhost:8080/"
        },
        "id": "cy0mB4EkX4Zs",
        "outputId": "4c6606a8-2f08-411a-97e3-d9541cc61e14"
      },
      "execution_count": 25,
      "outputs": [
        {
          "output_type": "execute_result",
          "data": {
            "text/plain": [
              "<tf.Tensor: shape=(80,), dtype=int64, numpy=\n",
              "array([  10,    2,   20,    2,   29,    2,   43,   62,    2,  355,    8,\n",
              "        305,  994,  544,    9,  869, 1155,    3,   12,    7,  210,   73,\n",
              "          5, 1544,   23,    6,   28,    3,   11,  278,    3,  606,    5,\n",
              "         24,   36,   16,    4,  347,  189,    5,  430,    3,   15,   41,\n",
              "          8,  137,  730,    9,  370,    5,  493, 2645,   54,   22,    3,\n",
              "        488,   11,   37,  437,    4,    0,    0,    0,    0,    0,    0,\n",
              "          0,    0,    0,    0,    0,    0,    0,    0,    0,    0,    0,\n",
              "          0,    0,    0])>"
            ]
          },
          "metadata": {},
          "execution_count": 25
        }
      ]
    },
    {
      "cell_type": "code",
      "source": [
        "example_input_output"
      ],
      "metadata": {
        "colab": {
          "base_uri": "https://localhost:8080/"
        },
        "id": "meYueh8aXUJo",
        "outputId": "5d246f37-e83e-4ad8-d06c-52168778ea3e"
      },
      "execution_count": 26,
      "outputs": [
        {
          "output_type": "execute_result",
          "data": {
            "text/plain": [
              "(<tf.Tensor: shape=(32, 80), dtype=int64, numpy=\n",
              " array([[ 7, 10,  2, ...,  0,  0,  0],\n",
              "        [ 7, 10,  2, ...,  0,  0,  0],\n",
              "        [ 7, 10,  2, ...,  0,  0,  0],\n",
              "        ...,\n",
              "        [ 7, 10,  2, ...,  0,  0,  0],\n",
              "        [ 7, 10,  2, ...,  0,  0,  0],\n",
              "        [ 7, 10,  2, ...,  0,  0,  0]])>,\n",
              " <tf.Tensor: shape=(32, 80), dtype=int64, numpy=\n",
              " array([[10,  2, 20, ...,  0,  0,  0],\n",
              "        [10,  2, 85, ...,  0,  0,  0],\n",
              "        [10,  2, 20, ...,  0,  0,  0],\n",
              "        ...,\n",
              "        [10,  2, 40, ...,  0,  0,  0],\n",
              "        [10,  2, 20, ...,  0,  0,  0],\n",
              "        [10,  2, 85, ...,  0,  0,  0]])>)"
            ]
          },
          "metadata": {},
          "execution_count": 26
        }
      ]
    },
    {
      "cell_type": "code",
      "source": [
        "def causal_attention_mask(batch_size, n_dest, n_src, dtype):\n",
        "    i = tf.range(n_dest)[:, None]\n",
        "    j = tf.range(n_src)\n",
        "    m = i >= j - n_src + n_dest\n",
        "    mask = tf.cast(m, dtype)\n",
        "    mask = tf.reshape(mask, [1, n_dest, n_src])\n",
        "    mult = tf.concat(\n",
        "        [tf.expand_dims(batch_size, -1), tf.constant([1, 1], dtype=tf.int32)], 0\n",
        "    )\n",
        "    return tf.tile(mask, mult)"
      ],
      "metadata": {
        "id": "bOnzho6cXbcM"
      },
      "execution_count": 27,
      "outputs": []
    },
    {
      "cell_type": "code",
      "source": [
        "np.transpose(causal_attention_mask(1, 10, 10, dtype=tf.int32)[0])"
      ],
      "metadata": {
        "colab": {
          "base_uri": "https://localhost:8080/"
        },
        "id": "uNrrgRmrYs47",
        "outputId": "fa456eec-af2c-446c-b5e8-704a151124d2"
      },
      "execution_count": 28,
      "outputs": [
        {
          "output_type": "execute_result",
          "data": {
            "text/plain": [
              "array([[1, 1, 1, 1, 1, 1, 1, 1, 1, 1],\n",
              "       [0, 1, 1, 1, 1, 1, 1, 1, 1, 1],\n",
              "       [0, 0, 1, 1, 1, 1, 1, 1, 1, 1],\n",
              "       [0, 0, 0, 1, 1, 1, 1, 1, 1, 1],\n",
              "       [0, 0, 0, 0, 1, 1, 1, 1, 1, 1],\n",
              "       [0, 0, 0, 0, 0, 1, 1, 1, 1, 1],\n",
              "       [0, 0, 0, 0, 0, 0, 1, 1, 1, 1],\n",
              "       [0, 0, 0, 0, 0, 0, 0, 1, 1, 1],\n",
              "       [0, 0, 0, 0, 0, 0, 0, 0, 1, 1],\n",
              "       [0, 0, 0, 0, 0, 0, 0, 0, 0, 1]], dtype=int32)"
            ]
          },
          "metadata": {},
          "execution_count": 28
        }
      ]
    },
    {
      "cell_type": "code",
      "source": [
        "class TransformerBlock(layers.Layer):\n",
        "    def __init__(self, num_heads, key_dim, embed_dim, ff_dim, dropout_rate=0.1):\n",
        "        super(TransformerBlock, self).__init__()\n",
        "        self.num_heads = num_heads\n",
        "        self.key_dim = key_dim\n",
        "        self.embed_dim = embed_dim\n",
        "        self.ff_dim = ff_dim\n",
        "        self.dropout_rate = dropout_rate\n",
        "        self.attn = layers.MultiHeadAttention(\n",
        "            num_heads, key_dim, output_shape=embed_dim\n",
        "        )\n",
        "        self.dropout_1 = layers.Dropout(self.dropout_rate)\n",
        "        self.ln_1 = layers.LayerNormalization(epsilon=1e-6)\n",
        "        self.ffn_1 = layers.Dense(self.ff_dim, activation=\"relu\")\n",
        "        self.ffn_2 = layers.Dense(self.embed_dim)\n",
        "        self.dropout_2 = layers.Dropout(self.dropout_rate)\n",
        "        self.ln_2 = layers.LayerNormalization(epsilon=1e-6)\n",
        "\n",
        "    def call(self, inputs):\n",
        "        input_shape = tf.shape(inputs)\n",
        "        batch_size = input_shape[0]\n",
        "        seq_len = input_shape[1]\n",
        "        causal_mask = causal_attention_mask(\n",
        "            batch_size, seq_len, seq_len, tf.bool\n",
        "        )\n",
        "        attention_output, attention_scores = self.attn(\n",
        "            inputs,\n",
        "            inputs,\n",
        "            attention_mask=causal_mask,\n",
        "            return_attention_scores=True,\n",
        "        )\n",
        "        attention_output = self.dropout_1(attention_output)\n",
        "        out1 = self.ln_1(inputs + attention_output)\n",
        "        ffn_1 = self.ffn_1(out1)\n",
        "        ffn_2 = self.ffn_2(ffn_1)\n",
        "        ffn_output = self.dropout_2(ffn_2)\n",
        "        return (self.ln_2(out1 + ffn_output), attention_scores)\n",
        "\n",
        "    def get_config(self):\n",
        "        config = super().get_config()\n",
        "        config.update(\n",
        "            {\n",
        "                \"key_dim\": self.key_dim,\n",
        "                \"embed_dim\": self.embed_dim,\n",
        "                \"num_heads\": self.num_heads,\n",
        "                \"ff_dim\": self.ff_dim,\n",
        "                \"dropout_rate\": self.dropout_rate,\n",
        "            }\n",
        "        )\n",
        "        return config"
      ],
      "metadata": {
        "id": "BmTXUkaEYupc"
      },
      "execution_count": 29,
      "outputs": []
    },
    {
      "cell_type": "code",
      "source": [
        "class TokenAndPositionEmbedding(layers.Layer):\n",
        "    def __init__(self, max_len, vocab_size, embed_dim):\n",
        "        super(TokenAndPositionEmbedding, self).__init__()\n",
        "        self.max_len = max_len\n",
        "        self.vocab_size = vocab_size\n",
        "        self.embed_dim = embed_dim\n",
        "        self.token_emb = layers.Embedding(\n",
        "            input_dim=vocab_size, output_dim=embed_dim\n",
        "        )\n",
        "        self.pos_emb = layers.Embedding(input_dim=max_len, output_dim=embed_dim)\n",
        "\n",
        "    def call(self, x):\n",
        "        maxlen = tf.shape(x)[-1]\n",
        "        positions = tf.range(start=0, limit=maxlen, delta=1)\n",
        "        positions = self.pos_emb(positions)\n",
        "        x = self.token_emb(x)\n",
        "        return x + positions\n",
        "\n",
        "    def get_config(self):\n",
        "        config = super().get_config()\n",
        "        config.update(\n",
        "            {\n",
        "                \"max_len\": self.max_len,\n",
        "                \"vocab_size\": self.vocab_size,\n",
        "                \"embed_dim\": self.embed_dim,\n",
        "            }\n",
        "        )\n",
        "        return config"
      ],
      "metadata": {
        "id": "aZt5vQh8Zlkw"
      },
      "execution_count": 30,
      "outputs": []
    },
    {
      "cell_type": "markdown",
      "source": [
        "## GPT model"
      ],
      "metadata": {
        "id": "EMJEt5SfaMax"
      }
    },
    {
      "cell_type": "code",
      "source": [
        "inputs = layers.Input(shape=(None,), dtype=tf.int32)\n",
        "x = TokenAndPositionEmbedding(MAX_LEN, VOCAB_SIZE, EMBEDDING_DIM)(inputs)\n",
        "x, attention_scores = TransformerBlock(N_HEADS, KEY_DIM, EMBEDDING_DIM, FEED_FORWARD_DIM)(x)\n",
        "outputs = layers.Dense(VOCAB_SIZE, activation=\"softmax\")(x)\n",
        "\n",
        "gpt = models.Model(inputs= inputs, outputs= [outputs, attention_scores])\n",
        "gpt.summary()"
      ],
      "metadata": {
        "colab": {
          "base_uri": "https://localhost:8080/"
        },
        "id": "fwDMVRYeaYeH",
        "outputId": "09442234-b12e-4681-c384-819fb3916ffd"
      },
      "execution_count": 31,
      "outputs": [
        {
          "output_type": "stream",
          "name": "stdout",
          "text": [
            "Model: \"model\"\n",
            "_________________________________________________________________\n",
            " Layer (type)                Output Shape              Param #   \n",
            "=================================================================\n",
            " input_1 (InputLayer)        [(None, None)]            0         \n",
            "                                                                 \n",
            " token_and_position_embeddi  (None, None, 256)         2580480   \n",
            " ng (TokenAndPositionEmbedd                                      \n",
            " ing)                                                            \n",
            "                                                                 \n",
            " transformer_block (Transfo  ((None, None, 256),       658688    \n",
            " rmerBlock)                   (None, 2, None, None))             \n",
            "                                                                 \n",
            " dense_2 (Dense)             (None, None, 10000)       2570000   \n",
            "                                                                 \n",
            "=================================================================\n",
            "Total params: 5809168 (22.16 MB)\n",
            "Trainable params: 5809168 (22.16 MB)\n",
            "Non-trainable params: 0 (0.00 Byte)\n",
            "_________________________________________________________________\n"
          ]
        }
      ]
    },
    {
      "cell_type": "code",
      "source": [
        "gpt.compile(\"adam\", loss=[losses.SparseCategoricalCrossentropy(), None])"
      ],
      "metadata": {
        "id": "74YzK1oLbmYR"
      },
      "execution_count": 32,
      "outputs": []
    },
    {
      "cell_type": "code",
      "source": [
        "from tensorflow.keras.utils import plot_model\n",
        "plot_model(gpt, show_shapes=True)"
      ],
      "metadata": {
        "colab": {
          "base_uri": "https://localhost:8080/",
          "height": 422
        },
        "id": "gK7swXeTbKKQ",
        "outputId": "3a7a1599-675e-461d-8ff5-c28485d8d58b"
      },
      "execution_count": 33,
      "outputs": [
        {
          "output_type": "execute_result",
          "data": {
            "image/png": "[encoded data removed]",
            "text/plain": [
              "<IPython.core.display.Image object>"
            ]
          },
          "metadata": {},
          "execution_count": 33
        }
      ]
    },
    {
      "cell_type": "code",
      "source": [
        "class TextGenerator(callbacks.Callback):\n",
        "    def __init__(self, index_to_word, top_k=10):\n",
        "        self.index_to_word = index_to_word\n",
        "        self.word_to_index = {\n",
        "            word: index for index, word in enumerate(index_to_word)\n",
        "        }\n",
        "\n",
        "    def sample_from(self, probs, temperature):\n",
        "        probs = probs ** (1 / temperature)\n",
        "        probs = probs / np.sum(probs)\n",
        "        return np.random.choice(len(probs), p=probs), probs\n",
        "\n",
        "    def generate(self, start_prompt, max_tokens, temperature):\n",
        "        start_tokens = [\n",
        "            self.word_to_index.get(x, 1) for x in start_prompt.split()\n",
        "        ]\n",
        "        sample_token = None\n",
        "        info = []\n",
        "        while len(start_tokens) < max_tokens and sample_token != 0:\n",
        "            x = np.array([start_tokens])\n",
        "            y, att = self.model.predict(x, verbose=0)\n",
        "            sample_token, probs = self.sample_from(y[0][-1], temperature)\n",
        "            info.append(\n",
        "                {\n",
        "                    \"prompt\": start_prompt,\n",
        "                    \"word_probs\": probs,\n",
        "                    \"atts\": att[0, :, -1, :],\n",
        "                }\n",
        "            )\n",
        "            start_tokens.append(sample_token)\n",
        "            start_prompt = start_prompt + \" \" + self.index_to_word[sample_token]\n",
        "        print(f\"\\ngenerated text:\\n{start_prompt}\\n\")\n",
        "        return info\n",
        "\n",
        "    def on_epoch_end(self, epoch, logs=None):\n",
        "        self.generate(\"wine review\", max_tokens=80, temperature=1.0)"
      ],
      "metadata": {
        "id": "Cefu_8zzbR1S"
      },
      "execution_count": 34,
      "outputs": []
    },
    {
      "cell_type": "code",
      "source": [
        "model_checkpoint_callback = callbacks.ModelCheckpoint(\n",
        "    filepath=\"./checkpoint/checkpoint.ckpt\",\n",
        "    save_weights_only=True,\n",
        "    save_freq=\"epoch\",\n",
        "    verbose=0,\n",
        ")\n",
        "\n",
        "tensorboard_callback = callbacks.TensorBoard(log_dir=\"./logs\")\n",
        "\n",
        "# Tokenize starting prompt\n",
        "text_generator = TextGenerator(vocab)"
      ],
      "metadata": {
        "id": "TknOTomJbelh"
      },
      "execution_count": 35,
      "outputs": []
    },
    {
      "cell_type": "code",
      "source": [
        "gpt.fit(\n",
        "    train_ds,\n",
        "    epochs=EPOCHS,\n",
        "    callbacks=[model_checkpoint_callback, tensorboard_callback, text_generator],\n",
        ")"
      ],
      "metadata": {
        "colab": {
          "base_uri": "https://localhost:8080/"
        },
        "id": "S8T8IkRrbgLY",
        "outputId": "681f0c36-ebe9-426b-a442-99c48305be41"
      },
      "execution_count": 38,
      "outputs": [
        {
          "output_type": "stream",
          "name": "stdout",
          "text": [
            "Epoch 1/5\n",
            "4060/4060 [==============================] - ETA: 0s - loss: 2.2523 - dense_2_loss: 2.2523\n",
            "generated text:\n",
            "wine review : us : ohio : cabernet franc : made entirely from bordeaux , this cabernet ' s tart , focused cab franc shows upfront , with a penetrating structure . velvety but neither with mouthfilling and thick nor confident . concentrated , hazelnut fans of bold black fruit there ' s a bourbon - like aromas of violets and tobacco . \n",
            "\n",
            "4060/4060 [==============================] - 148s 35ms/step - loss: 2.2523 - dense_2_loss: 2.2523\n",
            "Epoch 2/5\n",
            "4060/4060 [==============================] - ETA: 0s - loss: 1.9581 - dense_2_loss: 1.9581\n",
            "generated text:\n",
            "wine review : us : washington : red blend : this is a copper - fruit blend of 61 % cabernet sauvignon , merlot , cabernet sauvignon and merlot . it ' s easygoing around the dinner quaff on the palate , with flavors of anise , blackberries and black pepper . \n",
            "\n",
            "4060/4060 [==============================] - 114s 28ms/step - loss: 1.9581 - dense_2_loss: 1.9581\n",
            "Epoch 3/5\n",
            "4060/4060 [==============================] - ETA: 0s - loss: 1.8878 - dense_2_loss: 1.8878\n",
            "generated text:\n",
            "wine review : argentina : mendoza province : malbec : a strong scent of burnt rubber . with appealing plum and blueberry flavors , dry plum and clove . this is full and fresh , with leather and plum fruit aromas , and flavors are more like something less than ripe and balanced . it ' s toasty and tasty , with firm acidity . \n",
            "\n",
            "4060/4060 [==============================] - 119s 29ms/step - loss: 1.8878 - dense_2_loss: 1.8878\n",
            "Epoch 4/5\n",
            "4060/4060 [==============================] - ETA: 0s - loss: 1.8460 - dense_2_loss: 1.8460\n",
            "generated text:\n",
            "wine review : us : california : cabernet sauvignon : this is a little one / high in new french oak , and [UNK] tannic [UNK] . aromas of french oak , it ' s a very little too sweet , and the toasty alcohol is high in acid and extracted . it has some of this particular wine ' s a warm vintage , but let it so good it happily in the cellar for a little . \n",
            "\n",
            "4060/4060 [==============================] - 116s 29ms/step - loss: 1.8460 - dense_2_loss: 1.8460\n",
            "Epoch 5/5\n",
            "4059/4060 [============================>.] - ETA: 0s - loss: 1.8162 - dense_2_loss: 1.8162\n",
            "generated text:\n",
            "wine review : us : oregon : pinot noir : all the parts the stillwater creek vineyard , this wine shows more flesh , pleasing hints of white peach and banana . slightly sour cherry fruit is augmented with enough freshness to be for it on the midpalate and tongue - tickling acidity . \n",
            "\n",
            "4060/4060 [==============================] - 115s 28ms/step - loss: 1.8163 - dense_2_loss: 1.8163\n"
          ]
        },
        {
          "output_type": "execute_result",
          "data": {
            "text/plain": [
              "<keras.src.callbacks.History at 0x79b5766fd780>"
            ]
          },
          "metadata": {},
          "execution_count": 38
        }
      ]
    },
    {
      "cell_type": "code",
      "source": [
        "def print_probs(info, vocab, top_k=5):\n",
        "    for i in info:\n",
        "        highlighted_text = []\n",
        "        for word, att_score in zip(\n",
        "            i[\"prompt\"].split(), np.mean(i[\"atts\"], axis=0)\n",
        "        ):\n",
        "            highlighted_text.append(\n",
        "                '<span style=\"background-color:rgba(135,206,250,'\n",
        "                + str(att_score / max(np.mean(i[\"atts\"], axis=0)))\n",
        "                + ');\">'\n",
        "                + word\n",
        "                + \"</span>\"\n",
        "            )\n",
        "        highlighted_text = \" \".join(highlighted_text)\n",
        "        display(HTML(highlighted_text))\n",
        "\n",
        "        word_probs = i[\"word_probs\"]\n",
        "        p_sorted = np.sort(word_probs)[::-1][:top_k]\n",
        "        i_sorted = np.argsort(word_probs)[::-1][:top_k]\n",
        "        for p, i in zip(p_sorted, i_sorted):\n",
        "            print(f\"{vocab[i]}:   \\t{np.round(100*p,2)}%\")\n",
        "        print(\"--------\\n\")"
      ],
      "metadata": {
        "id": "3GTrg3XqbjLR"
      },
      "execution_count": 39,
      "outputs": []
    },
    {
      "cell_type": "code",
      "source": [
        "info = text_generator.generate(\n",
        "    \"wine review : us\", max_tokens=80, temperature=1.0\n",
        ")"
      ],
      "metadata": {
        "colab": {
          "base_uri": "https://localhost:8080/"
        },
        "id": "PzHLIa7YbxTA",
        "outputId": "be422c39-0a50-4890-8989-cf77fb98cb1f"
      },
      "execution_count": 40,
      "outputs": [
        {
          "output_type": "stream",
          "name": "stdout",
          "text": [
            "\n",
            "generated text:\n",
            "wine review : us : california : cabernet sauvignon : big and tannic , with ripe blackberry , cranberry and chocolate notes , this 100 % varietal wine is dry but savory and young . it will keep you high in sweet oak , but it ' s actually [UNK] a candy - wonder if [UNK] through the wine . \n",
            "\n"
          ]
        }
      ]
    },
    {
      "cell_type": "code",
      "source": [
        "info = text_generator.generate(\n",
        "    \"wine review : italy\", max_tokens=80, temperature=0.5\n",
        ")"
      ],
      "metadata": {
        "colab": {
          "base_uri": "https://localhost:8080/"
        },
        "id": "781W6anlbzJO",
        "outputId": "596efd76-8a0c-49b0-f588-e9684572a005"
      },
      "execution_count": 41,
      "outputs": [
        {
          "output_type": "stream",
          "name": "stdout",
          "text": [
            "\n",
            "generated text:\n",
            "wine review : italy : tuscany : red blend : a blend of cabernet sauvignon , merlot and cabernet franc , this opens with aromas of violet , red berry and a whiff of blue flower . the palate delivers fleshy black cherry , clove and a hint of mocha alongside velvety tannins and fresh acidity . drink through 2021 . \n",
            "\n"
          ]
        }
      ]
    },
    {
      "cell_type": "code",
      "source": [
        "info = text_generator.generate(\n",
        "    \"wine review : germany\", max_tokens=80, temperature=0.5\n",
        ")\n",
        "print_probs(info, vocab)"
      ],
      "metadata": {
        "colab": {
          "base_uri": "https://localhost:8080/",
          "height": 1000
        },
        "id": "DtT40ImZb3Iw",
        "outputId": "8638d732-d65b-4e77-feb9-dc946996deeb"
      },
      "execution_count": 42,
      "outputs": [
        {
          "output_type": "stream",
          "name": "stdout",
          "text": [
            "\n",
            "generated text:\n",
            "wine review : germany : mosel : riesling : whiffs of smoke and petrol lend an earthy tone to fresh apple and pear flavors on this dry , medium - bodied riesling . it ' s a refreshingly tart and spry , finishing with a dry mineral tone . \n",
            "\n"
          ]
        },
        {
          "output_type": "display_data",
          "data": {
            "text/plain": [
              "<IPython.core.display.HTML object>"
            ],
            "text/html": [
              "<span style=\"background-color:rgba(135,206,250,1.0);\">wine</span> <span style=\"background-color:rgba(135,206,250,0.94792175);\">review</span> <span style=\"background-color:rgba(135,206,250,0.6746685);\">:</span> <span style=\"background-color:rgba(135,206,250,0.29453364);\">germany</span>"
            ]
          },
          "metadata": {}
        },
        {
          "output_type": "stream",
          "name": "stdout",
          "text": [
            "::   \t100.0%\n",
            "grosso:   \t0.0%\n",
            "-:   \t0.0%\n",
            "blend:   \t0.0%\n",
            "zealand:   \t0.0%\n",
            "--------\n",
            "\n"
          ]
        },
        {
          "output_type": "display_data",
          "data": {
            "text/plain": [
              "<IPython.core.display.HTML object>"
            ],
            "text/html": [
              "<span style=\"background-color:rgba(135,206,250,0.40469393);\">wine</span> <span style=\"background-color:rgba(135,206,250,0.38716203);\">review</span> <span style=\"background-color:rgba(135,206,250,0.48915163);\">:</span> <span style=\"background-color:rgba(135,206,250,1.0);\">germany</span> <span style=\"background-color:rgba(135,206,250,0.40301222);\">:</span>"
            ]
          },
          "metadata": {}
        },
        {
          "output_type": "stream",
          "name": "stdout",
          "text": [
            "mosel:   \t95.06%\n",
            "rheingau:   \t2.29%\n",
            "rheinhessen:   \t1.32%\n",
            "nahe:   \t1.19%\n",
            "pfalz:   \t0.1%\n",
            "--------\n",
            "\n"
          ]
        },
        {
          "output_type": "display_data",
          "data": {
            "text/plain": [
              "<IPython.core.display.HTML object>"
            ],
            "text/html": [
              "<span style=\"background-color:rgba(135,206,250,1.0);\">wine</span> <span style=\"background-color:rgba(135,206,250,0.8043481);\">review</span> <span style=\"background-color:rgba(135,206,250,0.39296475);\">:</span> <span style=\"background-color:rgba(135,206,250,0.19311465);\">germany</span> <span style=\"background-color:rgba(135,206,250,0.44799575);\">:</span> <span style=\"background-color:rgba(135,206,250,0.22589159);\">mosel</span>"
            ]
          },
          "metadata": {}
        },
        {
          "output_type": "stream",
          "name": "stdout",
          "text": [
            "::   \t99.98%\n",
            "-:   \t0.02%\n",
            "blanc:   \t0.0%\n",
            "valley:   \t0.0%\n",
            "grosso:   \t0.0%\n",
            "--------\n",
            "\n"
          ]
        },
        {
          "output_type": "display_data",
          "data": {
            "text/plain": [
              "<IPython.core.display.HTML object>"
            ],
            "text/html": [
              "<span style=\"background-color:rgba(135,206,250,0.26280355);\">wine</span> <span style=\"background-color:rgba(135,206,250,0.23043199);\">review</span> <span style=\"background-color:rgba(135,206,250,0.20809531);\">:</span> <span style=\"background-color:rgba(135,206,250,0.32517016);\">germany</span> <span style=\"background-color:rgba(135,206,250,0.16267242);\">:</span> <span style=\"background-color:rgba(135,206,250,1.0);\">mosel</span> <span style=\"background-color:rgba(135,206,250,0.17766602);\">:</span>"
            ]
          },
          "metadata": {}
        },
        {
          "output_type": "stream",
          "name": "stdout",
          "text": [
            "riesling:   \t100.0%\n",
            "sparkling:   \t0.0%\n",
            "pinot:   \t0.0%\n",
            "grüner:   \t0.0%\n",
            "[UNK]:   \t0.0%\n",
            "--------\n",
            "\n"
          ]
        },
        {
          "output_type": "display_data",
          "data": {
            "text/plain": [
              "<IPython.core.display.HTML object>"
            ],
            "text/html": [
              "<span style=\"background-color:rgba(135,206,250,1.0);\">wine</span> <span style=\"background-color:rgba(135,206,250,0.8557216);\">review</span> <span style=\"background-color:rgba(135,206,250,0.29265705);\">:</span> <span style=\"background-color:rgba(135,206,250,0.16752009);\">germany</span> <span style=\"background-color:rgba(135,206,250,0.41858408);\">:</span> <span style=\"background-color:rgba(135,206,250,0.4701394);\">mosel</span> <span style=\"background-color:rgba(135,206,250,0.41289318);\">:</span> <span style=\"background-color:rgba(135,206,250,0.14514343);\">riesling</span>"
            ]
          },
          "metadata": {}
        },
        {
          "output_type": "stream",
          "name": "stdout",
          "text": [
            "::   \t100.0%\n",
            "-:   \t0.0%\n",
            "blanc:   \t0.0%\n",
            "grosso:   \t0.0%\n",
            "':   \t0.0%\n",
            "--------\n",
            "\n"
          ]
        },
        {
          "output_type": "display_data",
          "data": {
            "text/plain": [
              "<IPython.core.display.HTML object>"
            ],
            "text/html": [
              "<span style=\"background-color:rgba(135,206,250,0.9846923);\">wine</span> <span style=\"background-color:rgba(135,206,250,0.7600974);\">review</span> <span style=\"background-color:rgba(135,206,250,0.6386424);\">:</span> <span style=\"background-color:rgba(135,206,250,0.7297916);\">germany</span> <span style=\"background-color:rgba(135,206,250,0.47966212);\">:</span> <span style=\"background-color:rgba(135,206,250,1.0);\">mosel</span> <span style=\"background-color:rgba(135,206,250,0.66682047);\">:</span> <span style=\"background-color:rgba(135,206,250,0.8396977);\">riesling</span> <span style=\"background-color:rgba(135,206,250,0.7803086);\">:</span>"
            ]
          },
          "metadata": {}
        },
        {
          "output_type": "stream",
          "name": "stdout",
          "text": [
            "while:   \t14.66%\n",
            "a:   \t14.58%\n",
            "hints:   \t13.12%\n",
            "this:   \t11.69%\n",
            "whiffs:   \t10.81%\n",
            "--------\n",
            "\n"
          ]
        },
        {
          "output_type": "display_data",
          "data": {
            "text/plain": [
              "<IPython.core.display.HTML object>"
            ],
            "text/html": [
              "<span style=\"background-color:rgba(135,206,250,1.0);\">wine</span> <span style=\"background-color:rgba(135,206,250,0.9088877);\">review</span> <span style=\"background-color:rgba(135,206,250,0.28767964);\">:</span> <span style=\"background-color:rgba(135,206,250,0.09987473);\">germany</span> <span style=\"background-color:rgba(135,206,250,0.40157896);\">:</span> <span style=\"background-color:rgba(135,206,250,0.17321812);\">mosel</span> <span style=\"background-color:rgba(135,206,250,0.28197908);\">:</span> <span style=\"background-color:rgba(135,206,250,0.15405998);\">riesling</span> <span style=\"background-color:rgba(135,206,250,0.44701493);\">:</span> <span style=\"background-color:rgba(135,206,250,0.19656128);\">whiffs</span>"
            ]
          },
          "metadata": {}
        },
        {
          "output_type": "stream",
          "name": "stdout",
          "text": [
            "of:   \t100.0%\n",
            "suggesting:   \t0.0%\n",
            "blend:   \t0.0%\n",
            "from:   \t0.0%\n",
            "in:   \t0.0%\n",
            "--------\n",
            "\n"
          ]
        },
        {
          "output_type": "display_data",
          "data": {
            "text/plain": [
              "<IPython.core.display.HTML object>"
            ],
            "text/html": [
              "<span style=\"background-color:rgba(135,206,250,0.6485529);\">wine</span> <span style=\"background-color:rgba(135,206,250,0.44875735);\">review</span> <span style=\"background-color:rgba(135,206,250,0.32276663);\">:</span> <span style=\"background-color:rgba(135,206,250,0.38638687);\">germany</span> <span style=\"background-color:rgba(135,206,250,0.22026081);\">:</span> <span style=\"background-color:rgba(135,206,250,0.42479962);\">mosel</span> <span style=\"background-color:rgba(135,206,250,0.2471763);\">:</span> <span style=\"background-color:rgba(135,206,250,0.39239672);\">riesling</span> <span style=\"background-color:rgba(135,206,250,0.37582043);\">:</span> <span style=\"background-color:rgba(135,206,250,1.0);\">whiffs</span> <span style=\"background-color:rgba(135,206,250,0.25996184);\">of</span>"
            ]
          },
          "metadata": {}
        },
        {
          "output_type": "stream",
          "name": "stdout",
          "text": [
            "smoke:   \t57.67%\n",
            "green:   \t9.44%\n",
            "honey:   \t4.29%\n",
            "dried:   \t3.27%\n",
            "struck:   \t2.97%\n",
            "--------\n",
            "\n"
          ]
        },
        {
          "output_type": "display_data",
          "data": {
            "text/plain": [
              "<IPython.core.display.HTML object>"
            ],
            "text/html": [
              "<span style=\"background-color:rgba(135,206,250,1.0);\">wine</span> <span style=\"background-color:rgba(135,206,250,0.7522024);\">review</span> <span style=\"background-color:rgba(135,206,250,0.35440415);\">:</span> <span style=\"background-color:rgba(135,206,250,0.3338331);\">germany</span> <span style=\"background-color:rgba(135,206,250,0.2750996);\">:</span> <span style=\"background-color:rgba(135,206,250,0.14634292);\">mosel</span> <span style=\"background-color:rgba(135,206,250,0.23895471);\">:</span> <span style=\"background-color:rgba(135,206,250,0.10686661);\">riesling</span> <span style=\"background-color:rgba(135,206,250,0.36975637);\">:</span> <span style=\"background-color:rgba(135,206,250,0.7334686);\">whiffs</span> <span style=\"background-color:rgba(135,206,250,0.79315305);\">of</span> <span style=\"background-color:rgba(135,206,250,0.3863904);\">smoke</span>"
            ]
          },
          "metadata": {}
        },
        {
          "output_type": "stream",
          "name": "stdout",
          "text": [
            "and:   \t93.1%\n",
            ",:   \t6.9%\n",
            "lend:   \t0.0%\n",
            "lends:   \t0.0%\n",
            "seeps:   \t0.0%\n",
            "--------\n",
            "\n"
          ]
        },
        {
          "output_type": "display_data",
          "data": {
            "text/plain": [
              "<IPython.core.display.HTML object>"
            ],
            "text/html": [
              "<span style=\"background-color:rgba(135,206,250,0.24772191);\">wine</span> <span style=\"background-color:rgba(135,206,250,0.26075238);\">review</span> <span style=\"background-color:rgba(135,206,250,0.23825604);\">:</span> <span style=\"background-color:rgba(135,206,250,0.27048776);\">germany</span> <span style=\"background-color:rgba(135,206,250,0.14732477);\">:</span> <span style=\"background-color:rgba(135,206,250,0.20370935);\">mosel</span> <span style=\"background-color:rgba(135,206,250,0.102937594);\">:</span> <span style=\"background-color:rgba(135,206,250,0.21108544);\">riesling</span> <span style=\"background-color:rgba(135,206,250,0.16042018);\">:</span> <span style=\"background-color:rgba(135,206,250,0.49649724);\">whiffs</span> <span style=\"background-color:rgba(135,206,250,0.2590739);\">of</span> <span style=\"background-color:rgba(135,206,250,1.0);\">smoke</span> <span style=\"background-color:rgba(135,206,250,0.17715839);\">and</span>"
            ]
          },
          "metadata": {}
        },
        {
          "output_type": "stream",
          "name": "stdout",
          "text": [
            "crushed:   \t16.43%\n",
            "nuts:   \t16.4%\n",
            "slate:   \t15.74%\n",
            "struck:   \t12.26%\n",
            "earth:   \t8.66%\n",
            "--------\n",
            "\n"
          ]
        },
        {
          "output_type": "display_data",
          "data": {
            "text/plain": [
              "<IPython.core.display.HTML object>"
            ],
            "text/html": [
              "<span style=\"background-color:rgba(135,206,250,1.0);\">wine</span> <span style=\"background-color:rgba(135,206,250,0.9767166);\">review</span> <span style=\"background-color:rgba(135,206,250,0.46866336);\">:</span> <span style=\"background-color:rgba(135,206,250,0.53657126);\">germany</span> <span style=\"background-color:rgba(135,206,250,0.46116078);\">:</span> <span style=\"background-color:rgba(135,206,250,0.20016229);\">mosel</span> <span style=\"background-color:rgba(135,206,250,0.32917765);\">:</span> <span style=\"background-color:rgba(135,206,250,0.185538);\">riesling</span> <span style=\"background-color:rgba(135,206,250,0.4396117);\">:</span> <span style=\"background-color:rgba(135,206,250,0.945226);\">whiffs</span> <span style=\"background-color:rgba(135,206,250,0.9700943);\">of</span> <span style=\"background-color:rgba(135,206,250,0.514695);\">smoke</span> <span style=\"background-color:rgba(135,206,250,0.97289014);\">and</span> <span style=\"background-color:rgba(135,206,250,0.7775716);\">petrol</span>"
            ]
          },
          "metadata": {}
        },
        {
          "output_type": "stream",
          "name": "stdout",
          "text": [
            "lend:   \t78.88%\n",
            "are:   \t11.49%\n",
            "accent:   \t4.17%\n",
            "add:   \t1.99%\n",
            "waft:   \t0.9%\n",
            "--------\n",
            "\n"
          ]
        },
        {
          "output_type": "display_data",
          "data": {
            "text/plain": [
              "<IPython.core.display.HTML object>"
            ],
            "text/html": [
              "<span style=\"background-color:rgba(135,206,250,0.7742845);\">wine</span> <span style=\"background-color:rgba(135,206,250,0.8088789);\">review</span> <span style=\"background-color:rgba(135,206,250,0.3851065);\">:</span> <span style=\"background-color:rgba(135,206,250,0.25601885);\">germany</span> <span style=\"background-color:rgba(135,206,250,0.41886097);\">:</span> <span style=\"background-color:rgba(135,206,250,0.27353936);\">mosel</span> <span style=\"background-color:rgba(135,206,250,0.29935196);\">:</span> <span style=\"background-color:rgba(135,206,250,0.22083355);\">riesling</span> <span style=\"background-color:rgba(135,206,250,0.29920173);\">:</span> <span style=\"background-color:rgba(135,206,250,0.2827343);\">whiffs</span> <span style=\"background-color:rgba(135,206,250,0.2838427);\">of</span> <span style=\"background-color:rgba(135,206,250,0.43615755);\">smoke</span> <span style=\"background-color:rgba(135,206,250,0.48552412);\">and</span> <span style=\"background-color:rgba(135,206,250,1.0);\">petrol</span> <span style=\"background-color:rgba(135,206,250,0.37586012);\">lend</span>"
            ]
          },
          "metadata": {}
        },
        {
          "output_type": "stream",
          "name": "stdout",
          "text": [
            "a:   \t66.65%\n",
            "nuance:   \t12.67%\n",
            "an:   \t5.97%\n",
            "savoriness:   \t4.75%\n",
            "complexity:   \t4.62%\n",
            "--------\n",
            "\n"
          ]
        },
        {
          "output_type": "display_data",
          "data": {
            "text/plain": [
              "<IPython.core.display.HTML object>"
            ],
            "text/html": [
              "<span style=\"background-color:rgba(135,206,250,0.45946518);\">wine</span> <span style=\"background-color:rgba(135,206,250,0.49663174);\">review</span> <span style=\"background-color:rgba(135,206,250,0.31505314);\">:</span> <span style=\"background-color:rgba(135,206,250,0.330721);\">germany</span> <span style=\"background-color:rgba(135,206,250,0.2735444);\">:</span> <span style=\"background-color:rgba(135,206,250,0.29385823);\">mosel</span> <span style=\"background-color:rgba(135,206,250,0.18623844);\">:</span> <span style=\"background-color:rgba(135,206,250,0.2658723);\">riesling</span> <span style=\"background-color:rgba(135,206,250,0.27065614);\">:</span> <span style=\"background-color:rgba(135,206,250,0.2724134);\">whiffs</span> <span style=\"background-color:rgba(135,206,250,0.23598158);\">of</span> <span style=\"background-color:rgba(135,206,250,0.2662699);\">smoke</span> <span style=\"background-color:rgba(135,206,250,0.3379875);\">and</span> <span style=\"background-color:rgba(135,206,250,0.65344626);\">petrol</span> <span style=\"background-color:rgba(135,206,250,1.0);\">lend</span> <span style=\"background-color:rgba(135,206,250,0.31960148);\">an</span>"
            ]
          },
          "metadata": {}
        },
        {
          "output_type": "stream",
          "name": "stdout",
          "text": [
            "earthy:   \t63.63%\n",
            "exotic:   \t15.9%\n",
            "earthen:   \t7.75%\n",
            "herbaceous:   \t4.1%\n",
            "austere:   \t3.32%\n",
            "--------\n",
            "\n"
          ]
        },
        {
          "output_type": "display_data",
          "data": {
            "text/plain": [
              "<IPython.core.display.HTML object>"
            ],
            "text/html": [
              "<span style=\"background-color:rgba(135,206,250,0.19134241);\">wine</span> <span style=\"background-color:rgba(135,206,250,0.23776224);\">review</span> <span style=\"background-color:rgba(135,206,250,0.13095592);\">:</span> <span style=\"background-color:rgba(135,206,250,0.31833518);\">germany</span> <span style=\"background-color:rgba(135,206,250,0.096833535);\">:</span> <span style=\"background-color:rgba(135,206,250,0.13843808);\">mosel</span> <span style=\"background-color:rgba(135,206,250,0.099352695);\">:</span> <span style=\"background-color:rgba(135,206,250,0.25664252);\">riesling</span> <span style=\"background-color:rgba(135,206,250,0.13897449);\">:</span> <span style=\"background-color:rgba(135,206,250,0.21841899);\">whiffs</span> <span style=\"background-color:rgba(135,206,250,0.17125298);\">of</span> <span style=\"background-color:rgba(135,206,250,0.13464426);\">smoke</span> <span style=\"background-color:rgba(135,206,250,0.141885);\">and</span> <span style=\"background-color:rgba(135,206,250,0.27811596);\">petrol</span> <span style=\"background-color:rgba(135,206,250,1.0);\">lend</span> <span style=\"background-color:rgba(135,206,250,0.46648547);\">an</span> <span style=\"background-color:rgba(135,206,250,0.17171998);\">earthy</span>"
            ]
          },
          "metadata": {}
        },
        {
          "output_type": "stream",
          "name": "stdout",
          "text": [
            "tone:   \t98.37%\n",
            ",:   \t0.63%\n",
            "savoriness:   \t0.3%\n",
            "complexity:   \t0.28%\n",
            "elegance:   \t0.13%\n",
            "--------\n",
            "\n"
          ]
        },
        {
          "output_type": "display_data",
          "data": {
            "text/plain": [
              "<IPython.core.display.HTML object>"
            ],
            "text/html": [
              "<span style=\"background-color:rgba(135,206,250,0.23450436);\">wine</span> <span style=\"background-color:rgba(135,206,250,0.40611398);\">review</span> <span style=\"background-color:rgba(135,206,250,0.17811671);\">:</span> <span style=\"background-color:rgba(135,206,250,0.16105212);\">germany</span> <span style=\"background-color:rgba(135,206,250,0.1487693);\">:</span> <span style=\"background-color:rgba(135,206,250,0.06191311);\">mosel</span> <span style=\"background-color:rgba(135,206,250,0.09292547);\">:</span> <span style=\"background-color:rgba(135,206,250,0.0728912);\">riesling</span> <span style=\"background-color:rgba(135,206,250,0.12558937);\">:</span> <span style=\"background-color:rgba(135,206,250,0.171702);\">whiffs</span> <span style=\"background-color:rgba(135,206,250,0.13103919);\">of</span> <span style=\"background-color:rgba(135,206,250,0.08335833);\">smoke</span> <span style=\"background-color:rgba(135,206,250,0.11522448);\">and</span> <span style=\"background-color:rgba(135,206,250,0.21900883);\">petrol</span> <span style=\"background-color:rgba(135,206,250,1.0);\">lend</span> <span style=\"background-color:rgba(135,206,250,0.26804984);\">an</span> <span style=\"background-color:rgba(135,206,250,0.19374122);\">earthy</span> <span style=\"background-color:rgba(135,206,250,0.22665541);\">tone</span>"
            ]
          },
          "metadata": {}
        },
        {
          "output_type": "stream",
          "name": "stdout",
          "text": [
            "to:   \t100.0%\n",
            "on:   \t0.0%\n",
            "for:   \t0.0%\n",
            "and:   \t0.0%\n",
            "of:   \t0.0%\n",
            "--------\n",
            "\n"
          ]
        },
        {
          "output_type": "display_data",
          "data": {
            "text/plain": [
              "<IPython.core.display.HTML object>"
            ],
            "text/html": [
              "<span style=\"background-color:rgba(135,206,250,0.25476134);\">wine</span> <span style=\"background-color:rgba(135,206,250,0.28107277);\">review</span> <span style=\"background-color:rgba(135,206,250,0.17972307);\">:</span> <span style=\"background-color:rgba(135,206,250,0.20079525);\">germany</span> <span style=\"background-color:rgba(135,206,250,0.14888434);\">:</span> <span style=\"background-color:rgba(135,206,250,0.15985854);\">mosel</span> <span style=\"background-color:rgba(135,206,250,0.11509015);\">:</span> <span style=\"background-color:rgba(135,206,250,0.14909491);\">riesling</span> <span style=\"background-color:rgba(135,206,250,0.12246168);\">:</span> <span style=\"background-color:rgba(135,206,250,0.20057397);\">whiffs</span> <span style=\"background-color:rgba(135,206,250,0.11302761);\">of</span> <span style=\"background-color:rgba(135,206,250,0.143585);\">smoke</span> <span style=\"background-color:rgba(135,206,250,0.10457251);\">and</span> <span style=\"background-color:rgba(135,206,250,0.19038235);\">petrol</span> <span style=\"background-color:rgba(135,206,250,0.6575196);\">lend</span> <span style=\"background-color:rgba(135,206,250,0.25911972);\">an</span> <span style=\"background-color:rgba(135,206,250,0.29554445);\">earthy</span> <span style=\"background-color:rgba(135,206,250,1.0);\">tone</span> <span style=\"background-color:rgba(135,206,250,0.18792894);\">to</span>"
            ]
          },
          "metadata": {}
        },
        {
          "output_type": "stream",
          "name": "stdout",
          "text": [
            "this:   \t91.58%\n",
            "the:   \t2.73%\n",
            "fresh:   \t2.39%\n",
            "pressed:   \t1.87%\n",
            "a:   \t0.52%\n",
            "--------\n",
            "\n"
          ]
        },
        {
          "output_type": "display_data",
          "data": {
            "text/plain": [
              "<IPython.core.display.HTML object>"
            ],
            "text/html": [
              "<span style=\"background-color:rgba(135,206,250,0.23567772);\">wine</span> <span style=\"background-color:rgba(135,206,250,0.31807634);\">review</span> <span style=\"background-color:rgba(135,206,250,0.33968762);\">:</span> <span style=\"background-color:rgba(135,206,250,0.48165178);\">germany</span> <span style=\"background-color:rgba(135,206,250,0.23080266);\">:</span> <span style=\"background-color:rgba(135,206,250,0.22490622);\">mosel</span> <span style=\"background-color:rgba(135,206,250,0.19598855);\">:</span> <span style=\"background-color:rgba(135,206,250,0.4600106);\">riesling</span> <span style=\"background-color:rgba(135,206,250,0.22839966);\">:</span> <span style=\"background-color:rgba(135,206,250,0.26462942);\">whiffs</span> <span style=\"background-color:rgba(135,206,250,0.1928456);\">of</span> <span style=\"background-color:rgba(135,206,250,0.2032468);\">smoke</span> <span style=\"background-color:rgba(135,206,250,0.15548475);\">and</span> <span style=\"background-color:rgba(135,206,250,0.3120986);\">petrol</span> <span style=\"background-color:rgba(135,206,250,0.8123193);\">lend</span> <span style=\"background-color:rgba(135,206,250,0.31740832);\">an</span> <span style=\"background-color:rgba(135,206,250,0.33509418);\">earthy</span> <span style=\"background-color:rgba(135,206,250,1.0);\">tone</span> <span style=\"background-color:rgba(135,206,250,0.79574585);\">to</span> <span style=\"background-color:rgba(135,206,250,0.29316053);\">fresh</span>"
            ]
          },
          "metadata": {}
        },
        {
          "output_type": "stream",
          "name": "stdout",
          "text": [
            "apple:   \t69.59%\n",
            "green:   \t15.13%\n",
            "lemon:   \t3.45%\n",
            ",:   \t2.51%\n",
            "white:   \t2.27%\n",
            "--------\n",
            "\n"
          ]
        },
        {
          "output_type": "display_data",
          "data": {
            "text/plain": [
              "<IPython.core.display.HTML object>"
            ],
            "text/html": [
              "<span style=\"background-color:rgba(135,206,250,0.36311167);\">wine</span> <span style=\"background-color:rgba(135,206,250,0.4996842);\">review</span> <span style=\"background-color:rgba(135,206,250,0.34232238);\">:</span> <span style=\"background-color:rgba(135,206,250,0.5779289);\">germany</span> <span style=\"background-color:rgba(135,206,250,0.29568747);\">:</span> <span style=\"background-color:rgba(135,206,250,0.13424194);\">mosel</span> <span style=\"background-color:rgba(135,206,250,0.20484947);\">:</span> <span style=\"background-color:rgba(135,206,250,0.113382705);\">riesling</span> <span style=\"background-color:rgba(135,206,250,0.19895726);\">:</span> <span style=\"background-color:rgba(135,206,250,0.34066606);\">whiffs</span> <span style=\"background-color:rgba(135,206,250,0.23880981);\">of</span> <span style=\"background-color:rgba(135,206,250,0.2365566);\">smoke</span> <span style=\"background-color:rgba(135,206,250,0.17309313);\">and</span> <span style=\"background-color:rgba(135,206,250,0.17028925);\">petrol</span> <span style=\"background-color:rgba(135,206,250,0.55253005);\">lend</span> <span style=\"background-color:rgba(135,206,250,0.48718178);\">an</span> <span style=\"background-color:rgba(135,206,250,0.49489036);\">earthy</span> <span style=\"background-color:rgba(135,206,250,1.0);\">tone</span> <span style=\"background-color:rgba(135,206,250,0.7231626);\">to</span> <span style=\"background-color:rgba(135,206,250,0.7422747);\">fresh</span> <span style=\"background-color:rgba(135,206,250,0.33717415);\">apple</span>"
            ]
          },
          "metadata": {}
        },
        {
          "output_type": "stream",
          "name": "stdout",
          "text": [
            "and:   \t98.57%\n",
            "flavors:   \t0.52%\n",
            ",:   \t0.27%\n",
            "aromas:   \t0.17%\n",
            "notes:   \t0.13%\n",
            "--------\n",
            "\n"
          ]
        },
        {
          "output_type": "display_data",
          "data": {
            "text/plain": [
              "<IPython.core.display.HTML object>"
            ],
            "text/html": [
              "<span style=\"background-color:rgba(135,206,250,0.11803704);\">wine</span> <span style=\"background-color:rgba(135,206,250,0.16665095);\">review</span> <span style=\"background-color:rgba(135,206,250,0.17047942);\">:</span> <span style=\"background-color:rgba(135,206,250,0.30917692);\">germany</span> <span style=\"background-color:rgba(135,206,250,0.09982001);\">:</span> <span style=\"background-color:rgba(135,206,250,0.14596593);\">mosel</span> <span style=\"background-color:rgba(135,206,250,0.06657805);\">:</span> <span style=\"background-color:rgba(135,206,250,0.20796107);\">riesling</span> <span style=\"background-color:rgba(135,206,250,0.10327912);\">:</span> <span style=\"background-color:rgba(135,206,250,0.13989097);\">whiffs</span> <span style=\"background-color:rgba(135,206,250,0.061286215);\">of</span> <span style=\"background-color:rgba(135,206,250,0.09883612);\">smoke</span> <span style=\"background-color:rgba(135,206,250,0.051170748);\">and</span> <span style=\"background-color:rgba(135,206,250,0.15088369);\">petrol</span> <span style=\"background-color:rgba(135,206,250,0.28532588);\">lend</span> <span style=\"background-color:rgba(135,206,250,0.09869392);\">an</span> <span style=\"background-color:rgba(135,206,250,0.20007527);\">earthy</span> <span style=\"background-color:rgba(135,206,250,0.26604173);\">tone</span> <span style=\"background-color:rgba(135,206,250,0.252041);\">to</span> <span style=\"background-color:rgba(135,206,250,0.47530892);\">fresh</span> <span style=\"background-color:rgba(135,206,250,1.0);\">apple</span> <span style=\"background-color:rgba(135,206,250,0.23990315);\">and</span>"
            ]
          },
          "metadata": {}
        },
        {
          "output_type": "stream",
          "name": "stdout",
          "text": [
            "pear:   \t59.62%\n",
            "lemon:   \t13.81%\n",
            "citrus:   \t12.3%\n",
            "lime:   \t8.12%\n",
            "grapefruit:   \t1.44%\n",
            "--------\n",
            "\n"
          ]
        },
        {
          "output_type": "display_data",
          "data": {
            "text/plain": [
              "<IPython.core.display.HTML object>"
            ],
            "text/html": [
              "<span style=\"background-color:rgba(135,206,250,0.26027465);\">wine</span> <span style=\"background-color:rgba(135,206,250,0.4228534);\">review</span> <span style=\"background-color:rgba(135,206,250,0.27660546);\">:</span> <span style=\"background-color:rgba(135,206,250,0.47060716);\">germany</span> <span style=\"background-color:rgba(135,206,250,0.24583314);\">:</span> <span style=\"background-color:rgba(135,206,250,0.09530016);\">mosel</span> <span style=\"background-color:rgba(135,206,250,0.1586497);\">:</span> <span style=\"background-color:rgba(135,206,250,0.09191091);\">riesling</span> <span style=\"background-color:rgba(135,206,250,0.15392134);\">:</span> <span style=\"background-color:rgba(135,206,250,0.2696135);\">whiffs</span> <span style=\"background-color:rgba(135,206,250,0.20824482);\">of</span> <span style=\"background-color:rgba(135,206,250,0.15225269);\">smoke</span> <span style=\"background-color:rgba(135,206,250,0.11612308);\">and</span> <span style=\"background-color:rgba(135,206,250,0.11191353);\">petrol</span> <span style=\"background-color:rgba(135,206,250,0.3624844);\">lend</span> <span style=\"background-color:rgba(135,206,250,0.28250754);\">an</span> <span style=\"background-color:rgba(135,206,250,0.25297287);\">earthy</span> <span style=\"background-color:rgba(135,206,250,0.49604005);\">tone</span> <span style=\"background-color:rgba(135,206,250,0.38621646);\">to</span> <span style=\"background-color:rgba(135,206,250,0.34401757);\">fresh</span> <span style=\"background-color:rgba(135,206,250,0.20663357);\">apple</span> <span style=\"background-color:rgba(135,206,250,1.0);\">and</span> <span style=\"background-color:rgba(135,206,250,0.32241905);\">pear</span>"
            ]
          },
          "metadata": {}
        },
        {
          "output_type": "stream",
          "name": "stdout",
          "text": [
            "flavors:   \t69.15%\n",
            "notes:   \t16.47%\n",
            "on:   \t6.58%\n",
            "aromas:   \t6.44%\n",
            "in:   \t1.02%\n",
            "--------\n",
            "\n"
          ]
        },
        {
          "output_type": "display_data",
          "data": {
            "text/plain": [
              "<IPython.core.display.HTML object>"
            ],
            "text/html": [
              "<span style=\"background-color:rgba(135,206,250,0.3059915);\">wine</span> <span style=\"background-color:rgba(135,206,250,0.77899706);\">review</span> <span style=\"background-color:rgba(135,206,250,0.53773427);\">:</span> <span style=\"background-color:rgba(135,206,250,0.52601004);\">germany</span> <span style=\"background-color:rgba(135,206,250,0.3771024);\">:</span> <span style=\"background-color:rgba(135,206,250,0.13397199);\">mosel</span> <span style=\"background-color:rgba(135,206,250,0.19529365);\">:</span> <span style=\"background-color:rgba(135,206,250,0.13860808);\">riesling</span> <span style=\"background-color:rgba(135,206,250,0.20783894);\">:</span> <span style=\"background-color:rgba(135,206,250,0.29866168);\">whiffs</span> <span style=\"background-color:rgba(135,206,250,0.19462632);\">of</span> <span style=\"background-color:rgba(135,206,250,0.16783422);\">smoke</span> <span style=\"background-color:rgba(135,206,250,0.11462044);\">and</span> <span style=\"background-color:rgba(135,206,250,0.2102071);\">petrol</span> <span style=\"background-color:rgba(135,206,250,0.84999233);\">lend</span> <span style=\"background-color:rgba(135,206,250,0.16267644);\">an</span> <span style=\"background-color:rgba(135,206,250,0.16664773);\">earthy</span> <span style=\"background-color:rgba(135,206,250,0.42737404);\">tone</span> <span style=\"background-color:rgba(135,206,250,0.5684089);\">to</span> <span style=\"background-color:rgba(135,206,250,0.22831352);\">fresh</span> <span style=\"background-color:rgba(135,206,250,0.69083214);\">apple</span> <span style=\"background-color:rgba(135,206,250,0.7290425);\">and</span> <span style=\"background-color:rgba(135,206,250,1.0);\">pear</span> <span style=\"background-color:rgba(135,206,250,0.42802313);\">flavors</span>"
            ]
          },
          "metadata": {}
        },
        {
          "output_type": "stream",
          "name": "stdout",
          "text": [
            "on:   \t87.93%\n",
            "in:   \t11.81%\n",
            ".:   \t0.15%\n",
            ",:   \t0.04%\n",
            "and:   \t0.02%\n",
            "--------\n",
            "\n"
          ]
        },
        {
          "output_type": "display_data",
          "data": {
            "text/plain": [
              "<IPython.core.display.HTML object>"
            ],
            "text/html": [
              "<span style=\"background-color:rgba(135,206,250,0.38373032);\">wine</span> <span style=\"background-color:rgba(135,206,250,0.63868415);\">review</span> <span style=\"background-color:rgba(135,206,250,0.4963894);\">:</span> <span style=\"background-color:rgba(135,206,250,0.61854684);\">germany</span> <span style=\"background-color:rgba(135,206,250,0.43764612);\">:</span> <span style=\"background-color:rgba(135,206,250,0.29183245);\">mosel</span> <span style=\"background-color:rgba(135,206,250,0.21435536);\">:</span> <span style=\"background-color:rgba(135,206,250,0.31384563);\">riesling</span> <span style=\"background-color:rgba(135,206,250,0.25179076);\">:</span> <span style=\"background-color:rgba(135,206,250,0.24998032);\">whiffs</span> <span style=\"background-color:rgba(135,206,250,0.15867773);\">of</span> <span style=\"background-color:rgba(135,206,250,0.13836336);\">smoke</span> <span style=\"background-color:rgba(135,206,250,0.15122531);\">and</span> <span style=\"background-color:rgba(135,206,250,0.13348582);\">petrol</span> <span style=\"background-color:rgba(135,206,250,0.4598403);\">lend</span> <span style=\"background-color:rgba(135,206,250,0.16579798);\">an</span> <span style=\"background-color:rgba(135,206,250,0.21937984);\">earthy</span> <span style=\"background-color:rgba(135,206,250,0.3103562);\">tone</span> <span style=\"background-color:rgba(135,206,250,0.27645567);\">to</span> <span style=\"background-color:rgba(135,206,250,0.323449);\">fresh</span> <span style=\"background-color:rgba(135,206,250,0.43591884);\">apple</span> <span style=\"background-color:rgba(135,206,250,0.53546864);\">and</span> <span style=\"background-color:rgba(135,206,250,0.55825233);\">pear</span> <span style=\"background-color:rgba(135,206,250,1.0);\">flavors</span> <span style=\"background-color:rgba(135,206,250,0.5797264);\">on</span>"
            ]
          },
          "metadata": {}
        },
        {
          "output_type": "stream",
          "name": "stdout",
          "text": [
            "this:   \t88.98%\n",
            "the:   \t11.01%\n",
            "a:   \t0.01%\n",
            "nose:   \t0.0%\n",
            "an:   \t0.0%\n",
            "--------\n",
            "\n"
          ]
        },
        {
          "output_type": "display_data",
          "data": {
            "text/plain": [
              "<IPython.core.display.HTML object>"
            ],
            "text/html": [
              "<span style=\"background-color:rgba(135,206,250,0.17078441);\">wine</span> <span style=\"background-color:rgba(135,206,250,0.30161965);\">review</span> <span style=\"background-color:rgba(135,206,250,0.4396759);\">:</span> <span style=\"background-color:rgba(135,206,250,1.0);\">germany</span> <span style=\"background-color:rgba(135,206,250,0.33046505);\">:</span> <span style=\"background-color:rgba(135,206,250,0.25746018);\">mosel</span> <span style=\"background-color:rgba(135,206,250,0.13501054);\">:</span> <span style=\"background-color:rgba(135,206,250,0.43814698);\">riesling</span> <span style=\"background-color:rgba(135,206,250,0.17323272);\">:</span> <span style=\"background-color:rgba(135,206,250,0.23526597);\">whiffs</span> <span style=\"background-color:rgba(135,206,250,0.06627752);\">of</span> <span style=\"background-color:rgba(135,206,250,0.08759891);\">smoke</span> <span style=\"background-color:rgba(135,206,250,0.06142229);\">and</span> <span style=\"background-color:rgba(135,206,250,0.109695345);\">petrol</span> <span style=\"background-color:rgba(135,206,250,0.16975981);\">lend</span> <span style=\"background-color:rgba(135,206,250,0.057030044);\">an</span> <span style=\"background-color:rgba(135,206,250,0.10035662);\">earthy</span> <span style=\"background-color:rgba(135,206,250,0.15688394);\">tone</span> <span style=\"background-color:rgba(135,206,250,0.097648375);\">to</span> <span style=\"background-color:rgba(135,206,250,0.13578978);\">fresh</span> <span style=\"background-color:rgba(135,206,250,0.14844078);\">apple</span> <span style=\"background-color:rgba(135,206,250,0.16174573);\">and</span> <span style=\"background-color:rgba(135,206,250,0.2623385);\">pear</span> <span style=\"background-color:rgba(135,206,250,0.5360957);\">flavors</span> <span style=\"background-color:rgba(135,206,250,0.6746754);\">on</span> <span style=\"background-color:rgba(135,206,250,0.35830966);\">this</span>"
            ]
          },
          "metadata": {}
        },
        {
          "output_type": "stream",
          "name": "stdout",
          "text": [
            "dry:   \t87.57%\n",
            "off:   \t3.57%\n",
            "brisk:   \t1.58%\n",
            "spry:   \t1.17%\n",
            "light:   \t1.0%\n",
            "--------\n",
            "\n"
          ]
        },
        {
          "output_type": "display_data",
          "data": {
            "text/plain": [
              "<IPython.core.display.HTML object>"
            ],
            "text/html": [
              "<span style=\"background-color:rgba(135,206,250,0.111092195);\">wine</span> <span style=\"background-color:rgba(135,206,250,0.1710418);\">review</span> <span style=\"background-color:rgba(135,206,250,0.20623651);\">:</span> <span style=\"background-color:rgba(135,206,250,0.38203046);\">germany</span> <span style=\"background-color:rgba(135,206,250,0.12508227);\">:</span> <span style=\"background-color:rgba(135,206,250,0.15184107);\">mosel</span> <span style=\"background-color:rgba(135,206,250,0.09375138);\">:</span> <span style=\"background-color:rgba(135,206,250,0.33246705);\">riesling</span> <span style=\"background-color:rgba(135,206,250,0.12096331);\">:</span> <span style=\"background-color:rgba(135,206,250,0.1329541);\">whiffs</span> <span style=\"background-color:rgba(135,206,250,0.057746097);\">of</span> <span style=\"background-color:rgba(135,206,250,0.050823856);\">smoke</span> <span style=\"background-color:rgba(135,206,250,0.045657717);\">and</span> <span style=\"background-color:rgba(135,206,250,0.07551797);\">petrol</span> <span style=\"background-color:rgba(135,206,250,0.11724137);\">lend</span> <span style=\"background-color:rgba(135,206,250,0.033924576);\">an</span> <span style=\"background-color:rgba(135,206,250,0.050144482);\">earthy</span> <span style=\"background-color:rgba(135,206,250,0.10432939);\">tone</span> <span style=\"background-color:rgba(135,206,250,0.0632033);\">to</span> <span style=\"background-color:rgba(135,206,250,0.046216656);\">fresh</span> <span style=\"background-color:rgba(135,206,250,0.14709583);\">apple</span> <span style=\"background-color:rgba(135,206,250,0.10444331);\">and</span> <span style=\"background-color:rgba(135,206,250,0.20915368);\">pear</span> <span style=\"background-color:rgba(135,206,250,0.34885457);\">flavors</span> <span style=\"background-color:rgba(135,206,250,0.62580556);\">on</span> <span style=\"background-color:rgba(135,206,250,1.0);\">this</span> <span style=\"background-color:rgba(135,206,250,0.21385935);\">dry</span>"
            ]
          },
          "metadata": {}
        },
        {
          "output_type": "stream",
          "name": "stdout",
          "text": [
            ",:   \t78.45%\n",
            "riesling:   \t19.43%\n",
            "-:   \t0.74%\n",
            "wine:   \t0.25%\n",
            "palate:   \t0.2%\n",
            "--------\n",
            "\n"
          ]
        },
        {
          "output_type": "display_data",
          "data": {
            "text/plain": [
              "<IPython.core.display.HTML object>"
            ],
            "text/html": [
              "<span style=\"background-color:rgba(135,206,250,0.092860915);\">wine</span> <span style=\"background-color:rgba(135,206,250,0.18968926);\">review</span> <span style=\"background-color:rgba(135,206,250,0.22718987);\">:</span> <span style=\"background-color:rgba(135,206,250,0.40236205);\">germany</span> <span style=\"background-color:rgba(135,206,250,0.11687044);\">:</span> <span style=\"background-color:rgba(135,206,250,0.116252676);\">mosel</span> <span style=\"background-color:rgba(135,206,250,0.071293436);\">:</span> <span style=\"background-color:rgba(135,206,250,0.29130927);\">riesling</span> <span style=\"background-color:rgba(135,206,250,0.11227529);\">:</span> <span style=\"background-color:rgba(135,206,250,0.12647776);\">whiffs</span> <span style=\"background-color:rgba(135,206,250,0.07056291);\">of</span> <span style=\"background-color:rgba(135,206,250,0.06828887);\">smoke</span> <span style=\"background-color:rgba(135,206,250,0.062239643);\">and</span> <span style=\"background-color:rgba(135,206,250,0.14718868);\">petrol</span> <span style=\"background-color:rgba(135,206,250,0.17987603);\">lend</span> <span style=\"background-color:rgba(135,206,250,0.057756413);\">an</span> <span style=\"background-color:rgba(135,206,250,0.110106945);\">earthy</span> <span style=\"background-color:rgba(135,206,250,0.129945);\">tone</span> <span style=\"background-color:rgba(135,206,250,0.06675029);\">to</span> <span style=\"background-color:rgba(135,206,250,0.104263976);\">fresh</span> <span style=\"background-color:rgba(135,206,250,0.18597734);\">apple</span> <span style=\"background-color:rgba(135,206,250,0.21963517);\">and</span> <span style=\"background-color:rgba(135,206,250,0.31635925);\">pear</span> <span style=\"background-color:rgba(135,206,250,0.40735042);\">flavors</span> <span style=\"background-color:rgba(135,206,250,0.36036542);\">on</span> <span style=\"background-color:rgba(135,206,250,0.83763707);\">this</span> <span style=\"background-color:rgba(135,206,250,1.0);\">dry</span> <span style=\"background-color:rgba(135,206,250,0.3758865);\">,</span>"
            ]
          },
          "metadata": {}
        },
        {
          "output_type": "stream",
          "name": "stdout",
          "text": [
            "medium:   \t63.23%\n",
            "delicately:   \t9.0%\n",
            "full:   \t6.74%\n",
            "light:   \t5.08%\n",
            "off:   \t3.11%\n",
            "--------\n",
            "\n"
          ]
        },
        {
          "output_type": "display_data",
          "data": {
            "text/plain": [
              "<IPython.core.display.HTML object>"
            ],
            "text/html": [
              "<span style=\"background-color:rgba(135,206,250,0.29481667);\">wine</span> <span style=\"background-color:rgba(135,206,250,0.43915603);\">review</span> <span style=\"background-color:rgba(135,206,250,0.68544537);\">:</span> <span style=\"background-color:rgba(135,206,250,0.7227658);\">germany</span> <span style=\"background-color:rgba(135,206,250,0.4529605);\">:</span> <span style=\"background-color:rgba(135,206,250,0.26287034);\">mosel</span> <span style=\"background-color:rgba(135,206,250,0.26301995);\">:</span> <span style=\"background-color:rgba(135,206,250,0.5353494);\">riesling</span> <span style=\"background-color:rgba(135,206,250,0.27222118);\">:</span> <span style=\"background-color:rgba(135,206,250,0.16054437);\">whiffs</span> <span style=\"background-color:rgba(135,206,250,0.11952804);\">of</span> <span style=\"background-color:rgba(135,206,250,0.08078987);\">smoke</span> <span style=\"background-color:rgba(135,206,250,0.10774661);\">and</span> <span style=\"background-color:rgba(135,206,250,0.13086025);\">petrol</span> <span style=\"background-color:rgba(135,206,250,0.20571303);\">lend</span> <span style=\"background-color:rgba(135,206,250,0.096932314);\">an</span> <span style=\"background-color:rgba(135,206,250,0.092096195);\">earthy</span> <span style=\"background-color:rgba(135,206,250,0.13109292);\">tone</span> <span style=\"background-color:rgba(135,206,250,0.112734094);\">to</span> <span style=\"background-color:rgba(135,206,250,0.0720901);\">fresh</span> <span style=\"background-color:rgba(135,206,250,0.2118627);\">apple</span> <span style=\"background-color:rgba(135,206,250,0.1933915);\">and</span> <span style=\"background-color:rgba(135,206,250,0.25192285);\">pear</span> <span style=\"background-color:rgba(135,206,250,0.5480187);\">flavors</span> <span style=\"background-color:rgba(135,206,250,0.48448506);\">on</span> <span style=\"background-color:rgba(135,206,250,0.8900473);\">this</span> <span style=\"background-color:rgba(135,206,250,0.5989808);\">dry</span> <span style=\"background-color:rgba(135,206,250,1.0);\">,</span> <span style=\"background-color:rgba(135,206,250,0.7663941);\">medium</span>"
            ]
          },
          "metadata": {}
        },
        {
          "output_type": "stream",
          "name": "stdout",
          "text": [
            "-:   \t99.99%\n",
            "bodied:   \t0.01%\n",
            "dry:   \t0.0%\n",
            "riesling:   \t0.0%\n",
            "body:   \t0.0%\n",
            "--------\n",
            "\n"
          ]
        },
        {
          "output_type": "display_data",
          "data": {
            "text/plain": [
              "<IPython.core.display.HTML object>"
            ],
            "text/html": [
              "<span style=\"background-color:rgba(135,206,250,0.10987638);\">wine</span> <span style=\"background-color:rgba(135,206,250,0.16582409);\">review</span> <span style=\"background-color:rgba(135,206,250,0.118263654);\">:</span> <span style=\"background-color:rgba(135,206,250,0.19400977);\">germany</span> <span style=\"background-color:rgba(135,206,250,0.10720917);\">:</span> <span style=\"background-color:rgba(135,206,250,0.103373006);\">mosel</span> <span style=\"background-color:rgba(135,206,250,0.076718606);\">:</span> <span style=\"background-color:rgba(135,206,250,0.18557215);\">riesling</span> <span style=\"background-color:rgba(135,206,250,0.088912815);\">:</span> <span style=\"background-color:rgba(135,206,250,0.06729842);\">whiffs</span> <span style=\"background-color:rgba(135,206,250,0.059755318);\">of</span> <span style=\"background-color:rgba(135,206,250,0.038491894);\">smoke</span> <span style=\"background-color:rgba(135,206,250,0.046581432);\">and</span> <span style=\"background-color:rgba(135,206,250,0.045980066);\">petrol</span> <span style=\"background-color:rgba(135,206,250,0.08112971);\">lend</span> <span style=\"background-color:rgba(135,206,250,0.037083577);\">an</span> <span style=\"background-color:rgba(135,206,250,0.03457308);\">earthy</span> <span style=\"background-color:rgba(135,206,250,0.044859193);\">tone</span> <span style=\"background-color:rgba(135,206,250,0.043986846);\">to</span> <span style=\"background-color:rgba(135,206,250,0.038823716);\">fresh</span> <span style=\"background-color:rgba(135,206,250,0.07211597);\">apple</span> <span style=\"background-color:rgba(135,206,250,0.067037396);\">and</span> <span style=\"background-color:rgba(135,206,250,0.10237589);\">pear</span> <span style=\"background-color:rgba(135,206,250,0.12349172);\">flavors</span> <span style=\"background-color:rgba(135,206,250,0.11029391);\">on</span> <span style=\"background-color:rgba(135,206,250,0.2534467);\">this</span> <span style=\"background-color:rgba(135,206,250,0.50644004);\">dry</span> <span style=\"background-color:rgba(135,206,250,0.3464736);\">,</span> <span style=\"background-color:rgba(135,206,250,1.0);\">medium</span> <span style=\"background-color:rgba(135,206,250,0.07682948);\">-</span>"
            ]
          },
          "metadata": {}
        },
        {
          "output_type": "stream",
          "name": "stdout",
          "text": [
            "bodied:   \t99.87%\n",
            "sweet:   \t0.05%\n",
            "footed:   \t0.02%\n",
            "weight:   \t0.02%\n",
            "to:   \t0.01%\n",
            "--------\n",
            "\n"
          ]
        },
        {
          "output_type": "display_data",
          "data": {
            "text/plain": [
              "<IPython.core.display.HTML object>"
            ],
            "text/html": [
              "<span style=\"background-color:rgba(135,206,250,0.16201493);\">wine</span> <span style=\"background-color:rgba(135,206,250,0.3163613);\">review</span> <span style=\"background-color:rgba(135,206,250,0.32368013);\">:</span> <span style=\"background-color:rgba(135,206,250,0.6600657);\">germany</span> <span style=\"background-color:rgba(135,206,250,0.18239899);\">:</span> <span style=\"background-color:rgba(135,206,250,0.23363331);\">mosel</span> <span style=\"background-color:rgba(135,206,250,0.13795754);\">:</span> <span style=\"background-color:rgba(135,206,250,0.50639874);\">riesling</span> <span style=\"background-color:rgba(135,206,250,0.20765607);\">:</span> <span style=\"background-color:rgba(135,206,250,0.26760033);\">whiffs</span> <span style=\"background-color:rgba(135,206,250,0.080242716);\">of</span> <span style=\"background-color:rgba(135,206,250,0.053492732);\">smoke</span> <span style=\"background-color:rgba(135,206,250,0.061516903);\">and</span> <span style=\"background-color:rgba(135,206,250,0.09260139);\">petrol</span> <span style=\"background-color:rgba(135,206,250,0.1613688);\">lend</span> <span style=\"background-color:rgba(135,206,250,0.062354323);\">an</span> <span style=\"background-color:rgba(135,206,250,0.055443574);\">earthy</span> <span style=\"background-color:rgba(135,206,250,0.1306026);\">tone</span> <span style=\"background-color:rgba(135,206,250,0.073069476);\">to</span> <span style=\"background-color:rgba(135,206,250,0.050110307);\">fresh</span> <span style=\"background-color:rgba(135,206,250,0.11811626);\">apple</span> <span style=\"background-color:rgba(135,206,250,0.13317901);\">and</span> <span style=\"background-color:rgba(135,206,250,0.15461244);\">pear</span> <span style=\"background-color:rgba(135,206,250,0.44157872);\">flavors</span> <span style=\"background-color:rgba(135,206,250,0.43093577);\">on</span> <span style=\"background-color:rgba(135,206,250,1.0);\">this</span> <span style=\"background-color:rgba(135,206,250,0.22255652);\">dry</span> <span style=\"background-color:rgba(135,206,250,0.5945933);\">,</span> <span style=\"background-color:rgba(135,206,250,0.5377488);\">medium</span> <span style=\"background-color:rgba(135,206,250,0.26776794);\">-</span> <span style=\"background-color:rgba(135,206,250,0.30811682);\">bodied</span>"
            ]
          },
          "metadata": {}
        },
        {
          "output_type": "stream",
          "name": "stdout",
          "text": [
            "riesling:   \t93.46%\n",
            "kabinett:   \t5.79%\n",
            "palate:   \t0.23%\n",
            "wine:   \t0.23%\n",
            "dry:   \t0.13%\n",
            "--------\n",
            "\n"
          ]
        },
        {
          "output_type": "display_data",
          "data": {
            "text/plain": [
              "<IPython.core.display.HTML object>"
            ],
            "text/html": [
              "<span style=\"background-color:rgba(135,206,250,0.41683617);\">wine</span> <span style=\"background-color:rgba(135,206,250,0.9614443);\">review</span> <span style=\"background-color:rgba(135,206,250,0.66954225);\">:</span> <span style=\"background-color:rgba(135,206,250,0.7421955);\">germany</span> <span style=\"background-color:rgba(135,206,250,0.5394707);\">:</span> <span style=\"background-color:rgba(135,206,250,0.17833075);\">mosel</span> <span style=\"background-color:rgba(135,206,250,0.33265698);\">:</span> <span style=\"background-color:rgba(135,206,250,0.20484543);\">riesling</span> <span style=\"background-color:rgba(135,206,250,0.39917794);\">:</span> <span style=\"background-color:rgba(135,206,250,0.42889494);\">whiffs</span> <span style=\"background-color:rgba(135,206,250,0.19813909);\">of</span> <span style=\"background-color:rgba(135,206,250,0.12173567);\">smoke</span> <span style=\"background-color:rgba(135,206,250,0.14142735);\">and</span> <span style=\"background-color:rgba(135,206,250,0.115901545);\">petrol</span> <span style=\"background-color:rgba(135,206,250,0.54533225);\">lend</span> <span style=\"background-color:rgba(135,206,250,0.29183775);\">an</span> <span style=\"background-color:rgba(135,206,250,0.13678671);\">earthy</span> <span style=\"background-color:rgba(135,206,250,0.22808518);\">tone</span> <span style=\"background-color:rgba(135,206,250,0.22381048);\">to</span> <span style=\"background-color:rgba(135,206,250,0.10927684);\">fresh</span> <span style=\"background-color:rgba(135,206,250,0.17199594);\">apple</span> <span style=\"background-color:rgba(135,206,250,0.25562856);\">and</span> <span style=\"background-color:rgba(135,206,250,0.24223752);\">pear</span> <span style=\"background-color:rgba(135,206,250,0.6520568);\">flavors</span> <span style=\"background-color:rgba(135,206,250,0.52219665);\">on</span> <span style=\"background-color:rgba(135,206,250,0.93888414);\">this</span> <span style=\"background-color:rgba(135,206,250,0.44263047);\">dry</span> <span style=\"background-color:rgba(135,206,250,1.0);\">,</span> <span style=\"background-color:rgba(135,206,250,0.5788693);\">medium</span> <span style=\"background-color:rgba(135,206,250,0.8171172);\">-</span> <span style=\"background-color:rgba(135,206,250,0.763685);\">bodied</span> <span style=\"background-color:rgba(135,206,250,0.943415);\">riesling</span>"
            ]
          },
          "metadata": {}
        },
        {
          "output_type": "stream",
          "name": "stdout",
          "text": [
            ".:   \t99.99%\n",
            ",:   \t0.01%\n",
            "that:   \t0.0%\n",
            "from:   \t0.0%\n",
            "balances:   \t0.0%\n",
            "--------\n",
            "\n"
          ]
        },
        {
          "output_type": "display_data",
          "data": {
            "text/plain": [
              "<IPython.core.display.HTML object>"
            ],
            "text/html": [
              "<span style=\"background-color:rgba(135,206,250,0.20916668);\">wine</span> <span style=\"background-color:rgba(135,206,250,0.4358621);\">review</span> <span style=\"background-color:rgba(135,206,250,0.6489191);\">:</span> <span style=\"background-color:rgba(135,206,250,1.0);\">germany</span> <span style=\"background-color:rgba(135,206,250,0.5294088);\">:</span> <span style=\"background-color:rgba(135,206,250,0.30533248);\">mosel</span> <span style=\"background-color:rgba(135,206,250,0.29030713);\">:</span> <span style=\"background-color:rgba(135,206,250,0.33725655);\">riesling</span> <span style=\"background-color:rgba(135,206,250,0.17948742);\">:</span> <span style=\"background-color:rgba(135,206,250,0.14026456);\">whiffs</span> <span style=\"background-color:rgba(135,206,250,0.06039899);\">of</span> <span style=\"background-color:rgba(135,206,250,0.071846634);\">smoke</span> <span style=\"background-color:rgba(135,206,250,0.06122669);\">and</span> <span style=\"background-color:rgba(135,206,250,0.09119049);\">petrol</span> <span style=\"background-color:rgba(135,206,250,0.12482076);\">lend</span> <span style=\"background-color:rgba(135,206,250,0.052376196);\">an</span> <span style=\"background-color:rgba(135,206,250,0.08070348);\">earthy</span> <span style=\"background-color:rgba(135,206,250,0.11846789);\">tone</span> <span style=\"background-color:rgba(135,206,250,0.052424215);\">to</span> <span style=\"background-color:rgba(135,206,250,0.07132529);\">fresh</span> <span style=\"background-color:rgba(135,206,250,0.09219567);\">apple</span> <span style=\"background-color:rgba(135,206,250,0.06557618);\">and</span> <span style=\"background-color:rgba(135,206,250,0.104444884);\">pear</span> <span style=\"background-color:rgba(135,206,250,0.22239715);\">flavors</span> <span style=\"background-color:rgba(135,206,250,0.07137033);\">on</span> <span style=\"background-color:rgba(135,206,250,0.19249676);\">this</span> <span style=\"background-color:rgba(135,206,250,0.17368023);\">dry</span> <span style=\"background-color:rgba(135,206,250,0.11441166);\">,</span> <span style=\"background-color:rgba(135,206,250,0.19433518);\">medium</span> <span style=\"background-color:rgba(135,206,250,0.116248295);\">-</span> <span style=\"background-color:rgba(135,206,250,0.17096132);\">bodied</span> <span style=\"background-color:rgba(135,206,250,0.38227215);\">riesling</span> <span style=\"background-color:rgba(135,206,250,0.39589155);\">.</span>"
            ]
          },
          "metadata": {}
        },
        {
          "output_type": "stream",
          "name": "stdout",
          "text": [
            "it:   \t95.44%\n",
            "the:   \t1.06%\n",
            "brisk:   \t0.91%\n",
            "a:   \t0.35%\n",
            "while:   \t0.33%\n",
            "--------\n",
            "\n"
          ]
        },
        {
          "output_type": "display_data",
          "data": {
            "text/plain": [
              "<IPython.core.display.HTML object>"
            ],
            "text/html": [
              "<span style=\"background-color:rgba(135,206,250,0.049806137);\">wine</span> <span style=\"background-color:rgba(135,206,250,0.07176723);\">review</span> <span style=\"background-color:rgba(135,206,250,0.12979876);\">:</span> <span style=\"background-color:rgba(135,206,250,0.29205102);\">germany</span> <span style=\"background-color:rgba(135,206,250,0.08741713);\">:</span> <span style=\"background-color:rgba(135,206,250,0.06517268);\">mosel</span> <span style=\"background-color:rgba(135,206,250,0.044159643);\">:</span> <span style=\"background-color:rgba(135,206,250,0.058723677);\">riesling</span> <span style=\"background-color:rgba(135,206,250,0.050011694);\">:</span> <span style=\"background-color:rgba(135,206,250,0.06738462);\">whiffs</span> <span style=\"background-color:rgba(135,206,250,0.023373153);\">of</span> <span style=\"background-color:rgba(135,206,250,0.042500794);\">smoke</span> <span style=\"background-color:rgba(135,206,250,0.023013303);\">and</span> <span style=\"background-color:rgba(135,206,250,0.048292276);\">petrol</span> <span style=\"background-color:rgba(135,206,250,0.05138657);\">lend</span> <span style=\"background-color:rgba(135,206,250,0.018474149);\">an</span> <span style=\"background-color:rgba(135,206,250,0.04440025);\">earthy</span> <span style=\"background-color:rgba(135,206,250,0.079585314);\">tone</span> <span style=\"background-color:rgba(135,206,250,0.023223793);\">to</span> <span style=\"background-color:rgba(135,206,250,0.033348672);\">fresh</span> <span style=\"background-color:rgba(135,206,250,0.04516601);\">apple</span> <span style=\"background-color:rgba(135,206,250,0.028205043);\">and</span> <span style=\"background-color:rgba(135,206,250,0.04901869);\">pear</span> <span style=\"background-color:rgba(135,206,250,0.090806216);\">flavors</span> <span style=\"background-color:rgba(135,206,250,0.05340395);\">on</span> <span style=\"background-color:rgba(135,206,250,0.044066843);\">this</span> <span style=\"background-color:rgba(135,206,250,0.10699424);\">dry</span> <span style=\"background-color:rgba(135,206,250,0.09755108);\">,</span> <span style=\"background-color:rgba(135,206,250,0.15322167);\">medium</span> <span style=\"background-color:rgba(135,206,250,0.068248525);\">-</span> <span style=\"background-color:rgba(135,206,250,0.1547378);\">bodied</span> <span style=\"background-color:rgba(135,206,250,0.26698017);\">riesling</span> <span style=\"background-color:rgba(135,206,250,1.0);\">.</span> <span style=\"background-color:rgba(135,206,250,0.24098253);\">it</span>"
            ]
          },
          "metadata": {}
        },
        {
          "output_type": "stream",
          "name": "stdout",
          "text": [
            "':   \t99.73%\n",
            "finishes:   \t0.23%\n",
            "is:   \t0.02%\n",
            "has:   \t0.01%\n",
            "offers:   \t0.0%\n",
            "--------\n",
            "\n"
          ]
        },
        {
          "output_type": "display_data",
          "data": {
            "text/plain": [
              "<IPython.core.display.HTML object>"
            ],
            "text/html": [
              "<span style=\"background-color:rgba(135,206,250,0.09796599);\">wine</span> <span style=\"background-color:rgba(135,206,250,0.13289738);\">review</span> <span style=\"background-color:rgba(135,206,250,0.108763814);\">:</span> <span style=\"background-color:rgba(135,206,250,0.190928);\">germany</span> <span style=\"background-color:rgba(135,206,250,0.07905569);\">:</span> <span style=\"background-color:rgba(135,206,250,0.10656701);\">mosel</span> <span style=\"background-color:rgba(135,206,250,0.06586687);\">:</span> <span style=\"background-color:rgba(135,206,250,0.13694927);\">riesling</span> <span style=\"background-color:rgba(135,206,250,0.075460896);\">:</span> <span style=\"background-color:rgba(135,206,250,0.06537397);\">whiffs</span> <span style=\"background-color:rgba(135,206,250,0.036475044);\">of</span> <span style=\"background-color:rgba(135,206,250,0.031596746);\">smoke</span> <span style=\"background-color:rgba(135,206,250,0.03147549);\">and</span> <span style=\"background-color:rgba(135,206,250,0.03887466);\">petrol</span> <span style=\"background-color:rgba(135,206,250,0.057583444);\">lend</span> <span style=\"background-color:rgba(135,206,250,0.028466415);\">an</span> <span style=\"background-color:rgba(135,206,250,0.03839956);\">earthy</span> <span style=\"background-color:rgba(135,206,250,0.039154325);\">tone</span> <span style=\"background-color:rgba(135,206,250,0.029435541);\">to</span> <span style=\"background-color:rgba(135,206,250,0.031638168);\">fresh</span> <span style=\"background-color:rgba(135,206,250,0.04232737);\">apple</span> <span style=\"background-color:rgba(135,206,250,0.040574763);\">and</span> <span style=\"background-color:rgba(135,206,250,0.04410333);\">pear</span> <span style=\"background-color:rgba(135,206,250,0.08731282);\">flavors</span> <span style=\"background-color:rgba(135,206,250,0.044101268);\">on</span> <span style=\"background-color:rgba(135,206,250,0.06332562);\">this</span> <span style=\"background-color:rgba(135,206,250,0.078025825);\">dry</span> <span style=\"background-color:rgba(135,206,250,0.071634784);\">,</span> <span style=\"background-color:rgba(135,206,250,0.080334574);\">medium</span> <span style=\"background-color:rgba(135,206,250,0.06893955);\">-</span> <span style=\"background-color:rgba(135,206,250,0.1679149);\">bodied</span> <span style=\"background-color:rgba(135,206,250,0.47712865);\">riesling</span> <span style=\"background-color:rgba(135,206,250,0.68047136);\">.</span> <span style=\"background-color:rgba(135,206,250,1.0);\">it</span> <span style=\"background-color:rgba(135,206,250,0.116904624);\">'</span>"
            ]
          },
          "metadata": {}
        },
        {
          "output_type": "stream",
          "name": "stdout",
          "text": [
            "s:   \t100.0%\n",
            "ll:   \t0.0%\n",
            "12:   \t0.0%\n",
            "riesling:   \t0.0%\n",
            "[UNK]:   \t0.0%\n",
            "--------\n",
            "\n"
          ]
        },
        {
          "output_type": "display_data",
          "data": {
            "text/plain": [
              "<IPython.core.display.HTML object>"
            ],
            "text/html": [
              "<span style=\"background-color:rgba(135,206,250,0.08510744);\">wine</span> <span style=\"background-color:rgba(135,206,250,0.120247506);\">review</span> <span style=\"background-color:rgba(135,206,250,0.19360799);\">:</span> <span style=\"background-color:rgba(135,206,250,0.43710977);\">germany</span> <span style=\"background-color:rgba(135,206,250,0.111968815);\">:</span> <span style=\"background-color:rgba(135,206,250,0.13259369);\">mosel</span> <span style=\"background-color:rgba(135,206,250,0.066160135);\">:</span> <span style=\"background-color:rgba(135,206,250,0.19231533);\">riesling</span> <span style=\"background-color:rgba(135,206,250,0.08683804);\">:</span> <span style=\"background-color:rgba(135,206,250,0.08802067);\">whiffs</span> <span style=\"background-color:rgba(135,206,250,0.031014742);\">of</span> <span style=\"background-color:rgba(135,206,250,0.046747208);\">smoke</span> <span style=\"background-color:rgba(135,206,250,0.030874044);\">and</span> <span style=\"background-color:rgba(135,206,250,0.074935436);\">petrol</span> <span style=\"background-color:rgba(135,206,250,0.052944995);\">lend</span> <span style=\"background-color:rgba(135,206,250,0.020704782);\">an</span> <span style=\"background-color:rgba(135,206,250,0.06541507);\">earthy</span> <span style=\"background-color:rgba(135,206,250,0.07493707);\">tone</span> <span style=\"background-color:rgba(135,206,250,0.024313936);\">to</span> <span style=\"background-color:rgba(135,206,250,0.06247604);\">fresh</span> <span style=\"background-color:rgba(135,206,250,0.057597123);\">apple</span> <span style=\"background-color:rgba(135,206,250,0.038417354);\">and</span> <span style=\"background-color:rgba(135,206,250,0.06006274);\">pear</span> <span style=\"background-color:rgba(135,206,250,0.10764096);\">flavors</span> <span style=\"background-color:rgba(135,206,250,0.06860315);\">on</span> <span style=\"background-color:rgba(135,206,250,0.06580484);\">this</span> <span style=\"background-color:rgba(135,206,250,0.14486992);\">dry</span> <span style=\"background-color:rgba(135,206,250,0.10786922);\">,</span> <span style=\"background-color:rgba(135,206,250,0.19702165);\">medium</span> <span style=\"background-color:rgba(135,206,250,0.09987331);\">-</span> <span style=\"background-color:rgba(135,206,250,0.19371544);\">bodied</span> <span style=\"background-color:rgba(135,206,250,0.32419914);\">riesling</span> <span style=\"background-color:rgba(135,206,250,1.0);\">.</span> <span style=\"background-color:rgba(135,206,250,0.7913168);\">it</span> <span style=\"background-color:rgba(135,206,250,0.120189205);\">'</span> <span style=\"background-color:rgba(135,206,250,0.2128462);\">s</span>"
            ]
          },
          "metadata": {}
        },
        {
          "output_type": "stream",
          "name": "stdout",
          "text": [
            "refreshingly:   \t34.82%\n",
            "a:   \t33.71%\n",
            "dry:   \t15.04%\n",
            "brisk:   \t4.25%\n",
            "fresh:   \t1.43%\n",
            "--------\n",
            "\n"
          ]
        },
        {
          "output_type": "display_data",
          "data": {
            "text/plain": [
              "<IPython.core.display.HTML object>"
            ],
            "text/html": [
              "<span style=\"background-color:rgba(135,206,250,0.08017127);\">wine</span> <span style=\"background-color:rgba(135,206,250,0.11105966);\">review</span> <span style=\"background-color:rgba(135,206,250,0.19822961);\">:</span> <span style=\"background-color:rgba(135,206,250,0.5931869);\">germany</span> <span style=\"background-color:rgba(135,206,250,0.1122964);\">:</span> <span style=\"background-color:rgba(135,206,250,0.19645767);\">mosel</span> <span style=\"background-color:rgba(135,206,250,0.06613639);\">:</span> <span style=\"background-color:rgba(135,206,250,0.23835891);\">riesling</span> <span style=\"background-color:rgba(135,206,250,0.09489353);\">:</span> <span style=\"background-color:rgba(135,206,250,0.11163052);\">whiffs</span> <span style=\"background-color:rgba(135,206,250,0.033895742);\">of</span> <span style=\"background-color:rgba(135,206,250,0.053606633);\">smoke</span> <span style=\"background-color:rgba(135,206,250,0.030472);\">and</span> <span style=\"background-color:rgba(135,206,250,0.08634276);\">petrol</span> <span style=\"background-color:rgba(135,206,250,0.07007454);\">lend</span> <span style=\"background-color:rgba(135,206,250,0.029427854);\">an</span> <span style=\"background-color:rgba(135,206,250,0.073571965);\">earthy</span> <span style=\"background-color:rgba(135,206,250,0.076777555);\">tone</span> <span style=\"background-color:rgba(135,206,250,0.023137376);\">to</span> <span style=\"background-color:rgba(135,206,250,0.069096535);\">fresh</span> <span style=\"background-color:rgba(135,206,250,0.07571716);\">apple</span> <span style=\"background-color:rgba(135,206,250,0.035624184);\">and</span> <span style=\"background-color:rgba(135,206,250,0.07852482);\">pear</span> <span style=\"background-color:rgba(135,206,250,0.11501558);\">flavors</span> <span style=\"background-color:rgba(135,206,250,0.044565447);\">on</span> <span style=\"background-color:rgba(135,206,250,0.070927486);\">this</span> <span style=\"background-color:rgba(135,206,250,0.14244692);\">dry</span> <span style=\"background-color:rgba(135,206,250,0.07903224);\">,</span> <span style=\"background-color:rgba(135,206,250,0.22185914);\">medium</span> <span style=\"background-color:rgba(135,206,250,0.101855956);\">-</span> <span style=\"background-color:rgba(135,206,250,0.2013198);\">bodied</span> <span style=\"background-color:rgba(135,206,250,0.3834786);\">riesling</span> <span style=\"background-color:rgba(135,206,250,0.9052781);\">.</span> <span style=\"background-color:rgba(135,206,250,0.55292016);\">it</span> <span style=\"background-color:rgba(135,206,250,0.11684124);\">'</span> <span style=\"background-color:rgba(135,206,250,1.0);\">s</span> <span style=\"background-color:rgba(135,206,250,0.32930744);\">a</span>"
            ]
          },
          "metadata": {}
        },
        {
          "output_type": "stream",
          "name": "stdout",
          "text": [
            "bit:   \t69.7%\n",
            "refreshingly:   \t9.91%\n",
            "shade:   \t5.4%\n",
            "brisk:   \t2.28%\n",
            "touch:   \t1.41%\n",
            "--------\n",
            "\n"
          ]
        },
        {
          "output_type": "display_data",
          "data": {
            "text/plain": [
              "<IPython.core.display.HTML object>"
            ],
            "text/html": [
              "<span style=\"background-color:rgba(135,206,250,0.17376529);\">wine</span> <span style=\"background-color:rgba(135,206,250,0.31554058);\">review</span> <span style=\"background-color:rgba(135,206,250,0.7597956);\">:</span> <span style=\"background-color:rgba(135,206,250,1.0);\">germany</span> <span style=\"background-color:rgba(135,206,250,0.44447714);\">:</span> <span style=\"background-color:rgba(135,206,250,0.21348889);\">mosel</span> <span style=\"background-color:rgba(135,206,250,0.175861);\">:</span> <span style=\"background-color:rgba(135,206,250,0.24611932);\">riesling</span> <span style=\"background-color:rgba(135,206,250,0.16835761);\">:</span> <span style=\"background-color:rgba(135,206,250,0.12840548);\">whiffs</span> <span style=\"background-color:rgba(135,206,250,0.060073502);\">of</span> <span style=\"background-color:rgba(135,206,250,0.048890766);\">smoke</span> <span style=\"background-color:rgba(135,206,250,0.05213194);\">and</span> <span style=\"background-color:rgba(135,206,250,0.060113046);\">petrol</span> <span style=\"background-color:rgba(135,206,250,0.06708028);\">lend</span> <span style=\"background-color:rgba(135,206,250,0.041535284);\">an</span> <span style=\"background-color:rgba(135,206,250,0.060726408);\">earthy</span> <span style=\"background-color:rgba(135,206,250,0.054878943);\">tone</span> <span style=\"background-color:rgba(135,206,250,0.048272375);\">to</span> <span style=\"background-color:rgba(135,206,250,0.045191847);\">fresh</span> <span style=\"background-color:rgba(135,206,250,0.06476538);\">apple</span> <span style=\"background-color:rgba(135,206,250,0.056740813);\">and</span> <span style=\"background-color:rgba(135,206,250,0.067261);\">pear</span> <span style=\"background-color:rgba(135,206,250,0.14126359);\">flavors</span> <span style=\"background-color:rgba(135,206,250,0.060703997);\">on</span> <span style=\"background-color:rgba(135,206,250,0.07925029);\">this</span> <span style=\"background-color:rgba(135,206,250,0.106788024);\">dry</span> <span style=\"background-color:rgba(135,206,250,0.16404197);\">,</span> <span style=\"background-color:rgba(135,206,250,0.19130461);\">medium</span> <span style=\"background-color:rgba(135,206,250,0.10434055);\">-</span> <span style=\"background-color:rgba(135,206,250,0.21586965);\">bodied</span> <span style=\"background-color:rgba(135,206,250,0.355371);\">riesling</span> <span style=\"background-color:rgba(135,206,250,0.7592778);\">.</span> <span style=\"background-color:rgba(135,206,250,0.61760986);\">it</span> <span style=\"background-color:rgba(135,206,250,0.20434974);\">'</span> <span style=\"background-color:rgba(135,206,250,0.74041045);\">s</span> <span style=\"background-color:rgba(135,206,250,0.66442347);\">a</span> <span style=\"background-color:rgba(135,206,250,0.35018885);\">refreshingly</span>"
            ]
          },
          "metadata": {}
        },
        {
          "output_type": "stream",
          "name": "stdout",
          "text": [
            "quaffable:   \t70.85%\n",
            "spry:   \t7.77%\n",
            "tart:   \t6.31%\n",
            "crisp:   \t3.2%\n",
            "easy:   \t2.17%\n",
            "--------\n",
            "\n"
          ]
        },
        {
          "output_type": "display_data",
          "data": {
            "text/plain": [
              "<IPython.core.display.HTML object>"
            ],
            "text/html": [
              "<span style=\"background-color:rgba(135,206,250,0.0745003);\">wine</span> <span style=\"background-color:rgba(135,206,250,0.10089742);\">review</span> <span style=\"background-color:rgba(135,206,250,0.16993433);\">:</span> <span style=\"background-color:rgba(135,206,250,0.6010695);\">germany</span> <span style=\"background-color:rgba(135,206,250,0.09857881);\">:</span> <span style=\"background-color:rgba(135,206,250,0.1415926);\">mosel</span> <span style=\"background-color:rgba(135,206,250,0.088214286);\">:</span> <span style=\"background-color:rgba(135,206,250,0.33293435);\">riesling</span> <span style=\"background-color:rgba(135,206,250,0.09423072);\">:</span> <span style=\"background-color:rgba(135,206,250,0.10335396);\">whiffs</span> <span style=\"background-color:rgba(135,206,250,0.03988111);\">of</span> <span style=\"background-color:rgba(135,206,250,0.04710803);\">smoke</span> <span style=\"background-color:rgba(135,206,250,0.034442067);\">and</span> <span style=\"background-color:rgba(135,206,250,0.084237665);\">petrol</span> <span style=\"background-color:rgba(135,206,250,0.055894732);\">lend</span> <span style=\"background-color:rgba(135,206,250,0.023892844);\">an</span> <span style=\"background-color:rgba(135,206,250,0.053431723);\">earthy</span> <span style=\"background-color:rgba(135,206,250,0.06238948);\">tone</span> <span style=\"background-color:rgba(135,206,250,0.029995034);\">to</span> <span style=\"background-color:rgba(135,206,250,0.03140141);\">fresh</span> <span style=\"background-color:rgba(135,206,250,0.07366932);\">apple</span> <span style=\"background-color:rgba(135,206,250,0.03801616);\">and</span> <span style=\"background-color:rgba(135,206,250,0.07525616);\">pear</span> <span style=\"background-color:rgba(135,206,250,0.16766155);\">flavors</span> <span style=\"background-color:rgba(135,206,250,0.036054593);\">on</span> <span style=\"background-color:rgba(135,206,250,0.0681577);\">this</span> <span style=\"background-color:rgba(135,206,250,0.08514637);\">dry</span> <span style=\"background-color:rgba(135,206,250,0.062406994);\">,</span> <span style=\"background-color:rgba(135,206,250,0.12718171);\">medium</span> <span style=\"background-color:rgba(135,206,250,0.037257638);\">-</span> <span style=\"background-color:rgba(135,206,250,0.112690955);\">bodied</span> <span style=\"background-color:rgba(135,206,250,0.33573687);\">riesling</span> <span style=\"background-color:rgba(135,206,250,0.52578706);\">.</span> <span style=\"background-color:rgba(135,206,250,0.41043556);\">it</span> <span style=\"background-color:rgba(135,206,250,0.07009716);\">'</span> <span style=\"background-color:rgba(135,206,250,1.0);\">s</span> <span style=\"background-color:rgba(135,206,250,0.80185175);\">a</span> <span style=\"background-color:rgba(135,206,250,0.5601072);\">refreshingly</span> <span style=\"background-color:rgba(135,206,250,0.34401098);\">tart</span>"
            ]
          },
          "metadata": {}
        },
        {
          "output_type": "stream",
          "name": "stdout",
          "text": [
            ",:   \t68.72%\n",
            "and:   \t12.78%\n",
            "with:   \t4.51%\n",
            "riesling:   \t2.5%\n",
            "wine:   \t2.25%\n",
            "--------\n",
            "\n"
          ]
        },
        {
          "output_type": "display_data",
          "data": {
            "text/plain": [
              "<IPython.core.display.HTML object>"
            ],
            "text/html": [
              "<span style=\"background-color:rgba(135,206,250,0.04401995);\">wine</span> <span style=\"background-color:rgba(135,206,250,0.07130198);\">review</span> <span style=\"background-color:rgba(135,206,250,0.08212128);\">:</span> <span style=\"background-color:rgba(135,206,250,0.24460185);\">germany</span> <span style=\"background-color:rgba(135,206,250,0.05074868);\">:</span> <span style=\"background-color:rgba(135,206,250,0.09405451);\">mosel</span> <span style=\"background-color:rgba(135,206,250,0.03548299);\">:</span> <span style=\"background-color:rgba(135,206,250,0.13742219);\">riesling</span> <span style=\"background-color:rgba(135,206,250,0.04869078);\">:</span> <span style=\"background-color:rgba(135,206,250,0.04949852);\">whiffs</span> <span style=\"background-color:rgba(135,206,250,0.017464146);\">of</span> <span style=\"background-color:rgba(135,206,250,0.027311072);\">smoke</span> <span style=\"background-color:rgba(135,206,250,0.01998727);\">and</span> <span style=\"background-color:rgba(135,206,250,0.055008832);\">petrol</span> <span style=\"background-color:rgba(135,206,250,0.03270482);\">lend</span> <span style=\"background-color:rgba(135,206,250,0.021532668);\">an</span> <span style=\"background-color:rgba(135,206,250,0.041678935);\">earthy</span> <span style=\"background-color:rgba(135,206,250,0.036122985);\">tone</span> <span style=\"background-color:rgba(135,206,250,0.013974515);\">to</span> <span style=\"background-color:rgba(135,206,250,0.03146769);\">fresh</span> <span style=\"background-color:rgba(135,206,250,0.039751533);\">apple</span> <span style=\"background-color:rgba(135,206,250,0.022294018);\">and</span> <span style=\"background-color:rgba(135,206,250,0.042285178);\">pear</span> <span style=\"background-color:rgba(135,206,250,0.058907878);\">flavors</span> <span style=\"background-color:rgba(135,206,250,0.023833616);\">on</span> <span style=\"background-color:rgba(135,206,250,0.0327548);\">this</span> <span style=\"background-color:rgba(135,206,250,0.06484351);\">dry</span> <span style=\"background-color:rgba(135,206,250,0.031716116);\">,</span> <span style=\"background-color:rgba(135,206,250,0.09283338);\">medium</span> <span style=\"background-color:rgba(135,206,250,0.026462903);\">-</span> <span style=\"background-color:rgba(135,206,250,0.06829566);\">bodied</span> <span style=\"background-color:rgba(135,206,250,0.12957571);\">riesling</span> <span style=\"background-color:rgba(135,206,250,0.2080159);\">.</span> <span style=\"background-color:rgba(135,206,250,0.105742864);\">it</span> <span style=\"background-color:rgba(135,206,250,0.036333267);\">'</span> <span style=\"background-color:rgba(135,206,250,0.31710622);\">s</span> <span style=\"background-color:rgba(135,206,250,0.21730715);\">a</span> <span style=\"background-color:rgba(135,206,250,0.18757378);\">refreshingly</span> <span style=\"background-color:rgba(135,206,250,1.0);\">tart</span> <span style=\"background-color:rgba(135,206,250,0.27851692);\">and</span>"
            ]
          },
          "metadata": {}
        },
        {
          "output_type": "stream",
          "name": "stdout",
          "text": [
            "spry:   \t57.83%\n",
            "lean:   \t12.19%\n",
            "racy:   \t3.87%\n",
            "finishes:   \t2.65%\n",
            "brisk:   \t2.52%\n",
            "--------\n",
            "\n"
          ]
        },
        {
          "output_type": "display_data",
          "data": {
            "text/plain": [
              "<IPython.core.display.HTML object>"
            ],
            "text/html": [
              "<span style=\"background-color:rgba(135,206,250,0.05653552);\">wine</span> <span style=\"background-color:rgba(135,206,250,0.11946834);\">review</span> <span style=\"background-color:rgba(135,206,250,0.16895576);\">:</span> <span style=\"background-color:rgba(135,206,250,0.2956807);\">germany</span> <span style=\"background-color:rgba(135,206,250,0.09035456);\">:</span> <span style=\"background-color:rgba(135,206,250,0.09139417);\">mosel</span> <span style=\"background-color:rgba(135,206,250,0.07306673);\">:</span> <span style=\"background-color:rgba(135,206,250,0.22923931);\">riesling</span> <span style=\"background-color:rgba(135,206,250,0.08027272);\">:</span> <span style=\"background-color:rgba(135,206,250,0.06962149);\">whiffs</span> <span style=\"background-color:rgba(135,206,250,0.027812604);\">of</span> <span style=\"background-color:rgba(135,206,250,0.018133372);\">smoke</span> <span style=\"background-color:rgba(135,206,250,0.024640616);\">and</span> <span style=\"background-color:rgba(135,206,250,0.042001788);\">petrol</span> <span style=\"background-color:rgba(135,206,250,0.038112376);\">lend</span> <span style=\"background-color:rgba(135,206,250,0.015131745);\">an</span> <span style=\"background-color:rgba(135,206,250,0.023166558);\">earthy</span> <span style=\"background-color:rgba(135,206,250,0.034562662);\">tone</span> <span style=\"background-color:rgba(135,206,250,0.017638786);\">to</span> <span style=\"background-color:rgba(135,206,250,0.01712659);\">fresh</span> <span style=\"background-color:rgba(135,206,250,0.040560395);\">apple</span> <span style=\"background-color:rgba(135,206,250,0.031321615);\">and</span> <span style=\"background-color:rgba(135,206,250,0.044080425);\">pear</span> <span style=\"background-color:rgba(135,206,250,0.08690066);\">flavors</span> <span style=\"background-color:rgba(135,206,250,0.031425927);\">on</span> <span style=\"background-color:rgba(135,206,250,0.049148448);\">this</span> <span style=\"background-color:rgba(135,206,250,0.04721018);\">dry</span> <span style=\"background-color:rgba(135,206,250,0.047002673);\">,</span> <span style=\"background-color:rgba(135,206,250,0.07117577);\">medium</span> <span style=\"background-color:rgba(135,206,250,0.017993286);\">-</span> <span style=\"background-color:rgba(135,206,250,0.062450085);\">bodied</span> <span style=\"background-color:rgba(135,206,250,0.207453);\">riesling</span> <span style=\"background-color:rgba(135,206,250,0.42478716);\">.</span> <span style=\"background-color:rgba(135,206,250,0.23660831);\">it</span> <span style=\"background-color:rgba(135,206,250,0.05299666);\">'</span> <span style=\"background-color:rgba(135,206,250,0.46416482);\">s</span> <span style=\"background-color:rgba(135,206,250,0.4612964);\">a</span> <span style=\"background-color:rgba(135,206,250,0.26652998);\">refreshingly</span> <span style=\"background-color:rgba(135,206,250,0.19621402);\">tart</span> <span style=\"background-color:rgba(135,206,250,1.0);\">and</span> <span style=\"background-color:rgba(135,206,250,0.515573);\">spry</span>"
            ]
          },
          "metadata": {}
        },
        {
          "output_type": "stream",
          "name": "stdout",
          "text": [
            ",:   \t81.43%\n",
            "wine:   \t10.2%\n",
            "with:   \t2.38%\n",
            "on:   \t2.23%\n",
            "yet:   \t1.57%\n",
            "--------\n",
            "\n"
          ]
        },
        {
          "output_type": "display_data",
          "data": {
            "text/plain": [
              "<IPython.core.display.HTML object>"
            ],
            "text/html": [
              "<span style=\"background-color:rgba(135,206,250,0.043961607);\">wine</span> <span style=\"background-color:rgba(135,206,250,0.09747578);\">review</span> <span style=\"background-color:rgba(135,206,250,0.13058369);\">:</span> <span style=\"background-color:rgba(135,206,250,0.35193303);\">germany</span> <span style=\"background-color:rgba(135,206,250,0.06627126);\">:</span> <span style=\"background-color:rgba(135,206,250,0.08795448);\">mosel</span> <span style=\"background-color:rgba(135,206,250,0.046114005);\">:</span> <span style=\"background-color:rgba(135,206,250,0.21271816);\">riesling</span> <span style=\"background-color:rgba(135,206,250,0.06452872);\">:</span> <span style=\"background-color:rgba(135,206,250,0.067093566);\">whiffs</span> <span style=\"background-color:rgba(135,206,250,0.031101916);\">of</span> <span style=\"background-color:rgba(135,206,250,0.030328546);\">smoke</span> <span style=\"background-color:rgba(135,206,250,0.030376593);\">and</span> <span style=\"background-color:rgba(135,206,250,0.07484849);\">petrol</span> <span style=\"background-color:rgba(135,206,250,0.06592546);\">lend</span> <span style=\"background-color:rgba(135,206,250,0.024537504);\">an</span> <span style=\"background-color:rgba(135,206,250,0.045856643);\">earthy</span> <span style=\"background-color:rgba(135,206,250,0.045619365);\">tone</span> <span style=\"background-color:rgba(135,206,250,0.020975543);\">to</span> <span style=\"background-color:rgba(135,206,250,0.03136428);\">fresh</span> <span style=\"background-color:rgba(135,206,250,0.046696212);\">apple</span> <span style=\"background-color:rgba(135,206,250,0.033350997);\">and</span> <span style=\"background-color:rgba(135,206,250,0.056346532);\">pear</span> <span style=\"background-color:rgba(135,206,250,0.06755641);\">flavors</span> <span style=\"background-color:rgba(135,206,250,0.03738164);\">on</span> <span style=\"background-color:rgba(135,206,250,0.07903974);\">this</span> <span style=\"background-color:rgba(135,206,250,0.07202373);\">dry</span> <span style=\"background-color:rgba(135,206,250,0.03368773);\">,</span> <span style=\"background-color:rgba(135,206,250,0.091381624);\">medium</span> <span style=\"background-color:rgba(135,206,250,0.026229609);\">-</span> <span style=\"background-color:rgba(135,206,250,0.069464676);\">bodied</span> <span style=\"background-color:rgba(135,206,250,0.15363468);\">riesling</span> <span style=\"background-color:rgba(135,206,250,0.3209884);\">.</span> <span style=\"background-color:rgba(135,206,250,0.22735989);\">it</span> <span style=\"background-color:rgba(135,206,250,0.03283196);\">'</span> <span style=\"background-color:rgba(135,206,250,0.2549306);\">s</span> <span style=\"background-color:rgba(135,206,250,0.20074548);\">a</span> <span style=\"background-color:rgba(135,206,250,0.2694256);\">refreshingly</span> <span style=\"background-color:rgba(135,206,250,0.48235074);\">tart</span> <span style=\"background-color:rgba(135,206,250,0.88972163);\">and</span> <span style=\"background-color:rgba(135,206,250,1.0);\">spry</span> <span style=\"background-color:rgba(135,206,250,0.41835833);\">,</span>"
            ]
          },
          "metadata": {}
        },
        {
          "output_type": "stream",
          "name": "stdout",
          "text": [
            "finishing:   \t44.31%\n",
            "with:   \t33.35%\n",
            "but:   \t15.08%\n",
            "yet:   \t6.51%\n",
            "boasting:   \t0.16%\n",
            "--------\n",
            "\n"
          ]
        },
        {
          "output_type": "display_data",
          "data": {
            "text/plain": [
              "<IPython.core.display.HTML object>"
            ],
            "text/html": [
              "<span style=\"background-color:rgba(135,206,250,0.1478997);\">wine</span> <span style=\"background-color:rgba(135,206,250,0.23778619);\">review</span> <span style=\"background-color:rgba(135,206,250,0.5986336);\">:</span> <span style=\"background-color:rgba(135,206,250,0.9158951);\">germany</span> <span style=\"background-color:rgba(135,206,250,0.36251083);\">:</span> <span style=\"background-color:rgba(135,206,250,0.23441882);\">mosel</span> <span style=\"background-color:rgba(135,206,250,0.22539395);\">:</span> <span style=\"background-color:rgba(135,206,250,0.23370604);\">riesling</span> <span style=\"background-color:rgba(135,206,250,0.16293032);\">:</span> <span style=\"background-color:rgba(135,206,250,0.13337581);\">whiffs</span> <span style=\"background-color:rgba(135,206,250,0.07619043);\">of</span> <span style=\"background-color:rgba(135,206,250,0.09733284);\">smoke</span> <span style=\"background-color:rgba(135,206,250,0.06551124);\">and</span> <span style=\"background-color:rgba(135,206,250,0.12831904);\">petrol</span> <span style=\"background-color:rgba(135,206,250,0.045091312);\">lend</span> <span style=\"background-color:rgba(135,206,250,0.07384752);\">an</span> <span style=\"background-color:rgba(135,206,250,0.11283531);\">earthy</span> <span style=\"background-color:rgba(135,206,250,0.10150624);\">tone</span> <span style=\"background-color:rgba(135,206,250,0.04969709);\">to</span> <span style=\"background-color:rgba(135,206,250,0.080616534);\">fresh</span> <span style=\"background-color:rgba(135,206,250,0.08063672);\">apple</span> <span style=\"background-color:rgba(135,206,250,0.059682157);\">and</span> <span style=\"background-color:rgba(135,206,250,0.0839459);\">pear</span> <span style=\"background-color:rgba(135,206,250,0.110805914);\">flavors</span> <span style=\"background-color:rgba(135,206,250,0.06213827);\">on</span> <span style=\"background-color:rgba(135,206,250,0.06081112);\">this</span> <span style=\"background-color:rgba(135,206,250,0.12263538);\">dry</span> <span style=\"background-color:rgba(135,206,250,0.07445299);\">,</span> <span style=\"background-color:rgba(135,206,250,0.16271408);\">medium</span> <span style=\"background-color:rgba(135,206,250,0.04494587);\">-</span> <span style=\"background-color:rgba(135,206,250,0.0984465);\">bodied</span> <span style=\"background-color:rgba(135,206,250,0.16818896);\">riesling</span> <span style=\"background-color:rgba(135,206,250,0.33737844);\">.</span> <span style=\"background-color:rgba(135,206,250,0.13389434);\">it</span> <span style=\"background-color:rgba(135,206,250,0.07820612);\">'</span> <span style=\"background-color:rgba(135,206,250,0.28076243);\">s</span> <span style=\"background-color:rgba(135,206,250,0.35917318);\">a</span> <span style=\"background-color:rgba(135,206,250,0.26262993);\">refreshingly</span> <span style=\"background-color:rgba(135,206,250,0.34373087);\">tart</span> <span style=\"background-color:rgba(135,206,250,0.3927015);\">and</span> <span style=\"background-color:rgba(135,206,250,0.6184193);\">spry</span> <span style=\"background-color:rgba(135,206,250,0.9615714);\">,</span> <span style=\"background-color:rgba(135,206,250,1.0);\">finishing</span>"
            ]
          },
          "metadata": {}
        },
        {
          "output_type": "stream",
          "name": "stdout",
          "text": [
            "with:   \t90.66%\n",
            "on:   \t8.7%\n",
            "lean:   \t0.33%\n",
            "long:   \t0.07%\n",
            "dry:   \t0.05%\n",
            "--------\n",
            "\n"
          ]
        },
        {
          "output_type": "display_data",
          "data": {
            "text/plain": [
              "<IPython.core.display.HTML object>"
            ],
            "text/html": [
              "<span style=\"background-color:rgba(135,206,250,0.048002396);\">wine</span> <span style=\"background-color:rgba(135,206,250,0.06902803);\">review</span> <span style=\"background-color:rgba(135,206,250,0.20034426);\">:</span> <span style=\"background-color:rgba(135,206,250,0.42267576);\">germany</span> <span style=\"background-color:rgba(135,206,250,0.13028078);\">:</span> <span style=\"background-color:rgba(135,206,250,0.10780225);\">mosel</span> <span style=\"background-color:rgba(135,206,250,0.06046262);\">:</span> <span style=\"background-color:rgba(135,206,250,0.20976739);\">riesling</span> <span style=\"background-color:rgba(135,206,250,0.06314935);\">:</span> <span style=\"background-color:rgba(135,206,250,0.059727848);\">whiffs</span> <span style=\"background-color:rgba(135,206,250,0.018590072);\">of</span> <span style=\"background-color:rgba(135,206,250,0.040134884);\">smoke</span> <span style=\"background-color:rgba(135,206,250,0.026110534);\">and</span> <span style=\"background-color:rgba(135,206,250,0.0713243);\">petrol</span> <span style=\"background-color:rgba(135,206,250,0.0283145);\">lend</span> <span style=\"background-color:rgba(135,206,250,0.025946192);\">an</span> <span style=\"background-color:rgba(135,206,250,0.05704396);\">earthy</span> <span style=\"background-color:rgba(135,206,250,0.044379167);\">tone</span> <span style=\"background-color:rgba(135,206,250,0.014800277);\">to</span> <span style=\"background-color:rgba(135,206,250,0.0364762);\">fresh</span> <span style=\"background-color:rgba(135,206,250,0.047099266);\">apple</span> <span style=\"background-color:rgba(135,206,250,0.025127158);\">and</span> <span style=\"background-color:rgba(135,206,250,0.050252475);\">pear</span> <span style=\"background-color:rgba(135,206,250,0.086879104);\">flavors</span> <span style=\"background-color:rgba(135,206,250,0.02105929);\">on</span> <span style=\"background-color:rgba(135,206,250,0.035485573);\">this</span> <span style=\"background-color:rgba(135,206,250,0.067995295);\">dry</span> <span style=\"background-color:rgba(135,206,250,0.032201268);\">,</span> <span style=\"background-color:rgba(135,206,250,0.09893109);\">medium</span> <span style=\"background-color:rgba(135,206,250,0.02301249);\">-</span> <span style=\"background-color:rgba(135,206,250,0.06747266);\">bodied</span> <span style=\"background-color:rgba(135,206,250,0.10491095);\">riesling</span> <span style=\"background-color:rgba(135,206,250,0.14716463);\">.</span> <span style=\"background-color:rgba(135,206,250,0.059909843);\">it</span> <span style=\"background-color:rgba(135,206,250,0.017165799);\">'</span> <span style=\"background-color:rgba(135,206,250,0.07106535);\">s</span> <span style=\"background-color:rgba(135,206,250,0.071134135);\">a</span> <span style=\"background-color:rgba(135,206,250,0.09189781);\">refreshingly</span> <span style=\"background-color:rgba(135,206,250,0.27255866);\">tart</span> <span style=\"background-color:rgba(135,206,250,0.16102672);\">and</span> <span style=\"background-color:rgba(135,206,250,0.4050992);\">spry</span> <span style=\"background-color:rgba(135,206,250,0.3613291);\">,</span> <span style=\"background-color:rgba(135,206,250,1.0);\">finishing</span> <span style=\"background-color:rgba(135,206,250,0.29199553);\">with</span>"
            ]
          },
          "metadata": {}
        },
        {
          "output_type": "stream",
          "name": "stdout",
          "text": [
            "a:   \t96.34%\n",
            "hints:   \t0.64%\n",
            "brisk:   \t0.43%\n",
            "an:   \t0.43%\n",
            "reverberating:   \t0.38%\n",
            "--------\n",
            "\n"
          ]
        },
        {
          "output_type": "display_data",
          "data": {
            "text/plain": [
              "<IPython.core.display.HTML object>"
            ],
            "text/html": [
              "<span style=\"background-color:rgba(135,206,250,0.03912689);\">wine</span> <span style=\"background-color:rgba(135,206,250,0.051711176);\">review</span> <span style=\"background-color:rgba(135,206,250,0.08898697);\">:</span> <span style=\"background-color:rgba(135,206,250,0.36281824);\">germany</span> <span style=\"background-color:rgba(135,206,250,0.054905467);\">:</span> <span style=\"background-color:rgba(135,206,250,0.12702452);\">mosel</span> <span style=\"background-color:rgba(135,206,250,0.03735529);\">:</span> <span style=\"background-color:rgba(135,206,250,0.1532991);\">riesling</span> <span style=\"background-color:rgba(135,206,250,0.051673763);\">:</span> <span style=\"background-color:rgba(135,206,250,0.062230315);\">whiffs</span> <span style=\"background-color:rgba(135,206,250,0.017082753);\">of</span> <span style=\"background-color:rgba(135,206,250,0.029359212);\">smoke</span> <span style=\"background-color:rgba(135,206,250,0.01673166);\">and</span> <span style=\"background-color:rgba(135,206,250,0.04830054);\">petrol</span> <span style=\"background-color:rgba(135,206,250,0.033306565);\">lend</span> <span style=\"background-color:rgba(135,206,250,0.014473539);\">an</span> <span style=\"background-color:rgba(135,206,250,0.038628057);\">earthy</span> <span style=\"background-color:rgba(135,206,250,0.03832767);\">tone</span> <span style=\"background-color:rgba(135,206,250,0.010787435);\">to</span> <span style=\"background-color:rgba(135,206,250,0.033305034);\">fresh</span> <span style=\"background-color:rgba(135,206,250,0.037181683);\">apple</span> <span style=\"background-color:rgba(135,206,250,0.016535284);\">and</span> <span style=\"background-color:rgba(135,206,250,0.038270164);\">pear</span> <span style=\"background-color:rgba(135,206,250,0.053338964);\">flavors</span> <span style=\"background-color:rgba(135,206,250,0.014024227);\">on</span> <span style=\"background-color:rgba(135,206,250,0.024144517);\">this</span> <span style=\"background-color:rgba(135,206,250,0.060088646);\">dry</span> <span style=\"background-color:rgba(135,206,250,0.021241115);\">,</span> <span style=\"background-color:rgba(135,206,250,0.0975093);\">medium</span> <span style=\"background-color:rgba(135,206,250,0.014565979);\">-</span> <span style=\"background-color:rgba(135,206,250,0.05506156);\">bodied</span> <span style=\"background-color:rgba(135,206,250,0.07708893);\">riesling</span> <span style=\"background-color:rgba(135,206,250,0.09239971);\">.</span> <span style=\"background-color:rgba(135,206,250,0.04090062);\">it</span> <span style=\"background-color:rgba(135,206,250,0.009762314);\">'</span> <span style=\"background-color:rgba(135,206,250,0.063185826);\">s</span> <span style=\"background-color:rgba(135,206,250,0.02283829);\">a</span> <span style=\"background-color:rgba(135,206,250,0.081185505);\">refreshingly</span> <span style=\"background-color:rgba(135,206,250,0.1360648);\">tart</span> <span style=\"background-color:rgba(135,206,250,0.105868936);\">and</span> <span style=\"background-color:rgba(135,206,250,0.4634476);\">spry</span> <span style=\"background-color:rgba(135,206,250,0.25002196);\">,</span> <span style=\"background-color:rgba(135,206,250,1.0);\">finishing</span> <span style=\"background-color:rgba(135,206,250,0.7509279);\">with</span> <span style=\"background-color:rgba(135,206,250,0.18835331);\">a</span>"
            ]
          },
          "metadata": {}
        },
        {
          "output_type": "stream",
          "name": "stdout",
          "text": [
            "lingering:   \t20.56%\n",
            "hint:   \t18.35%\n",
            "touch:   \t14.69%\n",
            "reverberating:   \t12.26%\n",
            "shower:   \t9.34%\n",
            "--------\n",
            "\n"
          ]
        },
        {
          "output_type": "display_data",
          "data": {
            "text/plain": [
              "<IPython.core.display.HTML object>"
            ],
            "text/html": [
              "<span style=\"background-color:rgba(135,206,250,0.05288302);\">wine</span> <span style=\"background-color:rgba(135,206,250,0.08051309);\">review</span> <span style=\"background-color:rgba(135,206,250,0.1265156);\">:</span> <span style=\"background-color:rgba(135,206,250,0.39524037);\">germany</span> <span style=\"background-color:rgba(135,206,250,0.07690536);\">:</span> <span style=\"background-color:rgba(135,206,250,0.1454487);\">mosel</span> <span style=\"background-color:rgba(135,206,250,0.067008704);\">:</span> <span style=\"background-color:rgba(135,206,250,0.30183917);\">riesling</span> <span style=\"background-color:rgba(135,206,250,0.07816538);\">:</span> <span style=\"background-color:rgba(135,206,250,0.07562147);\">whiffs</span> <span style=\"background-color:rgba(135,206,250,0.022496983);\">of</span> <span style=\"background-color:rgba(135,206,250,0.024493095);\">smoke</span> <span style=\"background-color:rgba(135,206,250,0.026053408);\">and</span> <span style=\"background-color:rgba(135,206,250,0.044818655);\">petrol</span> <span style=\"background-color:rgba(135,206,250,0.033499323);\">lend</span> <span style=\"background-color:rgba(135,206,250,0.0121956235);\">an</span> <span style=\"background-color:rgba(135,206,250,0.025560891);\">earthy</span> <span style=\"background-color:rgba(135,206,250,0.033726435);\">tone</span> <span style=\"background-color:rgba(135,206,250,0.016097298);\">to</span> <span style=\"background-color:rgba(135,206,250,0.018948806);\">fresh</span> <span style=\"background-color:rgba(135,206,250,0.031093944);\">apple</span> <span style=\"background-color:rgba(135,206,250,0.024200208);\">and</span> <span style=\"background-color:rgba(135,206,250,0.03333374);\">pear</span> <span style=\"background-color:rgba(135,206,250,0.064526305);\">flavors</span> <span style=\"background-color:rgba(135,206,250,0.01869683);\">on</span> <span style=\"background-color:rgba(135,206,250,0.024142997);\">this</span> <span style=\"background-color:rgba(135,206,250,0.03450283);\">dry</span> <span style=\"background-color:rgba(135,206,250,0.029094119);\">,</span> <span style=\"background-color:rgba(135,206,250,0.057977527);\">medium</span> <span style=\"background-color:rgba(135,206,250,0.012299082);\">-</span> <span style=\"background-color:rgba(135,206,250,0.050795466);\">bodied</span> <span style=\"background-color:rgba(135,206,250,0.12410711);\">riesling</span> <span style=\"background-color:rgba(135,206,250,0.13429467);\">.</span> <span style=\"background-color:rgba(135,206,250,0.055156033);\">it</span> <span style=\"background-color:rgba(135,206,250,0.014660894);\">'</span> <span style=\"background-color:rgba(135,206,250,0.0780686);\">s</span> <span style=\"background-color:rgba(135,206,250,0.057602696);\">a</span> <span style=\"background-color:rgba(135,206,250,0.0697437);\">refreshingly</span> <span style=\"background-color:rgba(135,206,250,0.06605367);\">tart</span> <span style=\"background-color:rgba(135,206,250,0.10464972);\">and</span> <span style=\"background-color:rgba(135,206,250,0.20279789);\">spry</span> <span style=\"background-color:rgba(135,206,250,0.18914732);\">,</span> <span style=\"background-color:rgba(135,206,250,1.0);\">finishing</span> <span style=\"background-color:rgba(135,206,250,0.9771839);\">with</span> <span style=\"background-color:rgba(135,206,250,0.6918766);\">a</span> <span style=\"background-color:rgba(135,206,250,0.2752946);\">dry</span>"
            ]
          },
          "metadata": {}
        },
        {
          "output_type": "stream",
          "name": "stdout",
          "text": [
            ",:   \t64.62%\n",
            "mineral:   \t28.77%\n",
            "minerality:   \t3.19%\n",
            "lime:   \t1.07%\n",
            "elegance:   \t0.36%\n",
            "--------\n",
            "\n"
          ]
        },
        {
          "output_type": "display_data",
          "data": {
            "text/plain": [
              "<IPython.core.display.HTML object>"
            ],
            "text/html": [
              "<span style=\"background-color:rgba(135,206,250,0.07520911);\">wine</span> <span style=\"background-color:rgba(135,206,250,0.12682813);\">review</span> <span style=\"background-color:rgba(135,206,250,0.20865881);\">:</span> <span style=\"background-color:rgba(135,206,250,0.37503093);\">germany</span> <span style=\"background-color:rgba(135,206,250,0.1738145);\">:</span> <span style=\"background-color:rgba(135,206,250,0.08292157);\">mosel</span> <span style=\"background-color:rgba(135,206,250,0.103780836);\">:</span> <span style=\"background-color:rgba(135,206,250,0.0956528);\">riesling</span> <span style=\"background-color:rgba(135,206,250,0.081389084);\">:</span> <span style=\"background-color:rgba(135,206,250,0.09176915);\">whiffs</span> <span style=\"background-color:rgba(135,206,250,0.052414328);\">of</span> <span style=\"background-color:rgba(135,206,250,0.028251262);\">smoke</span> <span style=\"background-color:rgba(135,206,250,0.027747272);\">and</span> <span style=\"background-color:rgba(135,206,250,0.0317294);\">petrol</span> <span style=\"background-color:rgba(135,206,250,0.047679007);\">lend</span> <span style=\"background-color:rgba(135,206,250,0.028894892);\">an</span> <span style=\"background-color:rgba(135,206,250,0.03236621);\">earthy</span> <span style=\"background-color:rgba(135,206,250,0.042477444);\">tone</span> <span style=\"background-color:rgba(135,206,250,0.036057826);\">to</span> <span style=\"background-color:rgba(135,206,250,0.0153048);\">fresh</span> <span style=\"background-color:rgba(135,206,250,0.03403764);\">apple</span> <span style=\"background-color:rgba(135,206,250,0.02628374);\">and</span> <span style=\"background-color:rgba(135,206,250,0.036338445);\">pear</span> <span style=\"background-color:rgba(135,206,250,0.1023354);\">flavors</span> <span style=\"background-color:rgba(135,206,250,0.038326755);\">on</span> <span style=\"background-color:rgba(135,206,250,0.056667812);\">this</span> <span style=\"background-color:rgba(135,206,250,0.041996203);\">dry</span> <span style=\"background-color:rgba(135,206,250,0.046112254);\">,</span> <span style=\"background-color:rgba(135,206,250,0.07639325);\">medium</span> <span style=\"background-color:rgba(135,206,250,0.023145873);\">-</span> <span style=\"background-color:rgba(135,206,250,0.0628903);\">bodied</span> <span style=\"background-color:rgba(135,206,250,0.08539991);\">riesling</span> <span style=\"background-color:rgba(135,206,250,0.2177679);\">.</span> <span style=\"background-color:rgba(135,206,250,0.11732541);\">it</span> <span style=\"background-color:rgba(135,206,250,0.033418186);\">'</span> <span style=\"background-color:rgba(135,206,250,0.13705292);\">s</span> <span style=\"background-color:rgba(135,206,250,0.11530156);\">a</span> <span style=\"background-color:rgba(135,206,250,0.14281115);\">refreshingly</span> <span style=\"background-color:rgba(135,206,250,0.073547125);\">tart</span> <span style=\"background-color:rgba(135,206,250,0.16725862);\">and</span> <span style=\"background-color:rgba(135,206,250,0.19186941);\">spry</span> <span style=\"background-color:rgba(135,206,250,0.24346896);\">,</span> <span style=\"background-color:rgba(135,206,250,1.0);\">finishing</span> <span style=\"background-color:rgba(135,206,250,0.8686772);\">with</span> <span style=\"background-color:rgba(135,206,250,0.8061514);\">a</span> <span style=\"background-color:rgba(135,206,250,0.5492288);\">dry</span> <span style=\"background-color:rgba(135,206,250,0.3803481);\">mineral</span>"
            ]
          },
          "metadata": {}
        },
        {
          "output_type": "stream",
          "name": "stdout",
          "text": [
            "tone:   \t72.6%\n",
            "note:   \t20.23%\n",
            "edge:   \t2.86%\n",
            "streak:   \t2.4%\n",
            "-:   \t1.05%\n",
            "--------\n",
            "\n"
          ]
        },
        {
          "output_type": "display_data",
          "data": {
            "text/plain": [
              "<IPython.core.display.HTML object>"
            ],
            "text/html": [
              "<span style=\"background-color:rgba(135,206,250,0.06679366);\">wine</span> <span style=\"background-color:rgba(135,206,250,0.16965915);\">review</span> <span style=\"background-color:rgba(135,206,250,0.290355);\">:</span> <span style=\"background-color:rgba(135,206,250,0.34457973);\">germany</span> <span style=\"background-color:rgba(135,206,250,0.2013955);\">:</span> <span style=\"background-color:rgba(135,206,250,0.06437771);\">mosel</span> <span style=\"background-color:rgba(135,206,250,0.086310335);\">:</span> <span style=\"background-color:rgba(135,206,250,0.0935795);\">riesling</span> <span style=\"background-color:rgba(135,206,250,0.080650724);\">:</span> <span style=\"background-color:rgba(135,206,250,0.08256315);\">whiffs</span> <span style=\"background-color:rgba(135,206,250,0.037322942);\">of</span> <span style=\"background-color:rgba(135,206,250,0.02561477);\">smoke</span> <span style=\"background-color:rgba(135,206,250,0.02548035);\">and</span> <span style=\"background-color:rgba(135,206,250,0.030212881);\">petrol</span> <span style=\"background-color:rgba(135,206,250,0.101509534);\">lend</span> <span style=\"background-color:rgba(135,206,250,0.025485922);\">an</span> <span style=\"background-color:rgba(135,206,250,0.021894492);\">earthy</span> <span style=\"background-color:rgba(135,206,250,0.028781228);\">tone</span> <span style=\"background-color:rgba(135,206,250,0.034844182);\">to</span> <span style=\"background-color:rgba(135,206,250,0.01116448);\">fresh</span> <span style=\"background-color:rgba(135,206,250,0.036092427);\">apple</span> <span style=\"background-color:rgba(135,206,250,0.022359269);\">and</span> <span style=\"background-color:rgba(135,206,250,0.039728116);\">pear</span> <span style=\"background-color:rgba(135,206,250,0.07619782);\">flavors</span> <span style=\"background-color:rgba(135,206,250,0.042205602);\">on</span> <span style=\"background-color:rgba(135,206,250,0.068372436);\">this</span> <span style=\"background-color:rgba(135,206,250,0.027533695);\">dry</span> <span style=\"background-color:rgba(135,206,250,0.055783313);\">,</span> <span style=\"background-color:rgba(135,206,250,0.05878152);\">medium</span> <span style=\"background-color:rgba(135,206,250,0.034767516);\">-</span> <span style=\"background-color:rgba(135,206,250,0.042781226);\">bodied</span> <span style=\"background-color:rgba(135,206,250,0.07482214);\">riesling</span> <span style=\"background-color:rgba(135,206,250,0.26872668);\">.</span> <span style=\"background-color:rgba(135,206,250,0.1524078);\">it</span> <span style=\"background-color:rgba(135,206,250,0.04031927);\">'</span> <span style=\"background-color:rgba(135,206,250,0.087824024);\">s</span> <span style=\"background-color:rgba(135,206,250,0.10118577);\">a</span> <span style=\"background-color:rgba(135,206,250,0.1331623);\">refreshingly</span> <span style=\"background-color:rgba(135,206,250,0.078357406);\">tart</span> <span style=\"background-color:rgba(135,206,250,0.1445094);\">and</span> <span style=\"background-color:rgba(135,206,250,0.17922375);\">spry</span> <span style=\"background-color:rgba(135,206,250,0.35335234);\">,</span> <span style=\"background-color:rgba(135,206,250,0.8392842);\">finishing</span> <span style=\"background-color:rgba(135,206,250,1.0);\">with</span> <span style=\"background-color:rgba(135,206,250,0.47229734);\">a</span> <span style=\"background-color:rgba(135,206,250,0.2924559);\">dry</span> <span style=\"background-color:rgba(135,206,250,0.8997812);\">mineral</span> <span style=\"background-color:rgba(135,206,250,0.4113583);\">tone</span>"
            ]
          },
          "metadata": {}
        },
        {
          "output_type": "stream",
          "name": "stdout",
          "text": [
            ".:   \t98.93%\n",
            "and:   \t0.49%\n",
            "that:   \t0.44%\n",
            "of:   \t0.12%\n",
            ",:   \t0.0%\n",
            "--------\n",
            "\n"
          ]
        },
        {
          "output_type": "display_data",
          "data": {
            "text/plain": [
              "<IPython.core.display.HTML object>"
            ],
            "text/html": [
              "<span style=\"background-color:rgba(135,206,250,0.08644782);\">wine</span> <span style=\"background-color:rgba(135,206,250,0.15307292);\">review</span> <span style=\"background-color:rgba(135,206,250,0.6486462);\">:</span> <span style=\"background-color:rgba(135,206,250,1.0);\">germany</span> <span style=\"background-color:rgba(135,206,250,0.43425867);\">:</span> <span style=\"background-color:rgba(135,206,250,0.36151242);\">mosel</span> <span style=\"background-color:rgba(135,206,250,0.26284105);\">:</span> <span style=\"background-color:rgba(135,206,250,0.35560355);\">riesling</span> <span style=\"background-color:rgba(135,206,250,0.15059742);\">:</span> <span style=\"background-color:rgba(135,206,250,0.08350552);\">whiffs</span> <span style=\"background-color:rgba(135,206,250,0.03096054);\">of</span> <span style=\"background-color:rgba(135,206,250,0.040478583);\">smoke</span> <span style=\"background-color:rgba(135,206,250,0.037497);\">and</span> <span style=\"background-color:rgba(135,206,250,0.055670254);\">petrol</span> <span style=\"background-color:rgba(135,206,250,0.05168168);\">lend</span> <span style=\"background-color:rgba(135,206,250,0.027218392);\">an</span> <span style=\"background-color:rgba(135,206,250,0.043094233);\">earthy</span> <span style=\"background-color:rgba(135,206,250,0.053790074);\">tone</span> <span style=\"background-color:rgba(135,206,250,0.024208818);\">to</span> <span style=\"background-color:rgba(135,206,250,0.033033557);\">fresh</span> <span style=\"background-color:rgba(135,206,250,0.04134134);\">apple</span> <span style=\"background-color:rgba(135,206,250,0.031552907);\">and</span> <span style=\"background-color:rgba(135,206,250,0.049359992);\">pear</span> <span style=\"background-color:rgba(135,206,250,0.09557088);\">flavors</span> <span style=\"background-color:rgba(135,206,250,0.024961034);\">on</span> <span style=\"background-color:rgba(135,206,250,0.06509483);\">this</span> <span style=\"background-color:rgba(135,206,250,0.064180985);\">dry</span> <span style=\"background-color:rgba(135,206,250,0.037233412);\">,</span> <span style=\"background-color:rgba(135,206,250,0.08038927);\">medium</span> <span style=\"background-color:rgba(135,206,250,0.029618489);\">-</span> <span style=\"background-color:rgba(135,206,250,0.06002719);\">bodied</span> <span style=\"background-color:rgba(135,206,250,0.08630493);\">riesling</span> <span style=\"background-color:rgba(135,206,250,0.0969675);\">.</span> <span style=\"background-color:rgba(135,206,250,0.06128209);\">it</span> <span style=\"background-color:rgba(135,206,250,0.013499854);\">'</span> <span style=\"background-color:rgba(135,206,250,0.06406998);\">s</span> <span style=\"background-color:rgba(135,206,250,0.043760933);\">a</span> <span style=\"background-color:rgba(135,206,250,0.09022332);\">refreshingly</span> <span style=\"background-color:rgba(135,206,250,0.082670175);\">tart</span> <span style=\"background-color:rgba(135,206,250,0.063471794);\">and</span> <span style=\"background-color:rgba(135,206,250,0.18656597);\">spry</span> <span style=\"background-color:rgba(135,206,250,0.07776239);\">,</span> <span style=\"background-color:rgba(135,206,250,0.3587117);\">finishing</span> <span style=\"background-color:rgba(135,206,250,0.13207462);\">with</span> <span style=\"background-color:rgba(135,206,250,0.11352282);\">a</span> <span style=\"background-color:rgba(135,206,250,0.20259003);\">dry</span> <span style=\"background-color:rgba(135,206,250,0.18154147);\">mineral</span> <span style=\"background-color:rgba(135,206,250,0.18633457);\">tone</span> <span style=\"background-color:rgba(135,206,250,0.3805691);\">.</span>"
            ]
          },
          "metadata": {}
        },
        {
          "output_type": "stream",
          "name": "stdout",
          "text": [
            ":   \t60.18%\n",
            "drink:   \t39.67%\n",
            "enjoy:   \t0.1%\n",
            "it:   \t0.04%\n",
            "drinks:   \t0.0%\n",
            "--------\n",
            "\n"
          ]
        }
      ]
    },
    {
      "cell_type": "code",
      "source": [
        "info = text_generator.generate(\n",
        "    \"wine review : india\", max_tokens=80, temperature=0.5\n",
        ")"
      ],
      "metadata": {
        "colab": {
          "base_uri": "https://localhost:8080/"
        },
        "id": "QtLNSMV7b4dl",
        "outputId": "9658b141-a69b-4ddd-e527-426365294622"
      },
      "execution_count": 43,
      "outputs": [
        {
          "output_type": "stream",
          "name": "stdout",
          "text": [
            "\n",
            "generated text:\n",
            "wine review : india : nashik : sauvignon blanc : this wine is on the nose , with notes of green apple and lemon . it has a strong sense of coolness , with a slight green note of bell pepper on the palate . creamy flavors of green apple and freshly cut grass , green apple and green pear . \n",
            "\n"
          ]
        }
      ]
    },
    {
      "cell_type": "code",
      "source": [
        "info = text_generator.generate(\n",
        "    \"wine review : india\", max_tokens=80, temperature=1\n",
        ")"
      ],
      "metadata": {
        "colab": {
          "base_uri": "https://localhost:8080/"
        },
        "id": "o1Q-KjgRes2O",
        "outputId": "7f21532b-f8e9-4ba5-8712-6aa24b9e4c0a"
      },
      "execution_count": 46,
      "outputs": [
        {
          "output_type": "stream",
          "name": "stdout",
          "text": [
            "\n",
            "generated text:\n",
            "wine review : india : nashik : shiraz : a perennially impresses among the ' 07 single - vineyard site , this elegant yet abundantly fruited wine boasts deep violet notes of oregano , black currant and cigar box . it comes across as well as purity . it should be cellared through 2020 . \n",
            "\n"
          ]
        }
      ]
    },
    {
      "cell_type": "code",
      "source": [
        "print_probs(info, vocab)"
      ],
      "metadata": {
        "colab": {
          "base_uri": "https://localhost:8080/",
          "height": 1000
        },
        "id": "gFLliYWWe16-",
        "outputId": "542f632b-a7cb-48b5-aef3-d9bd1628e301"
      },
      "execution_count": 47,
      "outputs": [
        {
          "output_type": "display_data",
          "data": {
            "text/plain": [
              "<IPython.core.display.HTML object>"
            ],
            "text/html": [
              "<span style=\"background-color:rgba(135,206,250,1.0);\">wine</span> <span style=\"background-color:rgba(135,206,250,0.64787376);\">review</span> <span style=\"background-color:rgba(135,206,250,0.33872196);\">:</span> <span style=\"background-color:rgba(135,206,250,0.07040993);\">india</span>"
            ]
          },
          "metadata": {}
        },
        {
          "output_type": "stream",
          "name": "stdout",
          "text": [
            "::   \t99.99%\n",
            "-:   \t0.0%\n",
            "grosso:   \t0.0%\n",
            "blanc:   \t0.0%\n",
            "blend:   \t0.0%\n",
            "--------\n",
            "\n"
          ]
        },
        {
          "output_type": "display_data",
          "data": {
            "text/plain": [
              "<IPython.core.display.HTML object>"
            ],
            "text/html": [
              "<span style=\"background-color:rgba(135,206,250,0.34480748);\">wine</span> <span style=\"background-color:rgba(135,206,250,0.3294763);\">review</span> <span style=\"background-color:rgba(135,206,250,0.4028363);\">:</span> <span style=\"background-color:rgba(135,206,250,1.0);\">india</span> <span style=\"background-color:rgba(135,206,250,0.3386679);\">:</span>"
            ]
          },
          "metadata": {}
        },
        {
          "output_type": "stream",
          "name": "stdout",
          "text": [
            "nashik:   \t99.96%\n",
            "[UNK]:   \t0.0%\n",
            "central:   \t0.0%\n",
            "mosel:   \t0.0%\n",
            "upper:   \t0.0%\n",
            "--------\n",
            "\n"
          ]
        },
        {
          "output_type": "display_data",
          "data": {
            "text/plain": [
              "<IPython.core.display.HTML object>"
            ],
            "text/html": [
              "<span style=\"background-color:rgba(135,206,250,1.0);\">wine</span> <span style=\"background-color:rgba(135,206,250,0.66352373);\">review</span> <span style=\"background-color:rgba(135,206,250,0.39691257);\">:</span> <span style=\"background-color:rgba(135,206,250,0.18571243);\">india</span> <span style=\"background-color:rgba(135,206,250,0.4895519);\">:</span> <span style=\"background-color:rgba(135,206,250,0.20158644);\">nashik</span>"
            ]
          },
          "metadata": {}
        },
        {
          "output_type": "stream",
          "name": "stdout",
          "text": [
            "::   \t99.91%\n",
            "blend:   \t0.02%\n",
            "blanc:   \t0.01%\n",
            "hills:   \t0.01%\n",
            "other:   \t0.01%\n",
            "--------\n",
            "\n"
          ]
        },
        {
          "output_type": "display_data",
          "data": {
            "text/plain": [
              "<IPython.core.display.HTML object>"
            ],
            "text/html": [
              "<span style=\"background-color:rgba(135,206,250,0.23362301);\">wine</span> <span style=\"background-color:rgba(135,206,250,0.20577525);\">review</span> <span style=\"background-color:rgba(135,206,250,0.1838727);\">:</span> <span style=\"background-color:rgba(135,206,250,0.28534555);\">india</span> <span style=\"background-color:rgba(135,206,250,0.1435105);\">:</span> <span style=\"background-color:rgba(135,206,250,1.0);\">nashik</span> <span style=\"background-color:rgba(135,206,250,0.15629415);\">:</span>"
            ]
          },
          "metadata": {}
        },
        {
          "output_type": "stream",
          "name": "stdout",
          "text": [
            "chenin:   \t40.74%\n",
            "sauvignon:   \t19.69%\n",
            "shiraz:   \t11.59%\n",
            "chardonnay:   \t5.82%\n",
            "cabernet:   \t3.78%\n",
            "--------\n",
            "\n"
          ]
        },
        {
          "output_type": "display_data",
          "data": {
            "text/plain": [
              "<IPython.core.display.HTML object>"
            ],
            "text/html": [
              "<span style=\"background-color:rgba(135,206,250,1.0);\">wine</span> <span style=\"background-color:rgba(135,206,250,0.8777659);\">review</span> <span style=\"background-color:rgba(135,206,250,0.37115407);\">:</span> <span style=\"background-color:rgba(135,206,250,0.27365142);\">india</span> <span style=\"background-color:rgba(135,206,250,0.4292578);\">:</span> <span style=\"background-color:rgba(135,206,250,0.38468885);\">nashik</span> <span style=\"background-color:rgba(135,206,250,0.4632512);\">:</span> <span style=\"background-color:rgba(135,206,250,0.26751417);\">shiraz</span>"
            ]
          },
          "metadata": {}
        },
        {
          "output_type": "stream",
          "name": "stdout",
          "text": [
            "::   \t99.26%\n",
            "-:   \t0.7%\n",
            "blanc:   \t0.01%\n",
            "blend:   \t0.01%\n",
            "grosso:   \t0.0%\n",
            "--------\n",
            "\n"
          ]
        },
        {
          "output_type": "display_data",
          "data": {
            "text/plain": [
              "<IPython.core.display.HTML object>"
            ],
            "text/html": [
              "<span style=\"background-color:rgba(135,206,250,1.0);\">wine</span> <span style=\"background-color:rgba(135,206,250,0.7698454);\">review</span> <span style=\"background-color:rgba(135,206,250,0.642575);\">:</span> <span style=\"background-color:rgba(135,206,250,0.8409874);\">india</span> <span style=\"background-color:rgba(135,206,250,0.4836313);\">:</span> <span style=\"background-color:rgba(135,206,250,0.75524706);\">nashik</span> <span style=\"background-color:rgba(135,206,250,0.676346);\">:</span> <span style=\"background-color:rgba(135,206,250,0.7814761);\">shiraz</span> <span style=\"background-color:rgba(135,206,250,0.7908158);\">:</span>"
            ]
          },
          "metadata": {}
        },
        {
          "output_type": "stream",
          "name": "stdout",
          "text": [
            "this:   \t23.24%\n",
            "a:   \t16.71%\n",
            "aromas:   \t6.41%\n",
            "the:   \t3.03%\n",
            "there:   \t2.57%\n",
            "--------\n",
            "\n"
          ]
        },
        {
          "output_type": "display_data",
          "data": {
            "text/plain": [
              "<IPython.core.display.HTML object>"
            ],
            "text/html": [
              "<span style=\"background-color:rgba(135,206,250,0.93713516);\">wine</span> <span style=\"background-color:rgba(135,206,250,0.6762915);\">review</span> <span style=\"background-color:rgba(135,206,250,0.5147769);\">:</span> <span style=\"background-color:rgba(135,206,250,1.0);\">india</span> <span style=\"background-color:rgba(135,206,250,0.37633374);\">:</span> <span style=\"background-color:rgba(135,206,250,0.33904338);\">nashik</span> <span style=\"background-color:rgba(135,206,250,0.27851996);\">:</span> <span style=\"background-color:rgba(135,206,250,0.32495362);\">shiraz</span> <span style=\"background-color:rgba(135,206,250,0.57657516);\">:</span> <span style=\"background-color:rgba(135,206,250,0.35186842);\">a</span>"
            ]
          },
          "metadata": {}
        },
        {
          "output_type": "stream",
          "name": "stdout",
          "text": [
            "touch:   \t9.4%\n",
            "nose:   \t9.32%\n",
            "bouquet:   \t7.87%\n",
            "very:   \t4.57%\n",
            "soft:   \t3.28%\n",
            "--------\n",
            "\n"
          ]
        },
        {
          "output_type": "display_data",
          "data": {
            "text/plain": [
              "<IPython.core.display.HTML object>"
            ],
            "text/html": [
              "<span style=\"background-color:rgba(135,206,250,1.0);\">wine</span> <span style=\"background-color:rgba(135,206,250,0.9292482);\">review</span> <span style=\"background-color:rgba(135,206,250,0.4107488);\">:</span> <span style=\"background-color:rgba(135,206,250,0.1791274);\">india</span> <span style=\"background-color:rgba(135,206,250,0.47216415);\">:</span> <span style=\"background-color:rgba(135,206,250,0.25936556);\">nashik</span> <span style=\"background-color:rgba(135,206,250,0.33832473);\">:</span> <span style=\"background-color:rgba(135,206,250,0.18605056);\">shiraz</span> <span style=\"background-color:rgba(135,206,250,0.4564528);\">:</span> <span style=\"background-color:rgba(135,206,250,0.36825332);\">a</span> <span style=\"background-color:rgba(135,206,250,0.5202917);\">perennially</span>"
            ]
          },
          "metadata": {}
        },
        {
          "output_type": "stream",
          "name": "stdout",
          "text": [
            "superb:   \t19.53%\n",
            "delicious:   \t16.23%\n",
            "one:   \t7.47%\n",
            "gorgeous:   \t4.79%\n",
            "beautiful:   \t4.29%\n",
            "--------\n",
            "\n"
          ]
        },
        {
          "output_type": "display_data",
          "data": {
            "text/plain": [
              "<IPython.core.display.HTML object>"
            ],
            "text/html": [
              "<span style=\"background-color:rgba(135,206,250,0.8298128);\">wine</span> <span style=\"background-color:rgba(135,206,250,1.0);\">review</span> <span style=\"background-color:rgba(135,206,250,0.44821438);\">:</span> <span style=\"background-color:rgba(135,206,250,0.23694773);\">india</span> <span style=\"background-color:rgba(135,206,250,0.46925193);\">:</span> <span style=\"background-color:rgba(135,206,250,0.2688131);\">nashik</span> <span style=\"background-color:rgba(135,206,250,0.4304174);\">:</span> <span style=\"background-color:rgba(135,206,250,0.13160996);\">shiraz</span> <span style=\"background-color:rgba(135,206,250,0.47561917);\">:</span> <span style=\"background-color:rgba(135,206,250,0.5434313);\">a</span> <span style=\"background-color:rgba(135,206,250,0.9938546);\">perennially</span> <span style=\"background-color:rgba(135,206,250,0.48092976);\">impresses</span>"
            ]
          },
          "metadata": {}
        },
        {
          "output_type": "stream",
          "name": "stdout",
          "text": [
            "for:   \t74.18%\n",
            "in:   \t5.11%\n",
            "with:   \t4.15%\n",
            "instantly:   \t2.56%\n",
            "immediately:   \t1.55%\n",
            "--------\n",
            "\n"
          ]
        },
        {
          "output_type": "display_data",
          "data": {
            "text/plain": [
              "<IPython.core.display.HTML object>"
            ],
            "text/html": [
              "<span style=\"background-color:rgba(135,206,250,0.8266738);\">wine</span> <span style=\"background-color:rgba(135,206,250,0.75659937);\">review</span> <span style=\"background-color:rgba(135,206,250,0.4343308);\">:</span> <span style=\"background-color:rgba(135,206,250,0.4952455);\">india</span> <span style=\"background-color:rgba(135,206,250,0.37981865);\">:</span> <span style=\"background-color:rgba(135,206,250,0.6550438);\">nashik</span> <span style=\"background-color:rgba(135,206,250,0.34943023);\">:</span> <span style=\"background-color:rgba(135,206,250,0.33023733);\">shiraz</span> <span style=\"background-color:rgba(135,206,250,0.39754397);\">:</span> <span style=\"background-color:rgba(135,206,250,0.42067328);\">a</span> <span style=\"background-color:rgba(135,206,250,0.9259829);\">perennially</span> <span style=\"background-color:rgba(135,206,250,1.0);\">impresses</span> <span style=\"background-color:rgba(135,206,250,0.4436425);\">among</span>"
            ]
          },
          "metadata": {}
        },
        {
          "output_type": "stream",
          "name": "stdout",
          "text": [
            "the:   \t63.02%\n",
            "its:   \t13.8%\n",
            "a:   \t2.65%\n",
            "first:   \t1.66%\n",
            "all:   \t0.94%\n",
            "--------\n",
            "\n"
          ]
        },
        {
          "output_type": "display_data",
          "data": {
            "text/plain": [
              "<IPython.core.display.HTML object>"
            ],
            "text/html": [
              "<span style=\"background-color:rgba(135,206,250,0.26131403);\">wine</span> <span style=\"background-color:rgba(135,206,250,0.21382867);\">review</span> <span style=\"background-color:rgba(135,206,250,0.22197056);\">:</span> <span style=\"background-color:rgba(135,206,250,0.5895308);\">india</span> <span style=\"background-color:rgba(135,206,250,0.1483252);\">:</span> <span style=\"background-color:rgba(135,206,250,0.21657336);\">nashik</span> <span style=\"background-color:rgba(135,206,250,0.12109865);\">:</span> <span style=\"background-color:rgba(135,206,250,0.16526839);\">shiraz</span> <span style=\"background-color:rgba(135,206,250,0.17818043);\">:</span> <span style=\"background-color:rgba(135,206,250,0.13752793);\">a</span> <span style=\"background-color:rgba(135,206,250,0.39970094);\">perennially</span> <span style=\"background-color:rgba(135,206,250,0.9766785);\">impresses</span> <span style=\"background-color:rgba(135,206,250,1.0);\">among</span> <span style=\"background-color:rgba(135,206,250,0.16653508);\">the</span>"
            ]
          },
          "metadata": {}
        },
        {
          "output_type": "stream",
          "name": "stdout",
          "text": [
            "first:   \t21.32%\n",
            "nose:   \t12.05%\n",
            "glass:   \t5.37%\n",
            "most:   \t4.81%\n",
            "entire:   \t2.08%\n",
            "--------\n",
            "\n"
          ]
        },
        {
          "output_type": "display_data",
          "data": {
            "text/plain": [
              "<IPython.core.display.HTML object>"
            ],
            "text/html": [
              "<span style=\"background-color:rgba(135,206,250,0.54426014);\">wine</span> <span style=\"background-color:rgba(135,206,250,0.50527537);\">review</span> <span style=\"background-color:rgba(135,206,250,0.3728147);\">:</span> <span style=\"background-color:rgba(135,206,250,0.60567814);\">india</span> <span style=\"background-color:rgba(135,206,250,0.25068995);\">:</span> <span style=\"background-color:rgba(135,206,250,0.31616753);\">nashik</span> <span style=\"background-color:rgba(135,206,250,0.22366866);\">:</span> <span style=\"background-color:rgba(135,206,250,0.30781698);\">shiraz</span> <span style=\"background-color:rgba(135,206,250,0.30845624);\">:</span> <span style=\"background-color:rgba(135,206,250,0.32515326);\">a</span> <span style=\"background-color:rgba(135,206,250,0.50143623);\">perennially</span> <span style=\"background-color:rgba(135,206,250,1.0);\">impresses</span> <span style=\"background-color:rgba(135,206,250,0.7846861);\">among</span> <span style=\"background-color:rgba(135,206,250,0.9697463);\">the</span> <span style=\"background-color:rgba(135,206,250,0.3246129);\">'</span>"
            ]
          },
          "metadata": {}
        },
        {
          "output_type": "stream",
          "name": "stdout",
          "text": [
            "07:   \t28.1%\n",
            "s:   \t24.94%\n",
            "05:   \t16.83%\n",
            "04:   \t7.8%\n",
            "06:   \t5.07%\n",
            "--------\n",
            "\n"
          ]
        },
        {
          "output_type": "display_data",
          "data": {
            "text/plain": [
              "<IPython.core.display.HTML object>"
            ],
            "text/html": [
              "<span style=\"background-color:rgba(135,206,250,0.44303292);\">wine</span> <span style=\"background-color:rgba(135,206,250,0.49450928);\">review</span> <span style=\"background-color:rgba(135,206,250,0.30314186);\">:</span> <span style=\"background-color:rgba(135,206,250,0.5540763);\">india</span> <span style=\"background-color:rgba(135,206,250,0.20556864);\">:</span> <span style=\"background-color:rgba(135,206,250,0.29792327);\">nashik</span> <span style=\"background-color:rgba(135,206,250,0.16901964);\">:</span> <span style=\"background-color:rgba(135,206,250,0.3776269);\">shiraz</span> <span style=\"background-color:rgba(135,206,250,0.32941124);\">:</span> <span style=\"background-color:rgba(135,206,250,0.231201);\">a</span> <span style=\"background-color:rgba(135,206,250,0.50239843);\">perennially</span> <span style=\"background-color:rgba(135,206,250,1.0);\">impresses</span> <span style=\"background-color:rgba(135,206,250,0.6827993);\">among</span> <span style=\"background-color:rgba(135,206,250,0.41638094);\">the</span> <span style=\"background-color:rgba(135,206,250,0.4822608);\">'</span> <span style=\"background-color:rgba(135,206,250,0.22462593);\">07</span>"
            ]
          },
          "metadata": {}
        },
        {
          "output_type": "stream",
          "name": "stdout",
          "text": [
            ",:   \t46.04%\n",
            "[UNK]:   \t9.97%\n",
            "-:   \t6.97%\n",
            "is:   \t3.25%\n",
            "vintage:   \t2.09%\n",
            "--------\n",
            "\n"
          ]
        },
        {
          "output_type": "display_data",
          "data": {
            "text/plain": [
              "<IPython.core.display.HTML object>"
            ],
            "text/html": [
              "<span style=\"background-color:rgba(135,206,250,0.85739917);\">wine</span> <span style=\"background-color:rgba(135,206,250,1.0);\">review</span> <span style=\"background-color:rgba(135,206,250,0.42335507);\">:</span> <span style=\"background-color:rgba(135,206,250,0.37081406);\">india</span> <span style=\"background-color:rgba(135,206,250,0.48715073);\">:</span> <span style=\"background-color:rgba(135,206,250,0.37359127);\">nashik</span> <span style=\"background-color:rgba(135,206,250,0.4208911);\">:</span> <span style=\"background-color:rgba(135,206,250,0.2814431);\">shiraz</span> <span style=\"background-color:rgba(135,206,250,0.401735);\">:</span> <span style=\"background-color:rgba(135,206,250,0.3492648);\">a</span> <span style=\"background-color:rgba(135,206,250,0.38271645);\">perennially</span> <span style=\"background-color:rgba(135,206,250,0.4985464);\">impresses</span> <span style=\"background-color:rgba(135,206,250,0.6015192);\">among</span> <span style=\"background-color:rgba(135,206,250,0.40543425);\">the</span> <span style=\"background-color:rgba(135,206,250,0.5171021);\">'</span> <span style=\"background-color:rgba(135,206,250,0.47734228);\">07</span> <span style=\"background-color:rgba(135,206,250,0.16392158);\">single</span>"
            ]
          },
          "metadata": {}
        },
        {
          "output_type": "stream",
          "name": "stdout",
          "text": [
            "-:   \t86.89%\n",
            "vineyard:   \t6.39%\n",
            "variety:   \t1.14%\n",
            "block:   \t0.89%\n",
            "varietal:   \t0.75%\n",
            "--------\n",
            "\n"
          ]
        },
        {
          "output_type": "display_data",
          "data": {
            "text/plain": [
              "<IPython.core.display.HTML object>"
            ],
            "text/html": [
              "<span style=\"background-color:rgba(135,206,250,0.11093383);\">wine</span> <span style=\"background-color:rgba(135,206,250,0.13627447);\">review</span> <span style=\"background-color:rgba(135,206,250,0.08830144);\">:</span> <span style=\"background-color:rgba(135,206,250,0.1606729);\">india</span> <span style=\"background-color:rgba(135,206,250,0.0738482);\">:</span> <span style=\"background-color:rgba(135,206,250,0.075822085);\">nashik</span> <span style=\"background-color:rgba(135,206,250,0.060267642);\">:</span> <span style=\"background-color:rgba(135,206,250,0.07732426);\">shiraz</span> <span style=\"background-color:rgba(135,206,250,0.077733666);\">:</span> <span style=\"background-color:rgba(135,206,250,0.061776772);\">a</span> <span style=\"background-color:rgba(135,206,250,0.1074159);\">perennially</span> <span style=\"background-color:rgba(135,206,250,0.0904285);\">impresses</span> <span style=\"background-color:rgba(135,206,250,0.091800995);\">among</span> <span style=\"background-color:rgba(135,206,250,0.05622553);\">the</span> <span style=\"background-color:rgba(135,206,250,0.05953097);\">'</span> <span style=\"background-color:rgba(135,206,250,0.113263205);\">07</span> <span style=\"background-color:rgba(135,206,250,1.0);\">single</span> <span style=\"background-color:rgba(135,206,250,0.03061723);\">-</span>"
            ]
          },
          "metadata": {}
        },
        {
          "output_type": "stream",
          "name": "stdout",
          "text": [
            "vineyard:   \t81.88%\n",
            "varietal:   \t5.04%\n",
            "block:   \t3.77%\n",
            "parcel:   \t1.76%\n",
            "variety:   \t1.43%\n",
            "--------\n",
            "\n"
          ]
        },
        {
          "output_type": "display_data",
          "data": {
            "text/plain": [
              "<IPython.core.display.HTML object>"
            ],
            "text/html": [
              "<span style=\"background-color:rgba(135,206,250,0.6008045);\">wine</span> <span style=\"background-color:rgba(135,206,250,0.8878436);\">review</span> <span style=\"background-color:rgba(135,206,250,0.33666638);\">:</span> <span style=\"background-color:rgba(135,206,250,0.54705966);\">india</span> <span style=\"background-color:rgba(135,206,250,0.3619775);\">:</span> <span style=\"background-color:rgba(135,206,250,0.29835945);\">nashik</span> <span style=\"background-color:rgba(135,206,250,0.27969703);\">:</span> <span style=\"background-color:rgba(135,206,250,0.38134632);\">shiraz</span> <span style=\"background-color:rgba(135,206,250,0.41194165);\">:</span> <span style=\"background-color:rgba(135,206,250,0.33375174);\">a</span> <span style=\"background-color:rgba(135,206,250,0.58120173);\">perennially</span> <span style=\"background-color:rgba(135,206,250,0.590541);\">impresses</span> <span style=\"background-color:rgba(135,206,250,0.7408249);\">among</span> <span style=\"background-color:rgba(135,206,250,0.41809317);\">the</span> <span style=\"background-color:rgba(135,206,250,0.48274392);\">'</span> <span style=\"background-color:rgba(135,206,250,0.29301193);\">07</span> <span style=\"background-color:rgba(135,206,250,1.0);\">single</span> <span style=\"background-color:rgba(135,206,250,0.5354493);\">-</span> <span style=\"background-color:rgba(135,206,250,0.49160087);\">vineyard</span>"
            ]
          },
          "metadata": {}
        },
        {
          "output_type": "stream",
          "name": "stdout",
          "text": [
            "shiraz:   \t8.99%\n",
            "offerings:   \t8.68%\n",
            "selections:   \t8.3%\n",
            "site:   \t5.98%\n",
            ",:   \t5.31%\n",
            "--------\n",
            "\n"
          ]
        },
        {
          "output_type": "display_data",
          "data": {
            "text/plain": [
              "<IPython.core.display.HTML object>"
            ],
            "text/html": [
              "<span style=\"background-color:rgba(135,206,250,0.6865124);\">wine</span> <span style=\"background-color:rgba(135,206,250,1.0);\">review</span> <span style=\"background-color:rgba(135,206,250,0.3682025);\">:</span> <span style=\"background-color:rgba(135,206,250,0.17794299);\">india</span> <span style=\"background-color:rgba(135,206,250,0.45480323);\">:</span> <span style=\"background-color:rgba(135,206,250,0.16186489);\">nashik</span> <span style=\"background-color:rgba(135,206,250,0.26139426);\">:</span> <span style=\"background-color:rgba(135,206,250,0.14490388);\">shiraz</span> <span style=\"background-color:rgba(135,206,250,0.33802497);\">:</span> <span style=\"background-color:rgba(135,206,250,0.3140758);\">a</span> <span style=\"background-color:rgba(135,206,250,0.37338468);\">perennially</span> <span style=\"background-color:rgba(135,206,250,0.42894214);\">impresses</span> <span style=\"background-color:rgba(135,206,250,0.4306543);\">among</span> <span style=\"background-color:rgba(135,206,250,0.33652794);\">the</span> <span style=\"background-color:rgba(135,206,250,0.33561894);\">'</span> <span style=\"background-color:rgba(135,206,250,0.15375355);\">07</span> <span style=\"background-color:rgba(135,206,250,0.3810383);\">single</span> <span style=\"background-color:rgba(135,206,250,0.38369703);\">-</span> <span style=\"background-color:rgba(135,206,250,0.37693575);\">vineyard</span> <span style=\"background-color:rgba(135,206,250,0.51406264);\">site</span>"
            ]
          },
          "metadata": {}
        },
        {
          "output_type": "stream",
          "name": "stdout",
          "text": [
            ",:   \t48.43%\n",
            "is:   \t6.26%\n",
            "in:   \t4.54%\n",
            "divided:   \t2.03%\n",
            "and:   \t1.65%\n",
            "--------\n",
            "\n"
          ]
        },
        {
          "output_type": "display_data",
          "data": {
            "text/plain": [
              "<IPython.core.display.HTML object>"
            ],
            "text/html": [
              "<span style=\"background-color:rgba(135,206,250,0.16950224);\">wine</span> <span style=\"background-color:rgba(135,206,250,0.28499722);\">review</span> <span style=\"background-color:rgba(135,206,250,0.27968508);\">:</span> <span style=\"background-color:rgba(135,206,250,0.75997514);\">india</span> <span style=\"background-color:rgba(135,206,250,0.15986905);\">:</span> <span style=\"background-color:rgba(135,206,250,0.16367151);\">nashik</span> <span style=\"background-color:rgba(135,206,250,0.09932928);\">:</span> <span style=\"background-color:rgba(135,206,250,0.21749061);\">shiraz</span> <span style=\"background-color:rgba(135,206,250,0.15597713);\">:</span> <span style=\"background-color:rgba(135,206,250,0.09861211);\">a</span> <span style=\"background-color:rgba(135,206,250,0.26581818);\">perennially</span> <span style=\"background-color:rgba(135,206,250,0.36284164);\">impresses</span> <span style=\"background-color:rgba(135,206,250,0.25485268);\">among</span> <span style=\"background-color:rgba(135,206,250,0.1438511);\">the</span> <span style=\"background-color:rgba(135,206,250,0.08691162);\">'</span> <span style=\"background-color:rgba(135,206,250,0.20575343);\">07</span> <span style=\"background-color:rgba(135,206,250,0.39409876);\">single</span> <span style=\"background-color:rgba(135,206,250,0.26716742);\">-</span> <span style=\"background-color:rgba(135,206,250,0.67625284);\">vineyard</span> <span style=\"background-color:rgba(135,206,250,1.0);\">site</span> <span style=\"background-color:rgba(135,206,250,0.508692);\">,</span>"
            ]
          },
          "metadata": {}
        },
        {
          "output_type": "stream",
          "name": "stdout",
          "text": [
            "this:   \t70.74%\n",
            "it:   \t3.18%\n",
            "the:   \t2.55%\n",
            "a:   \t1.68%\n",
            "with:   \t1.64%\n",
            "--------\n",
            "\n"
          ]
        },
        {
          "output_type": "display_data",
          "data": {
            "text/plain": [
              "<IPython.core.display.HTML object>"
            ],
            "text/html": [
              "<span style=\"background-color:rgba(135,206,250,0.15883434);\">wine</span> <span style=\"background-color:rgba(135,206,250,0.26437148);\">review</span> <span style=\"background-color:rgba(135,206,250,0.25074023);\">:</span> <span style=\"background-color:rgba(135,206,250,1.0);\">india</span> <span style=\"background-color:rgba(135,206,250,0.20975468);\">:</span> <span style=\"background-color:rgba(135,206,250,0.27604765);\">nashik</span> <span style=\"background-color:rgba(135,206,250,0.10515425);\">:</span> <span style=\"background-color:rgba(135,206,250,0.2731736);\">shiraz</span> <span style=\"background-color:rgba(135,206,250,0.14388761);\">:</span> <span style=\"background-color:rgba(135,206,250,0.071385406);\">a</span> <span style=\"background-color:rgba(135,206,250,0.17578648);\">perennially</span> <span style=\"background-color:rgba(135,206,250,0.37759414);\">impresses</span> <span style=\"background-color:rgba(135,206,250,0.10561326);\">among</span> <span style=\"background-color:rgba(135,206,250,0.053980675);\">the</span> <span style=\"background-color:rgba(135,206,250,0.033545863);\">'</span> <span style=\"background-color:rgba(135,206,250,0.11985718);\">07</span> <span style=\"background-color:rgba(135,206,250,0.08140308);\">single</span> <span style=\"background-color:rgba(135,206,250,0.1096169);\">-</span> <span style=\"background-color:rgba(135,206,250,0.20289505);\">vineyard</span> <span style=\"background-color:rgba(135,206,250,0.32043138);\">site</span> <span style=\"background-color:rgba(135,206,250,0.75152254);\">,</span> <span style=\"background-color:rgba(135,206,250,0.22731182);\">this</span>"
            ]
          },
          "metadata": {}
        },
        {
          "output_type": "stream",
          "name": "stdout",
          "text": [
            "wine:   \t46.32%\n",
            "is:   \t13.08%\n",
            "full:   \t3.43%\n",
            "cool:   \t1.75%\n",
            "features:   \t1.33%\n",
            "--------\n",
            "\n"
          ]
        },
        {
          "output_type": "display_data",
          "data": {
            "text/plain": [
              "<IPython.core.display.HTML object>"
            ],
            "text/html": [
              "<span style=\"background-color:rgba(135,206,250,0.13940246);\">wine</span> <span style=\"background-color:rgba(135,206,250,0.21296507);\">review</span> <span style=\"background-color:rgba(135,206,250,0.14979996);\">:</span> <span style=\"background-color:rgba(135,206,250,0.4543008);\">india</span> <span style=\"background-color:rgba(135,206,250,0.11525488);\">:</span> <span style=\"background-color:rgba(135,206,250,0.17508355);\">nashik</span> <span style=\"background-color:rgba(135,206,250,0.10351027);\">:</span> <span style=\"background-color:rgba(135,206,250,0.22856136);\">shiraz</span> <span style=\"background-color:rgba(135,206,250,0.12844163);\">:</span> <span style=\"background-color:rgba(135,206,250,0.06948695);\">a</span> <span style=\"background-color:rgba(135,206,250,0.13765252);\">perennially</span> <span style=\"background-color:rgba(135,206,250,0.20008418);\">impresses</span> <span style=\"background-color:rgba(135,206,250,0.117805384);\">among</span> <span style=\"background-color:rgba(135,206,250,0.07801782);\">the</span> <span style=\"background-color:rgba(135,206,250,0.052331228);\">'</span> <span style=\"background-color:rgba(135,206,250,0.08538341);\">07</span> <span style=\"background-color:rgba(135,206,250,0.0897028);\">single</span> <span style=\"background-color:rgba(135,206,250,0.05247126);\">-</span> <span style=\"background-color:rgba(135,206,250,0.22147503);\">vineyard</span> <span style=\"background-color:rgba(135,206,250,0.34332243);\">site</span> <span style=\"background-color:rgba(135,206,250,0.31832927);\">,</span> <span style=\"background-color:rgba(135,206,250,1.0);\">this</span> <span style=\"background-color:rgba(135,206,250,0.15921034);\">elegant</span>"
            ]
          },
          "metadata": {}
        },
        {
          "output_type": "stream",
          "name": "stdout",
          "text": [
            "wine:   \t47.84%\n",
            ",:   \t16.16%\n",
            "blend:   \t3.53%\n",
            "white:   \t2.96%\n",
            "and:   \t2.75%\n",
            "--------\n",
            "\n"
          ]
        },
        {
          "output_type": "display_data",
          "data": {
            "text/plain": [
              "<IPython.core.display.HTML object>"
            ],
            "text/html": [
              "<span style=\"background-color:rgba(135,206,250,0.35048786);\">wine</span> <span style=\"background-color:rgba(135,206,250,0.5059921);\">review</span> <span style=\"background-color:rgba(135,206,250,0.38431108);\">:</span> <span style=\"background-color:rgba(135,206,250,0.7903903);\">india</span> <span style=\"background-color:rgba(135,206,250,0.31941313);\">:</span> <span style=\"background-color:rgba(135,206,250,0.2504678);\">nashik</span> <span style=\"background-color:rgba(135,206,250,0.22199516);\">:</span> <span style=\"background-color:rgba(135,206,250,0.19376771);\">shiraz</span> <span style=\"background-color:rgba(135,206,250,0.23491901);\">:</span> <span style=\"background-color:rgba(135,206,250,0.16287032);\">a</span> <span style=\"background-color:rgba(135,206,250,0.29776368);\">perennially</span> <span style=\"background-color:rgba(135,206,250,0.36747366);\">impresses</span> <span style=\"background-color:rgba(135,206,250,0.2122321);\">among</span> <span style=\"background-color:rgba(135,206,250,0.16307674);\">the</span> <span style=\"background-color:rgba(135,206,250,0.09754001);\">'</span> <span style=\"background-color:rgba(135,206,250,0.25936383);\">07</span> <span style=\"background-color:rgba(135,206,250,0.12941456);\">single</span> <span style=\"background-color:rgba(135,206,250,0.13418499);\">-</span> <span style=\"background-color:rgba(135,206,250,0.36798775);\">vineyard</span> <span style=\"background-color:rgba(135,206,250,0.5918824);\">site</span> <span style=\"background-color:rgba(135,206,250,0.7191772);\">,</span> <span style=\"background-color:rgba(135,206,250,1.0);\">this</span> <span style=\"background-color:rgba(135,206,250,0.42150044);\">elegant</span> <span style=\"background-color:rgba(135,206,250,0.477139);\">yet</span>"
            ]
          },
          "metadata": {}
        },
        {
          "output_type": "stream",
          "name": "stdout",
          "text": [
            "elegant:   \t5.66%\n",
            "still:   \t4.68%\n",
            "complex:   \t3.32%\n",
            "well:   \t2.86%\n",
            "refined:   \t2.35%\n",
            "--------\n",
            "\n"
          ]
        },
        {
          "output_type": "display_data",
          "data": {
            "text/plain": [
              "<IPython.core.display.HTML object>"
            ],
            "text/html": [
              "<span style=\"background-color:rgba(135,206,250,0.46528828);\">wine</span> <span style=\"background-color:rgba(135,206,250,0.68055964);\">review</span> <span style=\"background-color:rgba(135,206,250,0.535833);\">:</span> <span style=\"background-color:rgba(135,206,250,0.6479355);\">india</span> <span style=\"background-color:rgba(135,206,250,0.43985745);\">:</span> <span style=\"background-color:rgba(135,206,250,0.4278812);\">nashik</span> <span style=\"background-color:rgba(135,206,250,0.274337);\">:</span> <span style=\"background-color:rgba(135,206,250,0.29608342);\">shiraz</span> <span style=\"background-color:rgba(135,206,250,0.31690598);\">:</span> <span style=\"background-color:rgba(135,206,250,0.1575083);\">a</span> <span style=\"background-color:rgba(135,206,250,0.32881773);\">perennially</span> <span style=\"background-color:rgba(135,206,250,0.38553387);\">impresses</span> <span style=\"background-color:rgba(135,206,250,0.22356948);\">among</span> <span style=\"background-color:rgba(135,206,250,0.19508956);\">the</span> <span style=\"background-color:rgba(135,206,250,0.17004794);\">'</span> <span style=\"background-color:rgba(135,206,250,0.32204708);\">07</span> <span style=\"background-color:rgba(135,206,250,0.16036955);\">single</span> <span style=\"background-color:rgba(135,206,250,0.14984438);\">-</span> <span style=\"background-color:rgba(135,206,250,0.54351264);\">vineyard</span> <span style=\"background-color:rgba(135,206,250,0.72585565);\">site</span> <span style=\"background-color:rgba(135,206,250,0.7411922);\">,</span> <span style=\"background-color:rgba(135,206,250,0.684009);\">this</span> <span style=\"background-color:rgba(135,206,250,0.5989875);\">elegant</span> <span style=\"background-color:rgba(135,206,250,1.0);\">yet</span> <span style=\"background-color:rgba(135,206,250,0.33813846);\">abundantly</span>"
            ]
          },
          "metadata": {}
        },
        {
          "output_type": "stream",
          "name": "stdout",
          "text": [
            "floral:   \t13.55%\n",
            "elegant:   \t7.62%\n",
            "proportioned:   \t5.96%\n",
            "ripe:   \t3.23%\n",
            "seductive:   \t3.16%\n",
            "--------\n",
            "\n"
          ]
        },
        {
          "output_type": "display_data",
          "data": {
            "text/plain": [
              "<IPython.core.display.HTML object>"
            ],
            "text/html": [
              "<span style=\"background-color:rgba(135,206,250,0.18660417);\">wine</span> <span style=\"background-color:rgba(135,206,250,0.31690192);\">review</span> <span style=\"background-color:rgba(135,206,250,0.26053572);\">:</span> <span style=\"background-color:rgba(135,206,250,0.66979265);\">india</span> <span style=\"background-color:rgba(135,206,250,0.16106209);\">:</span> <span style=\"background-color:rgba(135,206,250,0.2760899);\">nashik</span> <span style=\"background-color:rgba(135,206,250,0.13287431);\">:</span> <span style=\"background-color:rgba(135,206,250,0.36946195);\">shiraz</span> <span style=\"background-color:rgba(135,206,250,0.19700441);\">:</span> <span style=\"background-color:rgba(135,206,250,0.09177877);\">a</span> <span style=\"background-color:rgba(135,206,250,0.18216279);\">perennially</span> <span style=\"background-color:rgba(135,206,250,0.30637428);\">impresses</span> <span style=\"background-color:rgba(135,206,250,0.1922055);\">among</span> <span style=\"background-color:rgba(135,206,250,0.09127557);\">the</span> <span style=\"background-color:rgba(135,206,250,0.04837854);\">'</span> <span style=\"background-color:rgba(135,206,250,0.093070775);\">07</span> <span style=\"background-color:rgba(135,206,250,0.08505966);\">single</span> <span style=\"background-color:rgba(135,206,250,0.048073698);\">-</span> <span style=\"background-color:rgba(135,206,250,0.22097637);\">vineyard</span> <span style=\"background-color:rgba(135,206,250,0.31035945);\">site</span> <span style=\"background-color:rgba(135,206,250,0.24969143);\">,</span> <span style=\"background-color:rgba(135,206,250,1.0);\">this</span> <span style=\"background-color:rgba(135,206,250,0.16085285);\">elegant</span> <span style=\"background-color:rgba(135,206,250,0.5818587);\">yet</span> <span style=\"background-color:rgba(135,206,250,0.553216);\">abundantly</span> <span style=\"background-color:rgba(135,206,250,0.34843105);\">fruited</span>"
            ]
          },
          "metadata": {}
        },
        {
          "output_type": "stream",
          "name": "stdout",
          "text": [
            "wine:   \t86.31%\n",
            "-:   \t1.48%\n",
            ",:   \t1.38%\n",
            "rosé:   \t0.78%\n",
            "shiraz:   \t0.69%\n",
            "--------\n",
            "\n"
          ]
        },
        {
          "output_type": "display_data",
          "data": {
            "text/plain": [
              "<IPython.core.display.HTML object>"
            ],
            "text/html": [
              "<span style=\"background-color:rgba(135,206,250,0.25287122);\">wine</span> <span style=\"background-color:rgba(135,206,250,0.7333893);\">review</span> <span style=\"background-color:rgba(135,206,250,0.5925771);\">:</span> <span style=\"background-color:rgba(135,206,250,1.0);\">india</span> <span style=\"background-color:rgba(135,206,250,0.50558585);\">:</span> <span style=\"background-color:rgba(135,206,250,0.25375578);\">nashik</span> <span style=\"background-color:rgba(135,206,250,0.2556929);\">:</span> <span style=\"background-color:rgba(135,206,250,0.14880648);\">shiraz</span> <span style=\"background-color:rgba(135,206,250,0.26952854);\">:</span> <span style=\"background-color:rgba(135,206,250,0.24290958);\">a</span> <span style=\"background-color:rgba(135,206,250,0.39047095);\">perennially</span> <span style=\"background-color:rgba(135,206,250,0.33941066);\">impresses</span> <span style=\"background-color:rgba(135,206,250,0.23993129);\">among</span> <span style=\"background-color:rgba(135,206,250,0.11309571);\">the</span> <span style=\"background-color:rgba(135,206,250,0.08971427);\">'</span> <span style=\"background-color:rgba(135,206,250,0.20800847);\">07</span> <span style=\"background-color:rgba(135,206,250,0.21915948);\">single</span> <span style=\"background-color:rgba(135,206,250,0.10948262);\">-</span> <span style=\"background-color:rgba(135,206,250,0.192918);\">vineyard</span> <span style=\"background-color:rgba(135,206,250,0.32674474);\">site</span> <span style=\"background-color:rgba(135,206,250,0.42832905);\">,</span> <span style=\"background-color:rgba(135,206,250,0.66431594);\">this</span> <span style=\"background-color:rgba(135,206,250,0.46842048);\">elegant</span> <span style=\"background-color:rgba(135,206,250,0.83730406);\">yet</span> <span style=\"background-color:rgba(135,206,250,0.6948604);\">abundantly</span> <span style=\"background-color:rgba(135,206,250,0.8010864);\">fruited</span> <span style=\"background-color:rgba(135,206,250,0.92608494);\">wine</span>"
            ]
          },
          "metadata": {}
        },
        {
          "output_type": "stream",
          "name": "stdout",
          "text": [
            "is:   \t18.05%\n",
            "offers:   \t9.64%\n",
            "features:   \t8.41%\n",
            "has:   \t7.1%\n",
            ".:   \t5.63%\n",
            "--------\n",
            "\n"
          ]
        },
        {
          "output_type": "display_data",
          "data": {
            "text/plain": [
              "<IPython.core.display.HTML object>"
            ],
            "text/html": [
              "<span style=\"background-color:rgba(135,206,250,0.13987842);\">wine</span> <span style=\"background-color:rgba(135,206,250,0.28055522);\">review</span> <span style=\"background-color:rgba(135,206,250,0.40614825);\">:</span> <span style=\"background-color:rgba(135,206,250,1.0);\">india</span> <span style=\"background-color:rgba(135,206,250,0.38190785);\">:</span> <span style=\"background-color:rgba(135,206,250,0.20966911);\">nashik</span> <span style=\"background-color:rgba(135,206,250,0.17389831);\">:</span> <span style=\"background-color:rgba(135,206,250,0.16653207);\">shiraz</span> <span style=\"background-color:rgba(135,206,250,0.1113774);\">:</span> <span style=\"background-color:rgba(135,206,250,0.04615145);\">a</span> <span style=\"background-color:rgba(135,206,250,0.09975465);\">perennially</span> <span style=\"background-color:rgba(135,206,250,0.10216236);\">impresses</span> <span style=\"background-color:rgba(135,206,250,0.04320741);\">among</span> <span style=\"background-color:rgba(135,206,250,0.035883192);\">the</span> <span style=\"background-color:rgba(135,206,250,0.020671438);\">'</span> <span style=\"background-color:rgba(135,206,250,0.12049302);\">07</span> <span style=\"background-color:rgba(135,206,250,0.040811855);\">single</span> <span style=\"background-color:rgba(135,206,250,0.038691726);\">-</span> <span style=\"background-color:rgba(135,206,250,0.07673271);\">vineyard</span> <span style=\"background-color:rgba(135,206,250,0.119222574);\">site</span> <span style=\"background-color:rgba(135,206,250,0.08373706);\">,</span> <span style=\"background-color:rgba(135,206,250,0.10368279);\">this</span> <span style=\"background-color:rgba(135,206,250,0.12032987);\">elegant</span> <span style=\"background-color:rgba(135,206,250,0.17174566);\">yet</span> <span style=\"background-color:rgba(135,206,250,0.14323372);\">abundantly</span> <span style=\"background-color:rgba(135,206,250,0.23314719);\">fruited</span> <span style=\"background-color:rgba(135,206,250,0.33052465);\">wine</span> <span style=\"background-color:rgba(135,206,250,0.27078265);\">boasts</span>"
            ]
          },
          "metadata": {}
        },
        {
          "output_type": "stream",
          "name": "stdout",
          "text": [
            "a:   \t16.55%\n",
            "aromas:   \t10.27%\n",
            "notes:   \t7.18%\n",
            "deep:   \t6.22%\n",
            "enticing:   \t3.59%\n",
            "--------\n",
            "\n"
          ]
        },
        {
          "output_type": "display_data",
          "data": {
            "text/plain": [
              "<IPython.core.display.HTML object>"
            ],
            "text/html": [
              "<span style=\"background-color:rgba(135,206,250,0.14440797);\">wine</span> <span style=\"background-color:rgba(135,206,250,0.2117207);\">review</span> <span style=\"background-color:rgba(135,206,250,0.26708013);\">:</span> <span style=\"background-color:rgba(135,206,250,0.8492785);\">india</span> <span style=\"background-color:rgba(135,206,250,0.18152621);\">:</span> <span style=\"background-color:rgba(135,206,250,0.2867725);\">nashik</span> <span style=\"background-color:rgba(135,206,250,0.10723611);\">:</span> <span style=\"background-color:rgba(135,206,250,0.21886514);\">shiraz</span> <span style=\"background-color:rgba(135,206,250,0.1253636);\">:</span> <span style=\"background-color:rgba(135,206,250,0.052146412);\">a</span> <span style=\"background-color:rgba(135,206,250,0.1091938);\">perennially</span> <span style=\"background-color:rgba(135,206,250,0.12365359);\">impresses</span> <span style=\"background-color:rgba(135,206,250,0.04872337);\">among</span> <span style=\"background-color:rgba(135,206,250,0.044653643);\">the</span> <span style=\"background-color:rgba(135,206,250,0.019717505);\">'</span> <span style=\"background-color:rgba(135,206,250,0.10859565);\">07</span> <span style=\"background-color:rgba(135,206,250,0.038289465);\">single</span> <span style=\"background-color:rgba(135,206,250,0.031120341);\">-</span> <span style=\"background-color:rgba(135,206,250,0.097202055);\">vineyard</span> <span style=\"background-color:rgba(135,206,250,0.15817319);\">site</span> <span style=\"background-color:rgba(135,206,250,0.09579628);\">,</span> <span style=\"background-color:rgba(135,206,250,0.18428029);\">this</span> <span style=\"background-color:rgba(135,206,250,0.09546627);\">elegant</span> <span style=\"background-color:rgba(135,206,250,0.2731942);\">yet</span> <span style=\"background-color:rgba(135,206,250,0.240547);\">abundantly</span> <span style=\"background-color:rgba(135,206,250,0.2941708);\">fruited</span> <span style=\"background-color:rgba(135,206,250,0.8198317);\">wine</span> <span style=\"background-color:rgba(135,206,250,1.0);\">boasts</span> <span style=\"background-color:rgba(135,206,250,0.3115803);\">deep</span>"
            ]
          },
          "metadata": {}
        },
        {
          "output_type": "stream",
          "name": "stdout",
          "text": [
            "aromas:   \t14.37%\n",
            "flavors:   \t8.17%\n",
            "black:   \t6.07%\n",
            ",:   \t5.95%\n",
            "ruby:   \t5.72%\n",
            "--------\n",
            "\n"
          ]
        },
        {
          "output_type": "display_data",
          "data": {
            "text/plain": [
              "<IPython.core.display.HTML object>"
            ],
            "text/html": [
              "<span style=\"background-color:rgba(135,206,250,0.20490678);\">wine</span> <span style=\"background-color:rgba(135,206,250,0.39960247);\">review</span> <span style=\"background-color:rgba(135,206,250,0.3681787);\">:</span> <span style=\"background-color:rgba(135,206,250,0.4307173);\">india</span> <span style=\"background-color:rgba(135,206,250,0.34506536);\">:</span> <span style=\"background-color:rgba(135,206,250,0.11532966);\">nashik</span> <span style=\"background-color:rgba(135,206,250,0.19090798);\">:</span> <span style=\"background-color:rgba(135,206,250,0.08883091);\">shiraz</span> <span style=\"background-color:rgba(135,206,250,0.13161941);\">:</span> <span style=\"background-color:rgba(135,206,250,0.09805935);\">a</span> <span style=\"background-color:rgba(135,206,250,0.118139915);\">perennially</span> <span style=\"background-color:rgba(135,206,250,0.11119548);\">impresses</span> <span style=\"background-color:rgba(135,206,250,0.14667994);\">among</span> <span style=\"background-color:rgba(135,206,250,0.09881613);\">the</span> <span style=\"background-color:rgba(135,206,250,0.06358043);\">'</span> <span style=\"background-color:rgba(135,206,250,0.14002697);\">07</span> <span style=\"background-color:rgba(135,206,250,0.08012395);\">single</span> <span style=\"background-color:rgba(135,206,250,0.06459504);\">-</span> <span style=\"background-color:rgba(135,206,250,0.07080968);\">vineyard</span> <span style=\"background-color:rgba(135,206,250,0.12991828);\">site</span> <span style=\"background-color:rgba(135,206,250,0.11574752);\">,</span> <span style=\"background-color:rgba(135,206,250,0.30662414);\">this</span> <span style=\"background-color:rgba(135,206,250,0.12035404);\">elegant</span> <span style=\"background-color:rgba(135,206,250,0.18159401);\">yet</span> <span style=\"background-color:rgba(135,206,250,0.24826033);\">abundantly</span> <span style=\"background-color:rgba(135,206,250,0.2825822);\">fruited</span> <span style=\"background-color:rgba(135,206,250,0.5432088);\">wine</span> <span style=\"background-color:rgba(135,206,250,1.0);\">boasts</span> <span style=\"background-color:rgba(135,206,250,0.43750805);\">deep</span> <span style=\"background-color:rgba(135,206,250,0.40486977);\">violet</span>"
            ]
          },
          "metadata": {}
        },
        {
          "output_type": "stream",
          "name": "stdout",
          "text": [
            ",:   \t28.9%\n",
            "and:   \t28.71%\n",
            "aromas:   \t15.79%\n",
            "notes:   \t12.31%\n",
            "scents:   \t3.21%\n",
            "--------\n",
            "\n"
          ]
        },
        {
          "output_type": "display_data",
          "data": {
            "text/plain": [
              "<IPython.core.display.HTML object>"
            ],
            "text/html": [
              "<span style=\"background-color:rgba(135,206,250,0.1057206);\">wine</span> <span style=\"background-color:rgba(135,206,250,0.26961747);\">review</span> <span style=\"background-color:rgba(135,206,250,0.30818117);\">:</span> <span style=\"background-color:rgba(135,206,250,0.44780692);\">india</span> <span style=\"background-color:rgba(135,206,250,0.22195126);\">:</span> <span style=\"background-color:rgba(135,206,250,0.09687948);\">nashik</span> <span style=\"background-color:rgba(135,206,250,0.083744854);\">:</span> <span style=\"background-color:rgba(135,206,250,0.056464214);\">shiraz</span> <span style=\"background-color:rgba(135,206,250,0.088432886);\">:</span> <span style=\"background-color:rgba(135,206,250,0.040225852);\">a</span> <span style=\"background-color:rgba(135,206,250,0.097840786);\">perennially</span> <span style=\"background-color:rgba(135,206,250,0.12158226);\">impresses</span> <span style=\"background-color:rgba(135,206,250,0.13049431);\">among</span> <span style=\"background-color:rgba(135,206,250,0.042626973);\">the</span> <span style=\"background-color:rgba(135,206,250,0.032549564);\">'</span> <span style=\"background-color:rgba(135,206,250,0.0907669);\">07</span> <span style=\"background-color:rgba(135,206,250,0.053530537);\">single</span> <span style=\"background-color:rgba(135,206,250,0.02945718);\">-</span> <span style=\"background-color:rgba(135,206,250,0.054691337);\">vineyard</span> <span style=\"background-color:rgba(135,206,250,0.10288122);\">site</span> <span style=\"background-color:rgba(135,206,250,0.08064212);\">,</span> <span style=\"background-color:rgba(135,206,250,0.16754909);\">this</span> <span style=\"background-color:rgba(135,206,250,0.091382146);\">elegant</span> <span style=\"background-color:rgba(135,206,250,0.24181502);\">yet</span> <span style=\"background-color:rgba(135,206,250,0.20403866);\">abundantly</span> <span style=\"background-color:rgba(135,206,250,0.18362963);\">fruited</span> <span style=\"background-color:rgba(135,206,250,0.42434284);\">wine</span> <span style=\"background-color:rgba(135,206,250,0.93507737);\">boasts</span> <span style=\"background-color:rgba(135,206,250,0.24499999);\">deep</span> <span style=\"background-color:rgba(135,206,250,1.0);\">violet</span> <span style=\"background-color:rgba(135,206,250,0.40873206);\">notes</span>"
            ]
          },
          "metadata": {}
        },
        {
          "output_type": "stream",
          "name": "stdout",
          "text": [
            ",:   \t23.47%\n",
            "of:   \t19.84%\n",
            "and:   \t15.46%\n",
            "on:   \t6.03%\n",
            "with:   \t3.82%\n",
            "--------\n",
            "\n"
          ]
        },
        {
          "output_type": "display_data",
          "data": {
            "text/plain": [
              "<IPython.core.display.HTML object>"
            ],
            "text/html": [
              "<span style=\"background-color:rgba(135,206,250,0.08089536);\">wine</span> <span style=\"background-color:rgba(135,206,250,0.12415932);\">review</span> <span style=\"background-color:rgba(135,206,250,0.16580287);\">:</span> <span style=\"background-color:rgba(135,206,250,0.8493947);\">india</span> <span style=\"background-color:rgba(135,206,250,0.08909071);\">:</span> <span style=\"background-color:rgba(135,206,250,0.22313727);\">nashik</span> <span style=\"background-color:rgba(135,206,250,0.06719955);\">:</span> <span style=\"background-color:rgba(135,206,250,0.21170516);\">shiraz</span> <span style=\"background-color:rgba(135,206,250,0.077121325);\">:</span> <span style=\"background-color:rgba(135,206,250,0.038570546);\">a</span> <span style=\"background-color:rgba(135,206,250,0.0830781);\">perennially</span> <span style=\"background-color:rgba(135,206,250,0.08930578);\">impresses</span> <span style=\"background-color:rgba(135,206,250,0.029038401);\">among</span> <span style=\"background-color:rgba(135,206,250,0.031571332);\">the</span> <span style=\"background-color:rgba(135,206,250,0.016533375);\">'</span> <span style=\"background-color:rgba(135,206,250,0.07899243);\">07</span> <span style=\"background-color:rgba(135,206,250,0.027225845);\">single</span> <span style=\"background-color:rgba(135,206,250,0.0262278);\">-</span> <span style=\"background-color:rgba(135,206,250,0.054044455);\">vineyard</span> <span style=\"background-color:rgba(135,206,250,0.10128876);\">site</span> <span style=\"background-color:rgba(135,206,250,0.05507882);\">,</span> <span style=\"background-color:rgba(135,206,250,0.07901609);\">this</span> <span style=\"background-color:rgba(135,206,250,0.08113932);\">elegant</span> <span style=\"background-color:rgba(135,206,250,0.08548654);\">yet</span> <span style=\"background-color:rgba(135,206,250,0.1273975);\">abundantly</span> <span style=\"background-color:rgba(135,206,250,0.16852865);\">fruited</span> <span style=\"background-color:rgba(135,206,250,0.2682679);\">wine</span> <span style=\"background-color:rgba(135,206,250,0.26848462);\">boasts</span> <span style=\"background-color:rgba(135,206,250,0.3659516);\">deep</span> <span style=\"background-color:rgba(135,206,250,0.4462227);\">violet</span> <span style=\"background-color:rgba(135,206,250,1.0);\">notes</span> <span style=\"background-color:rgba(135,206,250,0.22842243);\">of</span>"
            ]
          },
          "metadata": {}
        },
        {
          "output_type": "stream",
          "name": "stdout",
          "text": [
            "black:   \t17.24%\n",
            "blueberry:   \t8.2%\n",
            "blackberry:   \t7.83%\n",
            "cherry:   \t5.26%\n",
            "cassis:   \t5.09%\n",
            "--------\n",
            "\n"
          ]
        },
        {
          "output_type": "display_data",
          "data": {
            "text/plain": [
              "<IPython.core.display.HTML object>"
            ],
            "text/html": [
              "<span style=\"background-color:rgba(135,206,250,0.14305209);\">wine</span> <span style=\"background-color:rgba(135,206,250,0.30125827);\">review</span> <span style=\"background-color:rgba(135,206,250,0.46740356);\">:</span> <span style=\"background-color:rgba(135,206,250,0.7251402);\">india</span> <span style=\"background-color:rgba(135,206,250,0.28631276);\">:</span> <span style=\"background-color:rgba(135,206,250,0.114840545);\">nashik</span> <span style=\"background-color:rgba(135,206,250,0.14412445);\">:</span> <span style=\"background-color:rgba(135,206,250,0.11571894);\">shiraz</span> <span style=\"background-color:rgba(135,206,250,0.13468553);\">:</span> <span style=\"background-color:rgba(135,206,250,0.055670824);\">a</span> <span style=\"background-color:rgba(135,206,250,0.10469151);\">perennially</span> <span style=\"background-color:rgba(135,206,250,0.118955955);\">impresses</span> <span style=\"background-color:rgba(135,206,250,0.13092661);\">among</span> <span style=\"background-color:rgba(135,206,250,0.050026465);\">the</span> <span style=\"background-color:rgba(135,206,250,0.023646565);\">'</span> <span style=\"background-color:rgba(135,206,250,0.08417882);\">07</span> <span style=\"background-color:rgba(135,206,250,0.04164686);\">single</span> <span style=\"background-color:rgba(135,206,250,0.024119323);\">-</span> <span style=\"background-color:rgba(135,206,250,0.058511104);\">vineyard</span> <span style=\"background-color:rgba(135,206,250,0.11153309);\">site</span> <span style=\"background-color:rgba(135,206,250,0.06780576);\">,</span> <span style=\"background-color:rgba(135,206,250,0.16006938);\">this</span> <span style=\"background-color:rgba(135,206,250,0.057919364);\">elegant</span> <span style=\"background-color:rgba(135,206,250,0.13779134);\">yet</span> <span style=\"background-color:rgba(135,206,250,0.17069599);\">abundantly</span> <span style=\"background-color:rgba(135,206,250,0.16113386);\">fruited</span> <span style=\"background-color:rgba(135,206,250,0.3776655);\">wine</span> <span style=\"background-color:rgba(135,206,250,0.76176125);\">boasts</span> <span style=\"background-color:rgba(135,206,250,0.14732741);\">deep</span> <span style=\"background-color:rgba(135,206,250,0.25147542);\">violet</span> <span style=\"background-color:rgba(135,206,250,0.848234);\">notes</span> <span style=\"background-color:rgba(135,206,250,1.0);\">of</span> <span style=\"background-color:rgba(135,206,250,0.33595768);\">oregano</span>"
            ]
          },
          "metadata": {}
        },
        {
          "output_type": "stream",
          "name": "stdout",
          "text": [
            ",:   \t76.57%\n",
            "and:   \t22.65%\n",
            "or:   \t0.2%\n",
            "on:   \t0.1%\n",
            ".:   \t0.08%\n",
            "--------\n",
            "\n"
          ]
        },
        {
          "output_type": "display_data",
          "data": {
            "text/plain": [
              "<IPython.core.display.HTML object>"
            ],
            "text/html": [
              "<span style=\"background-color:rgba(135,206,250,0.037930537);\">wine</span> <span style=\"background-color:rgba(135,206,250,0.079882056);\">review</span> <span style=\"background-color:rgba(135,206,250,0.09802306);\">:</span> <span style=\"background-color:rgba(135,206,250,0.43415868);\">india</span> <span style=\"background-color:rgba(135,206,250,0.050462108);\">:</span> <span style=\"background-color:rgba(135,206,250,0.07466788);\">nashik</span> <span style=\"background-color:rgba(135,206,250,0.031687543);\">:</span> <span style=\"background-color:rgba(135,206,250,0.095782325);\">shiraz</span> <span style=\"background-color:rgba(135,206,250,0.047345914);\">:</span> <span style=\"background-color:rgba(135,206,250,0.019106992);\">a</span> <span style=\"background-color:rgba(135,206,250,0.05522352);\">perennially</span> <span style=\"background-color:rgba(135,206,250,0.06922178);\">impresses</span> <span style=\"background-color:rgba(135,206,250,0.03830535);\">among</span> <span style=\"background-color:rgba(135,206,250,0.01696689);\">the</span> <span style=\"background-color:rgba(135,206,250,0.0071930382);\">'</span> <span style=\"background-color:rgba(135,206,250,0.04736106);\">07</span> <span style=\"background-color:rgba(135,206,250,0.014474261);\">single</span> <span style=\"background-color:rgba(135,206,250,0.009091504);\">-</span> <span style=\"background-color:rgba(135,206,250,0.023143403);\">vineyard</span> <span style=\"background-color:rgba(135,206,250,0.050409332);\">site</span> <span style=\"background-color:rgba(135,206,250,0.01941641);\">,</span> <span style=\"background-color:rgba(135,206,250,0.05973387);\">this</span> <span style=\"background-color:rgba(135,206,250,0.043735348);\">elegant</span> <span style=\"background-color:rgba(135,206,250,0.06673153);\">yet</span> <span style=\"background-color:rgba(135,206,250,0.080900215);\">abundantly</span> <span style=\"background-color:rgba(135,206,250,0.063759066);\">fruited</span> <span style=\"background-color:rgba(135,206,250,0.11713249);\">wine</span> <span style=\"background-color:rgba(135,206,250,0.17067194);\">boasts</span> <span style=\"background-color:rgba(135,206,250,0.13755478);\">deep</span> <span style=\"background-color:rgba(135,206,250,0.20234185);\">violet</span> <span style=\"background-color:rgba(135,206,250,0.2526462);\">notes</span> <span style=\"background-color:rgba(135,206,250,0.20650941);\">of</span> <span style=\"background-color:rgba(135,206,250,1.0);\">oregano</span> <span style=\"background-color:rgba(135,206,250,0.17743355);\">,</span>"
            ]
          },
          "metadata": {}
        },
        {
          "output_type": "stream",
          "name": "stdout",
          "text": [
            "thyme:   \t17.53%\n",
            "black:   \t8.02%\n",
            "bay:   \t6.02%\n",
            "rosemary:   \t2.81%\n",
            "cherry:   \t2.26%\n",
            "--------\n",
            "\n"
          ]
        },
        {
          "output_type": "display_data",
          "data": {
            "text/plain": [
              "<IPython.core.display.HTML object>"
            ],
            "text/html": [
              "<span style=\"background-color:rgba(135,206,250,0.12472604);\">wine</span> <span style=\"background-color:rgba(135,206,250,0.17932837);\">review</span> <span style=\"background-color:rgba(135,206,250,0.23970947);\">:</span> <span style=\"background-color:rgba(135,206,250,0.8038185);\">india</span> <span style=\"background-color:rgba(135,206,250,0.17873928);\">:</span> <span style=\"background-color:rgba(135,206,250,0.20247306);\">nashik</span> <span style=\"background-color:rgba(135,206,250,0.09577021);\">:</span> <span style=\"background-color:rgba(135,206,250,0.20823652);\">shiraz</span> <span style=\"background-color:rgba(135,206,250,0.08885003);\">:</span> <span style=\"background-color:rgba(135,206,250,0.03411989);\">a</span> <span style=\"background-color:rgba(135,206,250,0.05764331);\">perennially</span> <span style=\"background-color:rgba(135,206,250,0.048376665);\">impresses</span> <span style=\"background-color:rgba(135,206,250,0.028126651);\">among</span> <span style=\"background-color:rgba(135,206,250,0.032052115);\">the</span> <span style=\"background-color:rgba(135,206,250,0.01520254);\">'</span> <span style=\"background-color:rgba(135,206,250,0.093495205);\">07</span> <span style=\"background-color:rgba(135,206,250,0.024973698);\">single</span> <span style=\"background-color:rgba(135,206,250,0.020540873);\">-</span> <span style=\"background-color:rgba(135,206,250,0.045000017);\">vineyard</span> <span style=\"background-color:rgba(135,206,250,0.086255044);\">site</span> <span style=\"background-color:rgba(135,206,250,0.05274405);\">,</span> <span style=\"background-color:rgba(135,206,250,0.047775086);\">this</span> <span style=\"background-color:rgba(135,206,250,0.057712737);\">elegant</span> <span style=\"background-color:rgba(135,206,250,0.080678254);\">yet</span> <span style=\"background-color:rgba(135,206,250,0.073084995);\">abundantly</span> <span style=\"background-color:rgba(135,206,250,0.12883775);\">fruited</span> <span style=\"background-color:rgba(135,206,250,0.11282228);\">wine</span> <span style=\"background-color:rgba(135,206,250,0.15049987);\">boasts</span> <span style=\"background-color:rgba(135,206,250,0.14841412);\">deep</span> <span style=\"background-color:rgba(135,206,250,0.26654807);\">violet</span> <span style=\"background-color:rgba(135,206,250,0.3551753);\">notes</span> <span style=\"background-color:rgba(135,206,250,0.30261013);\">of</span> <span style=\"background-color:rgba(135,206,250,1.0);\">oregano</span> <span style=\"background-color:rgba(135,206,250,0.48832616);\">,</span> <span style=\"background-color:rgba(135,206,250,0.16763297);\">black</span>"
            ]
          },
          "metadata": {}
        },
        {
          "output_type": "stream",
          "name": "stdout",
          "text": [
            "cherry:   \t62.66%\n",
            "pepper:   \t12.24%\n",
            "olive:   \t4.87%\n",
            "currant:   \t4.13%\n",
            "plum:   \t3.99%\n",
            "--------\n",
            "\n"
          ]
        },
        {
          "output_type": "display_data",
          "data": {
            "text/plain": [
              "<IPython.core.display.HTML object>"
            ],
            "text/html": [
              "<span style=\"background-color:rgba(135,206,250,0.07974891);\">wine</span> <span style=\"background-color:rgba(135,206,250,0.1413352);\">review</span> <span style=\"background-color:rgba(135,206,250,0.25239563);\">:</span> <span style=\"background-color:rgba(135,206,250,1.0);\">india</span> <span style=\"background-color:rgba(135,206,250,0.1655831);\">:</span> <span style=\"background-color:rgba(135,206,250,0.095221795);\">nashik</span> <span style=\"background-color:rgba(135,206,250,0.09605089);\">:</span> <span style=\"background-color:rgba(135,206,250,0.08916327);\">shiraz</span> <span style=\"background-color:rgba(135,206,250,0.07196315);\">:</span> <span style=\"background-color:rgba(135,206,250,0.051525135);\">a</span> <span style=\"background-color:rgba(135,206,250,0.06278332);\">perennially</span> <span style=\"background-color:rgba(135,206,250,0.052380044);\">impresses</span> <span style=\"background-color:rgba(135,206,250,0.052445978);\">among</span> <span style=\"background-color:rgba(135,206,250,0.027151309);\">the</span> <span style=\"background-color:rgba(135,206,250,0.019114187);\">'</span> <span style=\"background-color:rgba(135,206,250,0.07401955);\">07</span> <span style=\"background-color:rgba(135,206,250,0.02429136);\">single</span> <span style=\"background-color:rgba(135,206,250,0.01359574);\">-</span> <span style=\"background-color:rgba(135,206,250,0.036519747);\">vineyard</span> <span style=\"background-color:rgba(135,206,250,0.078925475);\">site</span> <span style=\"background-color:rgba(135,206,250,0.041042026);\">,</span> <span style=\"background-color:rgba(135,206,250,0.070064686);\">this</span> <span style=\"background-color:rgba(135,206,250,0.058584705);\">elegant</span> <span style=\"background-color:rgba(135,206,250,0.075610496);\">yet</span> <span style=\"background-color:rgba(135,206,250,0.18783161);\">abundantly</span> <span style=\"background-color:rgba(135,206,250,0.17060483);\">fruited</span> <span style=\"background-color:rgba(135,206,250,0.17660175);\">wine</span> <span style=\"background-color:rgba(135,206,250,0.29905117);\">boasts</span> <span style=\"background-color:rgba(135,206,250,0.15535697);\">deep</span> <span style=\"background-color:rgba(135,206,250,0.17396371);\">violet</span> <span style=\"background-color:rgba(135,206,250,0.48523885);\">notes</span> <span style=\"background-color:rgba(135,206,250,0.44603392);\">of</span> <span style=\"background-color:rgba(135,206,250,0.35954258);\">oregano</span> <span style=\"background-color:rgba(135,206,250,0.49707958);\">,</span> <span style=\"background-color:rgba(135,206,250,0.20689298);\">black</span> <span style=\"background-color:rgba(135,206,250,0.19434573);\">currant</span>"
            ]
          },
          "metadata": {}
        },
        {
          "output_type": "stream",
          "name": "stdout",
          "text": [
            "and:   \t57.29%\n",
            ",:   \t38.82%\n",
            "leaf:   \t0.73%\n",
            ".:   \t0.43%\n",
            "skin:   \t0.29%\n",
            "--------\n",
            "\n"
          ]
        },
        {
          "output_type": "display_data",
          "data": {
            "text/plain": [
              "<IPython.core.display.HTML object>"
            ],
            "text/html": [
              "<span style=\"background-color:rgba(135,206,250,0.053896923);\">wine</span> <span style=\"background-color:rgba(135,206,250,0.088350065);\">review</span> <span style=\"background-color:rgba(135,206,250,0.098926425);\">:</span> <span style=\"background-color:rgba(135,206,250,0.73582876);\">india</span> <span style=\"background-color:rgba(135,206,250,0.06020724);\">:</span> <span style=\"background-color:rgba(135,206,250,0.12507248);\">nashik</span> <span style=\"background-color:rgba(135,206,250,0.04219311);\">:</span> <span style=\"background-color:rgba(135,206,250,0.1168164);\">shiraz</span> <span style=\"background-color:rgba(135,206,250,0.058512643);\">:</span> <span style=\"background-color:rgba(135,206,250,0.0235529);\">a</span> <span style=\"background-color:rgba(135,206,250,0.058733106);\">perennially</span> <span style=\"background-color:rgba(135,206,250,0.06241422);\">impresses</span> <span style=\"background-color:rgba(135,206,250,0.02282833);\">among</span> <span style=\"background-color:rgba(135,206,250,0.017272262);\">the</span> <span style=\"background-color:rgba(135,206,250,0.0090838075);\">'</span> <span style=\"background-color:rgba(135,206,250,0.06588205);\">07</span> <span style=\"background-color:rgba(135,206,250,0.017493876);\">single</span> <span style=\"background-color:rgba(135,206,250,0.013269079);\">-</span> <span style=\"background-color:rgba(135,206,250,0.03192599);\">vineyard</span> <span style=\"background-color:rgba(135,206,250,0.066582866);\">site</span> <span style=\"background-color:rgba(135,206,250,0.024399541);\">,</span> <span style=\"background-color:rgba(135,206,250,0.03555332);\">this</span> <span style=\"background-color:rgba(135,206,250,0.057547074);\">elegant</span> <span style=\"background-color:rgba(135,206,250,0.047780324);\">yet</span> <span style=\"background-color:rgba(135,206,250,0.08691442);\">abundantly</span> <span style=\"background-color:rgba(135,206,250,0.07870865);\">fruited</span> <span style=\"background-color:rgba(135,206,250,0.061307825);\">wine</span> <span style=\"background-color:rgba(135,206,250,0.08963699);\">boasts</span> <span style=\"background-color:rgba(135,206,250,0.10243349);\">deep</span> <span style=\"background-color:rgba(135,206,250,0.14807151);\">violet</span> <span style=\"background-color:rgba(135,206,250,0.16504608);\">notes</span> <span style=\"background-color:rgba(135,206,250,0.11157007);\">of</span> <span style=\"background-color:rgba(135,206,250,0.64878005);\">oregano</span> <span style=\"background-color:rgba(135,206,250,0.37903306);\">,</span> <span style=\"background-color:rgba(135,206,250,0.3376658);\">black</span> <span style=\"background-color:rgba(135,206,250,1.0);\">currant</span> <span style=\"background-color:rgba(135,206,250,0.21540056);\">and</span>"
            ]
          },
          "metadata": {}
        },
        {
          "output_type": "stream",
          "name": "stdout",
          "text": [
            "black:   \t8.46%\n",
            "a:   \t4.25%\n",
            "blackberry:   \t3.57%\n",
            "cherry:   \t3.47%\n",
            "dark:   \t2.86%\n",
            "--------\n",
            "\n"
          ]
        },
        {
          "output_type": "display_data",
          "data": {
            "text/plain": [
              "<IPython.core.display.HTML object>"
            ],
            "text/html": [
              "<span style=\"background-color:rgba(135,206,250,0.24418296);\">wine</span> <span style=\"background-color:rgba(135,206,250,0.4855612);\">review</span> <span style=\"background-color:rgba(135,206,250,0.78830266);\">:</span> <span style=\"background-color:rgba(135,206,250,1.0);\">india</span> <span style=\"background-color:rgba(135,206,250,0.5752917);\">:</span> <span style=\"background-color:rgba(135,206,250,0.29554382);\">nashik</span> <span style=\"background-color:rgba(135,206,250,0.2824049);\">:</span> <span style=\"background-color:rgba(135,206,250,0.17309268);\">shiraz</span> <span style=\"background-color:rgba(135,206,250,0.20225261);\">:</span> <span style=\"background-color:rgba(135,206,250,0.11295876);\">a</span> <span style=\"background-color:rgba(135,206,250,0.11728532);\">perennially</span> <span style=\"background-color:rgba(135,206,250,0.08373098);\">impresses</span> <span style=\"background-color:rgba(135,206,250,0.080822274);\">among</span> <span style=\"background-color:rgba(135,206,250,0.087660134);\">the</span> <span style=\"background-color:rgba(135,206,250,0.051225547);\">'</span> <span style=\"background-color:rgba(135,206,250,0.09361453);\">07</span> <span style=\"background-color:rgba(135,206,250,0.049790543);\">single</span> <span style=\"background-color:rgba(135,206,250,0.03813786);\">-</span> <span style=\"background-color:rgba(135,206,250,0.084926344);\">vineyard</span> <span style=\"background-color:rgba(135,206,250,0.12716393);\">site</span> <span style=\"background-color:rgba(135,206,250,0.09759438);\">,</span> <span style=\"background-color:rgba(135,206,250,0.09191919);\">this</span> <span style=\"background-color:rgba(135,206,250,0.07513833);\">elegant</span> <span style=\"background-color:rgba(135,206,250,0.11671987);\">yet</span> <span style=\"background-color:rgba(135,206,250,0.09676457);\">abundantly</span> <span style=\"background-color:rgba(135,206,250,0.14573373);\">fruited</span> <span style=\"background-color:rgba(135,206,250,0.12873502);\">wine</span> <span style=\"background-color:rgba(135,206,250,0.26937324);\">boasts</span> <span style=\"background-color:rgba(135,206,250,0.1035376);\">deep</span> <span style=\"background-color:rgba(135,206,250,0.21570969);\">violet</span> <span style=\"background-color:rgba(135,206,250,0.32254663);\">notes</span> <span style=\"background-color:rgba(135,206,250,0.34501588);\">of</span> <span style=\"background-color:rgba(135,206,250,0.32591572);\">oregano</span> <span style=\"background-color:rgba(135,206,250,0.46069187);\">,</span> <span style=\"background-color:rgba(135,206,250,0.20466374);\">black</span> <span style=\"background-color:rgba(135,206,250,0.43498087);\">currant</span> <span style=\"background-color:rgba(135,206,250,0.9849137);\">and</span> <span style=\"background-color:rgba(135,206,250,0.31500998);\">cigar</span>"
            ]
          },
          "metadata": {}
        },
        {
          "output_type": "stream",
          "name": "stdout",
          "text": [
            "box:   \t80.44%\n",
            "-:   \t6.74%\n",
            "tobacco:   \t2.69%\n",
            ".:   \t2.67%\n",
            "smoke:   \t1.79%\n",
            "--------\n",
            "\n"
          ]
        },
        {
          "output_type": "display_data",
          "data": {
            "text/plain": [
              "<IPython.core.display.HTML object>"
            ],
            "text/html": [
              "<span style=\"background-color:rgba(135,206,250,0.07746089);\">wine</span> <span style=\"background-color:rgba(135,206,250,0.15906021);\">review</span> <span style=\"background-color:rgba(135,206,250,0.2256665);\">:</span> <span style=\"background-color:rgba(135,206,250,0.8501589);\">india</span> <span style=\"background-color:rgba(135,206,250,0.13474159);\">:</span> <span style=\"background-color:rgba(135,206,250,0.07784134);\">nashik</span> <span style=\"background-color:rgba(135,206,250,0.07521908);\">:</span> <span style=\"background-color:rgba(135,206,250,0.099698335);\">shiraz</span> <span style=\"background-color:rgba(135,206,250,0.07772893);\">:</span> <span style=\"background-color:rgba(135,206,250,0.05762775);\">a</span> <span style=\"background-color:rgba(135,206,250,0.08826009);\">perennially</span> <span style=\"background-color:rgba(135,206,250,0.090535864);\">impresses</span> <span style=\"background-color:rgba(135,206,250,0.06284297);\">among</span> <span style=\"background-color:rgba(135,206,250,0.03098087);\">the</span> <span style=\"background-color:rgba(135,206,250,0.012094111);\">'</span> <span style=\"background-color:rgba(135,206,250,0.08040045);\">07</span> <span style=\"background-color:rgba(135,206,250,0.02757274);\">single</span> <span style=\"background-color:rgba(135,206,250,0.015292327);\">-</span> <span style=\"background-color:rgba(135,206,250,0.029598003);\">vineyard</span> <span style=\"background-color:rgba(135,206,250,0.08071004);\">site</span> <span style=\"background-color:rgba(135,206,250,0.036999814);\">,</span> <span style=\"background-color:rgba(135,206,250,0.072247356);\">this</span> <span style=\"background-color:rgba(135,206,250,0.03466369);\">elegant</span> <span style=\"background-color:rgba(135,206,250,0.064749636);\">yet</span> <span style=\"background-color:rgba(135,206,250,0.17220883);\">abundantly</span> <span style=\"background-color:rgba(135,206,250,0.10540194);\">fruited</span> <span style=\"background-color:rgba(135,206,250,0.15314507);\">wine</span> <span style=\"background-color:rgba(135,206,250,0.29538846);\">boasts</span> <span style=\"background-color:rgba(135,206,250,0.09161121);\">deep</span> <span style=\"background-color:rgba(135,206,250,0.18575902);\">violet</span> <span style=\"background-color:rgba(135,206,250,0.36593485);\">notes</span> <span style=\"background-color:rgba(135,206,250,0.21751335);\">of</span> <span style=\"background-color:rgba(135,206,250,0.2319226);\">oregano</span> <span style=\"background-color:rgba(135,206,250,0.37205905);\">,</span> <span style=\"background-color:rgba(135,206,250,0.17213057);\">black</span> <span style=\"background-color:rgba(135,206,250,0.314216);\">currant</span> <span style=\"background-color:rgba(135,206,250,1.0);\">and</span> <span style=\"background-color:rgba(135,206,250,0.3805582);\">cigar</span> <span style=\"background-color:rgba(135,206,250,0.33891863);\">box</span>"
            ]
          },
          "metadata": {}
        },
        {
          "output_type": "stream",
          "name": "stdout",
          "text": [
            ".:   \t83.8%\n",
            "on:   \t5.04%\n",
            ",:   \t1.95%\n",
            "spice:   \t1.73%\n",
            "and:   \t0.43%\n",
            "--------\n",
            "\n"
          ]
        },
        {
          "output_type": "display_data",
          "data": {
            "text/plain": [
              "<IPython.core.display.HTML object>"
            ],
            "text/html": [
              "<span style=\"background-color:rgba(135,206,250,0.08507008);\">wine</span> <span style=\"background-color:rgba(135,206,250,0.17218272);\">review</span> <span style=\"background-color:rgba(135,206,250,0.47552496);\">:</span> <span style=\"background-color:rgba(135,206,250,1.0);\">india</span> <span style=\"background-color:rgba(135,206,250,0.33596525);\">:</span> <span style=\"background-color:rgba(135,206,250,0.5673608);\">nashik</span> <span style=\"background-color:rgba(135,206,250,0.1803193);\">:</span> <span style=\"background-color:rgba(135,206,250,0.21947466);\">shiraz</span> <span style=\"background-color:rgba(135,206,250,0.10773188);\">:</span> <span style=\"background-color:rgba(135,206,250,0.03475253);\">a</span> <span style=\"background-color:rgba(135,206,250,0.07303327);\">perennially</span> <span style=\"background-color:rgba(135,206,250,0.085549176);\">impresses</span> <span style=\"background-color:rgba(135,206,250,0.0372919);\">among</span> <span style=\"background-color:rgba(135,206,250,0.02016736);\">the</span> <span style=\"background-color:rgba(135,206,250,0.010300422);\">'</span> <span style=\"background-color:rgba(135,206,250,0.13454112);\">07</span> <span style=\"background-color:rgba(135,206,250,0.028741552);\">single</span> <span style=\"background-color:rgba(135,206,250,0.024634816);\">-</span> <span style=\"background-color:rgba(135,206,250,0.039846513);\">vineyard</span> <span style=\"background-color:rgba(135,206,250,0.09840136);\">site</span> <span style=\"background-color:rgba(135,206,250,0.033870198);\">,</span> <span style=\"background-color:rgba(135,206,250,0.07612558);\">this</span> <span style=\"background-color:rgba(135,206,250,0.043203916);\">elegant</span> <span style=\"background-color:rgba(135,206,250,0.053287324);\">yet</span> <span style=\"background-color:rgba(135,206,250,0.13340127);\">abundantly</span> <span style=\"background-color:rgba(135,206,250,0.057838902);\">fruited</span> <span style=\"background-color:rgba(135,206,250,0.0756121);\">wine</span> <span style=\"background-color:rgba(135,206,250,0.083035916);\">boasts</span> <span style=\"background-color:rgba(135,206,250,0.07536348);\">deep</span> <span style=\"background-color:rgba(135,206,250,0.05742701);\">violet</span> <span style=\"background-color:rgba(135,206,250,0.081281185);\">notes</span> <span style=\"background-color:rgba(135,206,250,0.041924734);\">of</span> <span style=\"background-color:rgba(135,206,250,0.083908044);\">oregano</span> <span style=\"background-color:rgba(135,206,250,0.06960881);\">,</span> <span style=\"background-color:rgba(135,206,250,0.06377994);\">black</span> <span style=\"background-color:rgba(135,206,250,0.11473946);\">currant</span> <span style=\"background-color:rgba(135,206,250,0.10665941);\">and</span> <span style=\"background-color:rgba(135,206,250,0.18085867);\">cigar</span> <span style=\"background-color:rgba(135,206,250,0.14249736);\">box</span> <span style=\"background-color:rgba(135,206,250,0.28925517);\">.</span>"
            ]
          },
          "metadata": {}
        },
        {
          "output_type": "stream",
          "name": "stdout",
          "text": [
            "it:   \t46.84%\n",
            "the:   \t9.58%\n",
            "there:   \t5.31%\n",
            "on:   \t3.4%\n",
            "a:   \t3.38%\n",
            "--------\n",
            "\n"
          ]
        },
        {
          "output_type": "display_data",
          "data": {
            "text/plain": [
              "<IPython.core.display.HTML object>"
            ],
            "text/html": [
              "<span style=\"background-color:rgba(135,206,250,0.025901536);\">wine</span> <span style=\"background-color:rgba(135,206,250,0.037314784);\">review</span> <span style=\"background-color:rgba(135,206,250,0.071568966);\">:</span> <span style=\"background-color:rgba(135,206,250,0.6042274);\">india</span> <span style=\"background-color:rgba(135,206,250,0.04838385);\">:</span> <span style=\"background-color:rgba(135,206,250,0.060606223);\">nashik</span> <span style=\"background-color:rgba(135,206,250,0.028140279);\">:</span> <span style=\"background-color:rgba(135,206,250,0.02934483);\">shiraz</span> <span style=\"background-color:rgba(135,206,250,0.029099515);\">:</span> <span style=\"background-color:rgba(135,206,250,0.015425263);\">a</span> <span style=\"background-color:rgba(135,206,250,0.03933346);\">perennially</span> <span style=\"background-color:rgba(135,206,250,0.034103148);\">impresses</span> <span style=\"background-color:rgba(135,206,250,0.01738644);\">among</span> <span style=\"background-color:rgba(135,206,250,0.008100856);\">the</span> <span style=\"background-color:rgba(135,206,250,0.0048583806);\">'</span> <span style=\"background-color:rgba(135,206,250,0.052010052);\">07</span> <span style=\"background-color:rgba(135,206,250,0.009684368);\">single</span> <span style=\"background-color:rgba(135,206,250,0.006898476);\">-</span> <span style=\"background-color:rgba(135,206,250,0.020112136);\">vineyard</span> <span style=\"background-color:rgba(135,206,250,0.04876295);\">site</span> <span style=\"background-color:rgba(135,206,250,0.012471892);\">,</span> <span style=\"background-color:rgba(135,206,250,0.013729139);\">this</span> <span style=\"background-color:rgba(135,206,250,0.031850044);\">elegant</span> <span style=\"background-color:rgba(135,206,250,0.028481359);\">yet</span> <span style=\"background-color:rgba(135,206,250,0.09846679);\">abundantly</span> <span style=\"background-color:rgba(135,206,250,0.047293592);\">fruited</span> <span style=\"background-color:rgba(135,206,250,0.030406727);\">wine</span> <span style=\"background-color:rgba(135,206,250,0.055130027);\">boasts</span> <span style=\"background-color:rgba(135,206,250,0.035904963);\">deep</span> <span style=\"background-color:rgba(135,206,250,0.04221382);\">violet</span> <span style=\"background-color:rgba(135,206,250,0.04715873);\">notes</span> <span style=\"background-color:rgba(135,206,250,0.033809494);\">of</span> <span style=\"background-color:rgba(135,206,250,0.065923214);\">oregano</span> <span style=\"background-color:rgba(135,206,250,0.06515871);\">,</span> <span style=\"background-color:rgba(135,206,250,0.03415692);\">black</span> <span style=\"background-color:rgba(135,206,250,0.083086886);\">currant</span> <span style=\"background-color:rgba(135,206,250,0.086526245);\">and</span> <span style=\"background-color:rgba(135,206,250,0.13327126);\">cigar</span> <span style=\"background-color:rgba(135,206,250,0.11750934);\">box</span> <span style=\"background-color:rgba(135,206,250,1.0);\">.</span> <span style=\"background-color:rgba(135,206,250,0.22216871);\">it</span>"
            ]
          },
          "metadata": {}
        },
        {
          "output_type": "stream",
          "name": "stdout",
          "text": [
            "is:   \t38.15%\n",
            "has:   \t13.2%\n",
            "':   \t10.53%\n",
            "feels:   \t3.27%\n",
            "offers:   \t2.76%\n",
            "--------\n",
            "\n"
          ]
        },
        {
          "output_type": "display_data",
          "data": {
            "text/plain": [
              "<IPython.core.display.HTML object>"
            ],
            "text/html": [
              "<span style=\"background-color:rgba(135,206,250,0.1340679);\">wine</span> <span style=\"background-color:rgba(135,206,250,0.28991473);\">review</span> <span style=\"background-color:rgba(135,206,250,0.62552613);\">:</span> <span style=\"background-color:rgba(135,206,250,0.5320371);\">india</span> <span style=\"background-color:rgba(135,206,250,0.4672154);\">:</span> <span style=\"background-color:rgba(135,206,250,0.20445971);\">nashik</span> <span style=\"background-color:rgba(135,206,250,0.18911187);\">:</span> <span style=\"background-color:rgba(135,206,250,0.12256102);\">shiraz</span> <span style=\"background-color:rgba(135,206,250,0.128631);\">:</span> <span style=\"background-color:rgba(135,206,250,0.052573066);\">a</span> <span style=\"background-color:rgba(135,206,250,0.08509856);\">perennially</span> <span style=\"background-color:rgba(135,206,250,0.055799995);\">impresses</span> <span style=\"background-color:rgba(135,206,250,0.064358585);\">among</span> <span style=\"background-color:rgba(135,206,250,0.029289166);\">the</span> <span style=\"background-color:rgba(135,206,250,0.025607571);\">'</span> <span style=\"background-color:rgba(135,206,250,0.07811724);\">07</span> <span style=\"background-color:rgba(135,206,250,0.030241461);\">single</span> <span style=\"background-color:rgba(135,206,250,0.022124555);\">-</span> <span style=\"background-color:rgba(135,206,250,0.054359663);\">vineyard</span> <span style=\"background-color:rgba(135,206,250,0.080851704);\">site</span> <span style=\"background-color:rgba(135,206,250,0.052846458);\">,</span> <span style=\"background-color:rgba(135,206,250,0.06772007);\">this</span> <span style=\"background-color:rgba(135,206,250,0.043154545);\">elegant</span> <span style=\"background-color:rgba(135,206,250,0.06828624);\">yet</span> <span style=\"background-color:rgba(135,206,250,0.059361067);\">abundantly</span> <span style=\"background-color:rgba(135,206,250,0.052798692);\">fruited</span> <span style=\"background-color:rgba(135,206,250,0.057496816);\">wine</span> <span style=\"background-color:rgba(135,206,250,0.107993476);\">boasts</span> <span style=\"background-color:rgba(135,206,250,0.04264755);\">deep</span> <span style=\"background-color:rgba(135,206,250,0.08568383);\">violet</span> <span style=\"background-color:rgba(135,206,250,0.08628846);\">notes</span> <span style=\"background-color:rgba(135,206,250,0.08416429);\">of</span> <span style=\"background-color:rgba(135,206,250,0.13293833);\">oregano</span> <span style=\"background-color:rgba(135,206,250,0.12233573);\">,</span> <span style=\"background-color:rgba(135,206,250,0.051238578);\">black</span> <span style=\"background-color:rgba(135,206,250,0.15270647);\">currant</span> <span style=\"background-color:rgba(135,206,250,0.17763421);\">and</span> <span style=\"background-color:rgba(135,206,250,0.13215746);\">cigar</span> <span style=\"background-color:rgba(135,206,250,0.2759852);\">box</span> <span style=\"background-color:rgba(135,206,250,1.0);\">.</span> <span style=\"background-color:rgba(135,206,250,0.59655654);\">it</span> <span style=\"background-color:rgba(135,206,250,0.18153921);\">comes</span>"
            ]
          },
          "metadata": {}
        },
        {
          "output_type": "stream",
          "name": "stdout",
          "text": [
            "across:   \t39.83%\n",
            "through:   \t21.7%\n",
            "on:   \t10.07%\n",
            "in:   \t5.54%\n",
            "with:   \t4.54%\n",
            "--------\n",
            "\n"
          ]
        },
        {
          "output_type": "display_data",
          "data": {
            "text/plain": [
              "<IPython.core.display.HTML object>"
            ],
            "text/html": [
              "<span style=\"background-color:rgba(135,206,250,0.052998744);\">wine</span> <span style=\"background-color:rgba(135,206,250,0.091670305);\">review</span> <span style=\"background-color:rgba(135,206,250,0.17707834);\">:</span> <span style=\"background-color:rgba(135,206,250,0.6803287);\">india</span> <span style=\"background-color:rgba(135,206,250,0.105574735);\">:</span> <span style=\"background-color:rgba(135,206,250,0.26197213);\">nashik</span> <span style=\"background-color:rgba(135,206,250,0.06671005);\">:</span> <span style=\"background-color:rgba(135,206,250,0.09629922);\">shiraz</span> <span style=\"background-color:rgba(135,206,250,0.06248936);\">:</span> <span style=\"background-color:rgba(135,206,250,0.023039144);\">a</span> <span style=\"background-color:rgba(135,206,250,0.048471987);\">perennially</span> <span style=\"background-color:rgba(135,206,250,0.038826372);\">impresses</span> <span style=\"background-color:rgba(135,206,250,0.016563186);\">among</span> <span style=\"background-color:rgba(135,206,250,0.015407571);\">the</span> <span style=\"background-color:rgba(135,206,250,0.009115632);\">'</span> <span style=\"background-color:rgba(135,206,250,0.05759712);\">07</span> <span style=\"background-color:rgba(135,206,250,0.013968364);\">single</span> <span style=\"background-color:rgba(135,206,250,0.011500799);\">-</span> <span style=\"background-color:rgba(135,206,250,0.033314176);\">vineyard</span> <span style=\"background-color:rgba(135,206,250,0.06470276);\">site</span> <span style=\"background-color:rgba(135,206,250,0.026423626);\">,</span> <span style=\"background-color:rgba(135,206,250,0.022382574);\">this</span> <span style=\"background-color:rgba(135,206,250,0.026825907);\">elegant</span> <span style=\"background-color:rgba(135,206,250,0.030214256);\">yet</span> <span style=\"background-color:rgba(135,206,250,0.057826553);\">abundantly</span> <span style=\"background-color:rgba(135,206,250,0.040148485);\">fruited</span> <span style=\"background-color:rgba(135,206,250,0.039482597);\">wine</span> <span style=\"background-color:rgba(135,206,250,0.05160293);\">boasts</span> <span style=\"background-color:rgba(135,206,250,0.039890185);\">deep</span> <span style=\"background-color:rgba(135,206,250,0.03473602);\">violet</span> <span style=\"background-color:rgba(135,206,250,0.046544667);\">notes</span> <span style=\"background-color:rgba(135,206,250,0.030887995);\">of</span> <span style=\"background-color:rgba(135,206,250,0.057479296);\">oregano</span> <span style=\"background-color:rgba(135,206,250,0.063788824);\">,</span> <span style=\"background-color:rgba(135,206,250,0.042827014);\">black</span> <span style=\"background-color:rgba(135,206,250,0.06745733);\">currant</span> <span style=\"background-color:rgba(135,206,250,0.07850585);\">and</span> <span style=\"background-color:rgba(135,206,250,0.09624693);\">cigar</span> <span style=\"background-color:rgba(135,206,250,0.05568764);\">box</span> <span style=\"background-color:rgba(135,206,250,0.37592915);\">.</span> <span style=\"background-color:rgba(135,206,250,0.18717168);\">it</span> <span style=\"background-color:rgba(135,206,250,1.0);\">comes</span> <span style=\"background-color:rgba(135,206,250,0.14848024);\">across</span>"
            ]
          },
          "metadata": {}
        },
        {
          "output_type": "stream",
          "name": "stdout",
          "text": [
            "as:   \t83.66%\n",
            "the:   \t3.98%\n",
            "a:   \t2.59%\n",
            "on:   \t1.55%\n",
            "with:   \t0.67%\n",
            "--------\n",
            "\n"
          ]
        },
        {
          "output_type": "display_data",
          "data": {
            "text/plain": [
              "<IPython.core.display.HTML object>"
            ],
            "text/html": [
              "<span style=\"background-color:rgba(135,206,250,0.11166627);\">wine</span> <span style=\"background-color:rgba(135,206,250,0.16677767);\">review</span> <span style=\"background-color:rgba(135,206,250,0.20917143);\">:</span> <span style=\"background-color:rgba(135,206,250,0.6912332);\">india</span> <span style=\"background-color:rgba(135,206,250,0.13496794);\">:</span> <span style=\"background-color:rgba(135,206,250,0.2601085);\">nashik</span> <span style=\"background-color:rgba(135,206,250,0.09797027);\">:</span> <span style=\"background-color:rgba(135,206,250,0.21337605);\">shiraz</span> <span style=\"background-color:rgba(135,206,250,0.09320262);\">:</span> <span style=\"background-color:rgba(135,206,250,0.047903914);\">a</span> <span style=\"background-color:rgba(135,206,250,0.06338934);\">perennially</span> <span style=\"background-color:rgba(135,206,250,0.05071229);\">impresses</span> <span style=\"background-color:rgba(135,206,250,0.024985751);\">among</span> <span style=\"background-color:rgba(135,206,250,0.037003245);\">the</span> <span style=\"background-color:rgba(135,206,250,0.026714064);\">'</span> <span style=\"background-color:rgba(135,206,250,0.06400183);\">07</span> <span style=\"background-color:rgba(135,206,250,0.026108539);\">single</span> <span style=\"background-color:rgba(135,206,250,0.01827289);\">-</span> <span style=\"background-color:rgba(135,206,250,0.059033584);\">vineyard</span> <span style=\"background-color:rgba(135,206,250,0.07829031);\">site</span> <span style=\"background-color:rgba(135,206,250,0.0437509);\">,</span> <span style=\"background-color:rgba(135,206,250,0.038329013);\">this</span> <span style=\"background-color:rgba(135,206,250,0.04912183);\">elegant</span> <span style=\"background-color:rgba(135,206,250,0.061398435);\">yet</span> <span style=\"background-color:rgba(135,206,250,0.049114328);\">abundantly</span> <span style=\"background-color:rgba(135,206,250,0.06763371);\">fruited</span> <span style=\"background-color:rgba(135,206,250,0.06598174);\">wine</span> <span style=\"background-color:rgba(135,206,250,0.07008644);\">boasts</span> <span style=\"background-color:rgba(135,206,250,0.0885431);\">deep</span> <span style=\"background-color:rgba(135,206,250,0.08566903);\">violet</span> <span style=\"background-color:rgba(135,206,250,0.08937897);\">notes</span> <span style=\"background-color:rgba(135,206,250,0.056111813);\">of</span> <span style=\"background-color:rgba(135,206,250,0.13708204);\">oregano</span> <span style=\"background-color:rgba(135,206,250,0.09271642);\">,</span> <span style=\"background-color:rgba(135,206,250,0.12674184);\">black</span> <span style=\"background-color:rgba(135,206,250,0.108733624);\">currant</span> <span style=\"background-color:rgba(135,206,250,0.14011763);\">and</span> <span style=\"background-color:rgba(135,206,250,0.2063198);\">cigar</span> <span style=\"background-color:rgba(135,206,250,0.1463818);\">box</span> <span style=\"background-color:rgba(135,206,250,0.59325904);\">.</span> <span style=\"background-color:rgba(135,206,250,0.37608823);\">it</span> <span style=\"background-color:rgba(135,206,250,1.0);\">comes</span> <span style=\"background-color:rgba(135,206,250,0.99185467);\">across</span> <span style=\"background-color:rgba(135,206,250,0.2632238);\">as</span>"
            ]
          },
          "metadata": {}
        },
        {
          "output_type": "stream",
          "name": "stdout",
          "text": [
            "a:   \t18.34%\n",
            "well:   \t4.76%\n",
            "lush:   \t4.46%\n",
            "the:   \t3.36%\n",
            "soft:   \t3.0%\n",
            "--------\n",
            "\n"
          ]
        },
        {
          "output_type": "display_data",
          "data": {
            "text/plain": [
              "<IPython.core.display.HTML object>"
            ],
            "text/html": [
              "<span style=\"background-color:rgba(135,206,250,0.07603704);\">wine</span> <span style=\"background-color:rgba(135,206,250,0.11103339);\">review</span> <span style=\"background-color:rgba(135,206,250,0.14990626);\">:</span> <span style=\"background-color:rgba(135,206,250,0.2659406);\">india</span> <span style=\"background-color:rgba(135,206,250,0.1371474);\">:</span> <span style=\"background-color:rgba(135,206,250,0.11533075);\">nashik</span> <span style=\"background-color:rgba(135,206,250,0.07635422);\">:</span> <span style=\"background-color:rgba(135,206,250,0.042041413);\">shiraz</span> <span style=\"background-color:rgba(135,206,250,0.0568966);\">:</span> <span style=\"background-color:rgba(135,206,250,0.03137383);\">a</span> <span style=\"background-color:rgba(135,206,250,0.05250837);\">perennially</span> <span style=\"background-color:rgba(135,206,250,0.031352468);\">impresses</span> <span style=\"background-color:rgba(135,206,250,0.029343957);\">among</span> <span style=\"background-color:rgba(135,206,250,0.024322912);\">the</span> <span style=\"background-color:rgba(135,206,250,0.018181033);\">'</span> <span style=\"background-color:rgba(135,206,250,0.05491021);\">07</span> <span style=\"background-color:rgba(135,206,250,0.016174933);\">single</span> <span style=\"background-color:rgba(135,206,250,0.016611991);\">-</span> <span style=\"background-color:rgba(135,206,250,0.040059008);\">vineyard</span> <span style=\"background-color:rgba(135,206,250,0.07144501);\">site</span> <span style=\"background-color:rgba(135,206,250,0.04037288);\">,</span> <span style=\"background-color:rgba(135,206,250,0.037045326);\">this</span> <span style=\"background-color:rgba(135,206,250,0.031152586);\">elegant</span> <span style=\"background-color:rgba(135,206,250,0.04472439);\">yet</span> <span style=\"background-color:rgba(135,206,250,0.0503757);\">abundantly</span> <span style=\"background-color:rgba(135,206,250,0.035965107);\">fruited</span> <span style=\"background-color:rgba(135,206,250,0.033031248);\">wine</span> <span style=\"background-color:rgba(135,206,250,0.05785175);\">boasts</span> <span style=\"background-color:rgba(135,206,250,0.028206496);\">deep</span> <span style=\"background-color:rgba(135,206,250,0.043007586);\">violet</span> <span style=\"background-color:rgba(135,206,250,0.042440988);\">notes</span> <span style=\"background-color:rgba(135,206,250,0.040696897);\">of</span> <span style=\"background-color:rgba(135,206,250,0.06479596);\">oregano</span> <span style=\"background-color:rgba(135,206,250,0.07345061);\">,</span> <span style=\"background-color:rgba(135,206,250,0.024808018);\">black</span> <span style=\"background-color:rgba(135,206,250,0.05747674);\">currant</span> <span style=\"background-color:rgba(135,206,250,0.07294235);\">and</span> <span style=\"background-color:rgba(135,206,250,0.07486967);\">cigar</span> <span style=\"background-color:rgba(135,206,250,0.07684031);\">box</span> <span style=\"background-color:rgba(135,206,250,0.34360182);\">.</span> <span style=\"background-color:rgba(135,206,250,0.2016747);\">it</span> <span style=\"background-color:rgba(135,206,250,0.42209595);\">comes</span> <span style=\"background-color:rgba(135,206,250,0.19313338);\">across</span> <span style=\"background-color:rgba(135,206,250,1.0);\">as</span> <span style=\"background-color:rgba(135,206,250,0.18104117);\">well</span>"
            ]
          },
          "metadata": {}
        },
        {
          "output_type": "stream",
          "name": "stdout",
          "text": [
            "as:   \t96.61%\n",
            ",:   \t0.98%\n",
            ".:   \t0.56%\n",
            "on:   \t0.51%\n",
            "with:   \t0.17%\n",
            "--------\n",
            "\n"
          ]
        },
        {
          "output_type": "display_data",
          "data": {
            "text/plain": [
              "<IPython.core.display.HTML object>"
            ],
            "text/html": [
              "<span style=\"background-color:rgba(135,206,250,0.08419802);\">wine</span> <span style=\"background-color:rgba(135,206,250,0.123920195);\">review</span> <span style=\"background-color:rgba(135,206,250,0.16621211);\">:</span> <span style=\"background-color:rgba(135,206,250,0.57886606);\">india</span> <span style=\"background-color:rgba(135,206,250,0.104324624);\">:</span> <span style=\"background-color:rgba(135,206,250,0.23058099);\">nashik</span> <span style=\"background-color:rgba(135,206,250,0.07891712);\">:</span> <span style=\"background-color:rgba(135,206,250,0.17570974);\">shiraz</span> <span style=\"background-color:rgba(135,206,250,0.074321546);\">:</span> <span style=\"background-color:rgba(135,206,250,0.039615538);\">a</span> <span style=\"background-color:rgba(135,206,250,0.05296155);\">perennially</span> <span style=\"background-color:rgba(135,206,250,0.042435717);\">impresses</span> <span style=\"background-color:rgba(135,206,250,0.019379135);\">among</span> <span style=\"background-color:rgba(135,206,250,0.029865257);\">the</span> <span style=\"background-color:rgba(135,206,250,0.020314552);\">'</span> <span style=\"background-color:rgba(135,206,250,0.05671681);\">07</span> <span style=\"background-color:rgba(135,206,250,0.020897029);\">single</span> <span style=\"background-color:rgba(135,206,250,0.014727824);\">-</span> <span style=\"background-color:rgba(135,206,250,0.04709883);\">vineyard</span> <span style=\"background-color:rgba(135,206,250,0.06572593);\">site</span> <span style=\"background-color:rgba(135,206,250,0.033466846);\">,</span> <span style=\"background-color:rgba(135,206,250,0.028885996);\">this</span> <span style=\"background-color:rgba(135,206,250,0.038902428);\">elegant</span> <span style=\"background-color:rgba(135,206,250,0.046116307);\">yet</span> <span style=\"background-color:rgba(135,206,250,0.042347364);\">abundantly</span> <span style=\"background-color:rgba(135,206,250,0.053104587);\">fruited</span> <span style=\"background-color:rgba(135,206,250,0.049233064);\">wine</span> <span style=\"background-color:rgba(135,206,250,0.05281086);\">boasts</span> <span style=\"background-color:rgba(135,206,250,0.06720801);\">deep</span> <span style=\"background-color:rgba(135,206,250,0.06212916);\">violet</span> <span style=\"background-color:rgba(135,206,250,0.06553574);\">notes</span> <span style=\"background-color:rgba(135,206,250,0.038455483);\">of</span> <span style=\"background-color:rgba(135,206,250,0.09617176);\">oregano</span> <span style=\"background-color:rgba(135,206,250,0.06214543);\">,</span> <span style=\"background-color:rgba(135,206,250,0.082235746);\">black</span> <span style=\"background-color:rgba(135,206,250,0.076042056);\">currant</span> <span style=\"background-color:rgba(135,206,250,0.09325201);\">and</span> <span style=\"background-color:rgba(135,206,250,0.12835053);\">cigar</span> <span style=\"background-color:rgba(135,206,250,0.084301665);\">box</span> <span style=\"background-color:rgba(135,206,250,0.32149142);\">.</span> <span style=\"background-color:rgba(135,206,250,0.19938101);\">it</span> <span style=\"background-color:rgba(135,206,250,0.510687);\">comes</span> <span style=\"background-color:rgba(135,206,250,0.4680552);\">across</span> <span style=\"background-color:rgba(135,206,250,0.13727564);\">as</span> <span style=\"background-color:rgba(135,206,250,1.0);\">well</span> <span style=\"background-color:rgba(135,206,250,0.23597333);\">as</span>"
            ]
          },
          "metadata": {}
        },
        {
          "output_type": "stream",
          "name": "stdout",
          "text": [
            "a:   \t26.02%\n",
            "the:   \t10.22%\n",
            "on:   \t3.47%\n",
            "an:   \t2.79%\n",
            "full:   \t1.99%\n",
            "--------\n",
            "\n"
          ]
        },
        {
          "output_type": "display_data",
          "data": {
            "text/plain": [
              "<IPython.core.display.HTML object>"
            ],
            "text/html": [
              "<span style=\"background-color:rgba(135,206,250,0.1312148);\">wine</span> <span style=\"background-color:rgba(135,206,250,0.2960649);\">review</span> <span style=\"background-color:rgba(135,206,250,0.5888231);\">:</span> <span style=\"background-color:rgba(135,206,250,0.75874037);\">india</span> <span style=\"background-color:rgba(135,206,250,0.40237582);\">:</span> <span style=\"background-color:rgba(135,206,250,0.26685822);\">nashik</span> <span style=\"background-color:rgba(135,206,250,0.1665451);\">:</span> <span style=\"background-color:rgba(135,206,250,0.18562886);\">shiraz</span> <span style=\"background-color:rgba(135,206,250,0.124585874);\">:</span> <span style=\"background-color:rgba(135,206,250,0.04720937);\">a</span> <span style=\"background-color:rgba(135,206,250,0.076612614);\">perennially</span> <span style=\"background-color:rgba(135,206,250,0.07772871);\">impresses</span> <span style=\"background-color:rgba(135,206,250,0.080588765);\">among</span> <span style=\"background-color:rgba(135,206,250,0.042201843);\">the</span> <span style=\"background-color:rgba(135,206,250,0.023219801);\">'</span> <span style=\"background-color:rgba(135,206,250,0.062745124);\">07</span> <span style=\"background-color:rgba(135,206,250,0.02158468);\">single</span> <span style=\"background-color:rgba(135,206,250,0.014747148);\">-</span> <span style=\"background-color:rgba(135,206,250,0.03656228);\">vineyard</span> <span style=\"background-color:rgba(135,206,250,0.07119045);\">site</span> <span style=\"background-color:rgba(135,206,250,0.041546714);\">,</span> <span style=\"background-color:rgba(135,206,250,0.058213677);\">this</span> <span style=\"background-color:rgba(135,206,250,0.01966057);\">elegant</span> <span style=\"background-color:rgba(135,206,250,0.05740214);\">yet</span> <span style=\"background-color:rgba(135,206,250,0.05973892);\">abundantly</span> <span style=\"background-color:rgba(135,206,250,0.04450614);\">fruited</span> <span style=\"background-color:rgba(135,206,250,0.09299667);\">wine</span> <span style=\"background-color:rgba(135,206,250,0.18574095);\">boasts</span> <span style=\"background-color:rgba(135,206,250,0.034676384);\">deep</span> <span style=\"background-color:rgba(135,206,250,0.079689145);\">violet</span> <span style=\"background-color:rgba(135,206,250,0.10027041);\">notes</span> <span style=\"background-color:rgba(135,206,250,0.11364663);\">of</span> <span style=\"background-color:rgba(135,206,250,0.08935598);\">oregano</span> <span style=\"background-color:rgba(135,206,250,0.11723363);\">,</span> <span style=\"background-color:rgba(135,206,250,0.06448295);\">black</span> <span style=\"background-color:rgba(135,206,250,0.11508438);\">currant</span> <span style=\"background-color:rgba(135,206,250,0.16622134);\">and</span> <span style=\"background-color:rgba(135,206,250,0.11081038);\">cigar</span> <span style=\"background-color:rgba(135,206,250,0.10445026);\">box</span> <span style=\"background-color:rgba(135,206,250,0.9380409);\">.</span> <span style=\"background-color:rgba(135,206,250,0.7069539);\">it</span> <span style=\"background-color:rgba(135,206,250,0.6053659);\">comes</span> <span style=\"background-color:rgba(135,206,250,0.68863505);\">across</span> <span style=\"background-color:rgba(135,206,250,0.6029522);\">as</span> <span style=\"background-color:rgba(135,206,250,0.8702473);\">well</span> <span style=\"background-color:rgba(135,206,250,1.0);\">as</span> <span style=\"background-color:rgba(135,206,250,0.5001996);\">purity</span>"
            ]
          },
          "metadata": {}
        },
        {
          "output_type": "stream",
          "name": "stdout",
          "text": [
            "and:   \t43.66%\n",
            ".:   \t13.13%\n",
            ",:   \t10.45%\n",
            "of:   \t10.36%\n",
            "on:   \t7.56%\n",
            "--------\n",
            "\n"
          ]
        },
        {
          "output_type": "display_data",
          "data": {
            "text/plain": [
              "<IPython.core.display.HTML object>"
            ],
            "text/html": [
              "<span style=\"background-color:rgba(135,206,250,0.066695064);\">wine</span> <span style=\"background-color:rgba(135,206,250,0.119217105);\">review</span> <span style=\"background-color:rgba(135,206,250,0.44590336);\">:</span> <span style=\"background-color:rgba(135,206,250,1.0);\">india</span> <span style=\"background-color:rgba(135,206,250,0.30704433);\">:</span> <span style=\"background-color:rgba(135,206,250,0.83348244);\">nashik</span> <span style=\"background-color:rgba(135,206,250,0.19184677);\">:</span> <span style=\"background-color:rgba(135,206,250,0.2636554);\">shiraz</span> <span style=\"background-color:rgba(135,206,250,0.11330496);\">:</span> <span style=\"background-color:rgba(135,206,250,0.03186782);\">a</span> <span style=\"background-color:rgba(135,206,250,0.06350348);\">perennially</span> <span style=\"background-color:rgba(135,206,250,0.06771178);\">impresses</span> <span style=\"background-color:rgba(135,206,250,0.03163033);\">among</span> <span style=\"background-color:rgba(135,206,250,0.01766008);\">the</span> <span style=\"background-color:rgba(135,206,250,0.008458081);\">'</span> <span style=\"background-color:rgba(135,206,250,0.12526678);\">07</span> <span style=\"background-color:rgba(135,206,250,0.022377897);\">single</span> <span style=\"background-color:rgba(135,206,250,0.020028047);\">-</span> <span style=\"background-color:rgba(135,206,250,0.032431595);\">vineyard</span> <span style=\"background-color:rgba(135,206,250,0.0831388);\">site</span> <span style=\"background-color:rgba(135,206,250,0.027162896);\">,</span> <span style=\"background-color:rgba(135,206,250,0.051325254);\">this</span> <span style=\"background-color:rgba(135,206,250,0.03308944);\">elegant</span> <span style=\"background-color:rgba(135,206,250,0.038714882);\">yet</span> <span style=\"background-color:rgba(135,206,250,0.1188805);\">abundantly</span> <span style=\"background-color:rgba(135,206,250,0.044233996);\">fruited</span> <span style=\"background-color:rgba(135,206,250,0.04824584);\">wine</span> <span style=\"background-color:rgba(135,206,250,0.051853456);\">boasts</span> <span style=\"background-color:rgba(135,206,250,0.051982243);\">deep</span> <span style=\"background-color:rgba(135,206,250,0.03911161);\">violet</span> <span style=\"background-color:rgba(135,206,250,0.05439014);\">notes</span> <span style=\"background-color:rgba(135,206,250,0.027509265);\">of</span> <span style=\"background-color:rgba(135,206,250,0.05253952);\">oregano</span> <span style=\"background-color:rgba(135,206,250,0.040308554);\">,</span> <span style=\"background-color:rgba(135,206,250,0.03642972);\">black</span> <span style=\"background-color:rgba(135,206,250,0.061148643);\">currant</span> <span style=\"background-color:rgba(135,206,250,0.04544928);\">and</span> <span style=\"background-color:rgba(135,206,250,0.071329765);\">cigar</span> <span style=\"background-color:rgba(135,206,250,0.04953224);\">box</span> <span style=\"background-color:rgba(135,206,250,0.10418539);\">.</span> <span style=\"background-color:rgba(135,206,250,0.09173858);\">it</span> <span style=\"background-color:rgba(135,206,250,0.073031954);\">comes</span> <span style=\"background-color:rgba(135,206,250,0.061683338);\">across</span> <span style=\"background-color:rgba(135,206,250,0.048888892);\">as</span> <span style=\"background-color:rgba(135,206,250,0.09817117);\">well</span> <span style=\"background-color:rgba(135,206,250,0.06317178);\">as</span> <span style=\"background-color:rgba(135,206,250,0.16393632);\">purity</span> <span style=\"background-color:rgba(135,206,250,0.2781413);\">.</span>"
            ]
          },
          "metadata": {}
        },
        {
          "output_type": "stream",
          "name": "stdout",
          "text": [
            "it:   \t22.91%\n",
            "flavors:   \t12.44%\n",
            "the:   \t8.27%\n",
            "a:   \t5.63%\n",
            ":   \t5.37%\n",
            "--------\n",
            "\n"
          ]
        },
        {
          "output_type": "display_data",
          "data": {
            "text/plain": [
              "<IPython.core.display.HTML object>"
            ],
            "text/html": [
              "<span style=\"background-color:rgba(135,206,250,0.029235851);\">wine</span> <span style=\"background-color:rgba(135,206,250,0.03921844);\">review</span> <span style=\"background-color:rgba(135,206,250,0.06484191);\">:</span> <span style=\"background-color:rgba(135,206,250,0.7261927);\">india</span> <span style=\"background-color:rgba(135,206,250,0.0495506);\">:</span> <span style=\"background-color:rgba(135,206,250,0.094392985);\">nashik</span> <span style=\"background-color:rgba(135,206,250,0.03484447);\">:</span> <span style=\"background-color:rgba(135,206,250,0.043323245);\">shiraz</span> <span style=\"background-color:rgba(135,206,250,0.035369307);\">:</span> <span style=\"background-color:rgba(135,206,250,0.017782649);\">a</span> <span style=\"background-color:rgba(135,206,250,0.045787465);\">perennially</span> <span style=\"background-color:rgba(135,206,250,0.037502818);\">impresses</span> <span style=\"background-color:rgba(135,206,250,0.019006772);\">among</span> <span style=\"background-color:rgba(135,206,250,0.009322883);\">the</span> <span style=\"background-color:rgba(135,206,250,0.005020937);\">'</span> <span style=\"background-color:rgba(135,206,250,0.06128945);\">07</span> <span style=\"background-color:rgba(135,206,250,0.00985556);\">single</span> <span style=\"background-color:rgba(135,206,250,0.0072033433);\">-</span> <span style=\"background-color:rgba(135,206,250,0.022024997);\">vineyard</span> <span style=\"background-color:rgba(135,206,250,0.05492129);\">site</span> <span style=\"background-color:rgba(135,206,250,0.0128301205);\">,</span> <span style=\"background-color:rgba(135,206,250,0.012963273);\">this</span> <span style=\"background-color:rgba(135,206,250,0.031996667);\">elegant</span> <span style=\"background-color:rgba(135,206,250,0.028481763);\">yet</span> <span style=\"background-color:rgba(135,206,250,0.10286629);\">abundantly</span> <span style=\"background-color:rgba(135,206,250,0.04430894);\">fruited</span> <span style=\"background-color:rgba(135,206,250,0.027913945);\">wine</span> <span style=\"background-color:rgba(135,206,250,0.044617802);\">boasts</span> <span style=\"background-color:rgba(135,206,250,0.034680307);\">deep</span> <span style=\"background-color:rgba(135,206,250,0.03446469);\">violet</span> <span style=\"background-color:rgba(135,206,250,0.03662585);\">notes</span> <span style=\"background-color:rgba(135,206,250,0.0145885525);\">of</span> <span style=\"background-color:rgba(135,206,250,0.04154324);\">oregano</span> <span style=\"background-color:rgba(135,206,250,0.019659692);\">,</span> <span style=\"background-color:rgba(135,206,250,0.02083903);\">black</span> <span style=\"background-color:rgba(135,206,250,0.039927326);\">currant</span> <span style=\"background-color:rgba(135,206,250,0.02782371);\">and</span> <span style=\"background-color:rgba(135,206,250,0.037853256);\">cigar</span> <span style=\"background-color:rgba(135,206,250,0.024878878);\">box</span> <span style=\"background-color:rgba(135,206,250,0.09331993);\">.</span> <span style=\"background-color:rgba(135,206,250,0.023941638);\">it</span> <span style=\"background-color:rgba(135,206,250,0.07733504);\">comes</span> <span style=\"background-color:rgba(135,206,250,0.064981185);\">across</span> <span style=\"background-color:rgba(135,206,250,0.22111735);\">as</span> <span style=\"background-color:rgba(135,206,250,0.099856384);\">well</span> <span style=\"background-color:rgba(135,206,250,0.46108377);\">as</span> <span style=\"background-color:rgba(135,206,250,0.39251325);\">purity</span> <span style=\"background-color:rgba(135,206,250,1.0);\">.</span> <span style=\"background-color:rgba(135,206,250,0.24661541);\">it</span>"
            ]
          },
          "metadata": {}
        },
        {
          "output_type": "stream",
          "name": "stdout",
          "text": [
            "is:   \t32.7%\n",
            "':   \t9.6%\n",
            "has:   \t7.47%\n",
            "finishes:   \t5.2%\n",
            "goes:   \t3.5%\n",
            "--------\n",
            "\n"
          ]
        },
        {
          "output_type": "display_data",
          "data": {
            "text/plain": [
              "<IPython.core.display.HTML object>"
            ],
            "text/html": [
              "<span style=\"background-color:rgba(135,206,250,0.09731958);\">wine</span> <span style=\"background-color:rgba(135,206,250,0.14466438);\">review</span> <span style=\"background-color:rgba(135,206,250,0.47131047);\">:</span> <span style=\"background-color:rgba(135,206,250,1.0);\">india</span> <span style=\"background-color:rgba(135,206,250,0.4011426);\">:</span> <span style=\"background-color:rgba(135,206,250,0.48964888);\">nashik</span> <span style=\"background-color:rgba(135,206,250,0.18880008);\">:</span> <span style=\"background-color:rgba(135,206,250,0.12047594);\">shiraz</span> <span style=\"background-color:rgba(135,206,250,0.11199474);\">:</span> <span style=\"background-color:rgba(135,206,250,0.04326022);\">a</span> <span style=\"background-color:rgba(135,206,250,0.09899962);\">perennially</span> <span style=\"background-color:rgba(135,206,250,0.07569737);\">impresses</span> <span style=\"background-color:rgba(135,206,250,0.050566982);\">among</span> <span style=\"background-color:rgba(135,206,250,0.02752477);\">the</span> <span style=\"background-color:rgba(135,206,250,0.023072938);\">'</span> <span style=\"background-color:rgba(135,206,250,0.10610683);\">07</span> <span style=\"background-color:rgba(135,206,250,0.02370369);\">single</span> <span style=\"background-color:rgba(135,206,250,0.019563561);\">-</span> <span style=\"background-color:rgba(135,206,250,0.062258314);\">vineyard</span> <span style=\"background-color:rgba(135,206,250,0.114217214);\">site</span> <span style=\"background-color:rgba(135,206,250,0.030804446);\">,</span> <span style=\"background-color:rgba(135,206,250,0.034288097);\">this</span> <span style=\"background-color:rgba(135,206,250,0.06051903);\">elegant</span> <span style=\"background-color:rgba(135,206,250,0.05330584);\">yet</span> <span style=\"background-color:rgba(135,206,250,0.12758954);\">abundantly</span> <span style=\"background-color:rgba(135,206,250,0.062865764);\">fruited</span> <span style=\"background-color:rgba(135,206,250,0.05587311);\">wine</span> <span style=\"background-color:rgba(135,206,250,0.06704641);\">boasts</span> <span style=\"background-color:rgba(135,206,250,0.049867854);\">deep</span> <span style=\"background-color:rgba(135,206,250,0.038995113);\">violet</span> <span style=\"background-color:rgba(135,206,250,0.0542009);\">notes</span> <span style=\"background-color:rgba(135,206,250,0.03241045);\">of</span> <span style=\"background-color:rgba(135,206,250,0.07030359);\">oregano</span> <span style=\"background-color:rgba(135,206,250,0.04699035);\">,</span> <span style=\"background-color:rgba(135,206,250,0.032531913);\">black</span> <span style=\"background-color:rgba(135,206,250,0.05405356);\">currant</span> <span style=\"background-color:rgba(135,206,250,0.05191041);\">and</span> <span style=\"background-color:rgba(135,206,250,0.061531927);\">cigar</span> <span style=\"background-color:rgba(135,206,250,0.04964407);\">box</span> <span style=\"background-color:rgba(135,206,250,0.17656608);\">.</span> <span style=\"background-color:rgba(135,206,250,0.10063266);\">it</span> <span style=\"background-color:rgba(135,206,250,0.07942624);\">comes</span> <span style=\"background-color:rgba(135,206,250,0.113651015);\">across</span> <span style=\"background-color:rgba(135,206,250,0.14001463);\">as</span> <span style=\"background-color:rgba(135,206,250,0.17394249);\">well</span> <span style=\"background-color:rgba(135,206,250,0.23762436);\">as</span> <span style=\"background-color:rgba(135,206,250,0.2563644);\">purity</span> <span style=\"background-color:rgba(135,206,250,0.92283577);\">.</span> <span style=\"background-color:rgba(135,206,250,0.59234166);\">it</span> <span style=\"background-color:rgba(135,206,250,0.24455199);\">should</span>"
            ]
          },
          "metadata": {}
        },
        {
          "output_type": "stream",
          "name": "stdout",
          "text": [
            "be:   \t63.26%\n",
            "continue:   \t6.44%\n",
            "age:   \t3.08%\n",
            "develop:   \t2.4%\n",
            "pair:   \t1.49%\n",
            "--------\n",
            "\n"
          ]
        },
        {
          "output_type": "display_data",
          "data": {
            "text/plain": [
              "<IPython.core.display.HTML object>"
            ],
            "text/html": [
              "<span style=\"background-color:rgba(135,206,250,0.06311056);\">wine</span> <span style=\"background-color:rgba(135,206,250,0.09297015);\">review</span> <span style=\"background-color:rgba(135,206,250,0.16781493);\">:</span> <span style=\"background-color:rgba(135,206,250,1.0);\">india</span> <span style=\"background-color:rgba(135,206,250,0.1292961);\">:</span> <span style=\"background-color:rgba(135,206,250,0.19785209);\">nashik</span> <span style=\"background-color:rgba(135,206,250,0.072286904);\">:</span> <span style=\"background-color:rgba(135,206,250,0.096170925);\">shiraz</span> <span style=\"background-color:rgba(135,206,250,0.07445351);\">:</span> <span style=\"background-color:rgba(135,206,250,0.026980683);\">a</span> <span style=\"background-color:rgba(135,206,250,0.06866463);\">perennially</span> <span style=\"background-color:rgba(135,206,250,0.05334496);\">impresses</span> <span style=\"background-color:rgba(135,206,250,0.0268132);\">among</span> <span style=\"background-color:rgba(135,206,250,0.016417453);\">the</span> <span style=\"background-color:rgba(135,206,250,0.010148774);\">'</span> <span style=\"background-color:rgba(135,206,250,0.073986396);\">07</span> <span style=\"background-color:rgba(135,206,250,0.017346099);\">single</span> <span style=\"background-color:rgba(135,206,250,0.011817588);\">-</span> <span style=\"background-color:rgba(135,206,250,0.043653704);\">vineyard</span> <span style=\"background-color:rgba(135,206,250,0.094034456);\">site</span> <span style=\"background-color:rgba(135,206,250,0.026443785);\">,</span> <span style=\"background-color:rgba(135,206,250,0.02678807);\">this</span> <span style=\"background-color:rgba(135,206,250,0.047238942);\">elegant</span> <span style=\"background-color:rgba(135,206,250,0.050031092);\">yet</span> <span style=\"background-color:rgba(135,206,250,0.1056786);\">abundantly</span> <span style=\"background-color:rgba(135,206,250,0.05030498);\">fruited</span> <span style=\"background-color:rgba(135,206,250,0.04265812);\">wine</span> <span style=\"background-color:rgba(135,206,250,0.050086174);\">boasts</span> <span style=\"background-color:rgba(135,206,250,0.054373063);\">deep</span> <span style=\"background-color:rgba(135,206,250,0.0444639);\">violet</span> <span style=\"background-color:rgba(135,206,250,0.0584903);\">notes</span> <span style=\"background-color:rgba(135,206,250,0.03074325);\">of</span> <span style=\"background-color:rgba(135,206,250,0.066817425);\">oregano</span> <span style=\"background-color:rgba(135,206,250,0.042609844);\">,</span> <span style=\"background-color:rgba(135,206,250,0.036705516);\">black</span> <span style=\"background-color:rgba(135,206,250,0.05100858);\">currant</span> <span style=\"background-color:rgba(135,206,250,0.051154453);\">and</span> <span style=\"background-color:rgba(135,206,250,0.052120306);\">cigar</span> <span style=\"background-color:rgba(135,206,250,0.04120655);\">box</span> <span style=\"background-color:rgba(135,206,250,0.15706868);\">.</span> <span style=\"background-color:rgba(135,206,250,0.072739445);\">it</span> <span style=\"background-color:rgba(135,206,250,0.08807111);\">comes</span> <span style=\"background-color:rgba(135,206,250,0.074302115);\">across</span> <span style=\"background-color:rgba(135,206,250,0.31903073);\">as</span> <span style=\"background-color:rgba(135,206,250,0.13650443);\">well</span> <span style=\"background-color:rgba(135,206,250,0.66752017);\">as</span> <span style=\"background-color:rgba(135,206,250,0.39244348);\">purity</span> <span style=\"background-color:rgba(135,206,250,0.9309608);\">.</span> <span style=\"background-color:rgba(135,206,250,0.6340317);\">it</span> <span style=\"background-color:rgba(135,206,250,0.6887024);\">should</span> <span style=\"background-color:rgba(135,206,250,0.29727346);\">be</span>"
            ]
          },
          "metadata": {}
        },
        {
          "output_type": "stream",
          "name": "stdout",
          "text": [
            "a:   \t9.71%\n",
            "cellared:   \t9.35%\n",
            "aged:   \t7.59%\n",
            "paired:   \t6.04%\n",
            "on:   \t4.2%\n",
            "--------\n",
            "\n"
          ]
        },
        {
          "output_type": "display_data",
          "data": {
            "text/plain": [
              "<IPython.core.display.HTML object>"
            ],
            "text/html": [
              "<span style=\"background-color:rgba(135,206,250,0.13120718);\">wine</span> <span style=\"background-color:rgba(135,206,250,0.2014171);\">review</span> <span style=\"background-color:rgba(135,206,250,0.5208236);\">:</span> <span style=\"background-color:rgba(135,206,250,0.93786746);\">india</span> <span style=\"background-color:rgba(135,206,250,0.34079617);\">:</span> <span style=\"background-color:rgba(135,206,250,0.48927772);\">nashik</span> <span style=\"background-color:rgba(135,206,250,0.21556538);\">:</span> <span style=\"background-color:rgba(135,206,250,0.26951644);\">shiraz</span> <span style=\"background-color:rgba(135,206,250,0.17658734);\">:</span> <span style=\"background-color:rgba(135,206,250,0.08682026);\">a</span> <span style=\"background-color:rgba(135,206,250,0.112501435);\">perennially</span> <span style=\"background-color:rgba(135,206,250,0.084509484);\">impresses</span> <span style=\"background-color:rgba(135,206,250,0.05567574);\">among</span> <span style=\"background-color:rgba(135,206,250,0.04845821);\">the</span> <span style=\"background-color:rgba(135,206,250,0.026853664);\">'</span> <span style=\"background-color:rgba(135,206,250,0.075778015);\">07</span> <span style=\"background-color:rgba(135,206,250,0.02687754);\">single</span> <span style=\"background-color:rgba(135,206,250,0.019562665);\">-</span> <span style=\"background-color:rgba(135,206,250,0.05802238);\">vineyard</span> <span style=\"background-color:rgba(135,206,250,0.097443245);\">site</span> <span style=\"background-color:rgba(135,206,250,0.04288513);\">,</span> <span style=\"background-color:rgba(135,206,250,0.031121721);\">this</span> <span style=\"background-color:rgba(135,206,250,0.031583175);\">elegant</span> <span style=\"background-color:rgba(135,206,250,0.06095263);\">yet</span> <span style=\"background-color:rgba(135,206,250,0.07712911);\">abundantly</span> <span style=\"background-color:rgba(135,206,250,0.055940617);\">fruited</span> <span style=\"background-color:rgba(135,206,250,0.08178247);\">wine</span> <span style=\"background-color:rgba(135,206,250,0.07445827);\">boasts</span> <span style=\"background-color:rgba(135,206,250,0.041388154);\">deep</span> <span style=\"background-color:rgba(135,206,250,0.057597864);\">violet</span> <span style=\"background-color:rgba(135,206,250,0.08036655);\">notes</span> <span style=\"background-color:rgba(135,206,250,0.05481186);\">of</span> <span style=\"background-color:rgba(135,206,250,0.05908976);\">oregano</span> <span style=\"background-color:rgba(135,206,250,0.06797244);\">,</span> <span style=\"background-color:rgba(135,206,250,0.044182595);\">black</span> <span style=\"background-color:rgba(135,206,250,0.056022894);\">currant</span> <span style=\"background-color:rgba(135,206,250,0.092728384);\">and</span> <span style=\"background-color:rgba(135,206,250,0.07264204);\">cigar</span> <span style=\"background-color:rgba(135,206,250,0.05483016);\">box</span> <span style=\"background-color:rgba(135,206,250,0.23560451);\">.</span> <span style=\"background-color:rgba(135,206,250,0.13697374);\">it</span> <span style=\"background-color:rgba(135,206,250,0.16988991);\">comes</span> <span style=\"background-color:rgba(135,206,250,0.13487881);\">across</span> <span style=\"background-color:rgba(135,206,250,0.16959451);\">as</span> <span style=\"background-color:rgba(135,206,250,0.17934799);\">well</span> <span style=\"background-color:rgba(135,206,250,0.26586485);\">as</span> <span style=\"background-color:rgba(135,206,250,0.19323224);\">purity</span> <span style=\"background-color:rgba(135,206,250,0.9648097);\">.</span> <span style=\"background-color:rgba(135,206,250,0.5784062);\">it</span> <span style=\"background-color:rgba(135,206,250,1.0);\">should</span> <span style=\"background-color:rgba(135,206,250,0.74584055);\">be</span> <span style=\"background-color:rgba(135,206,250,0.69532424);\">cellared</span>"
            ]
          },
          "metadata": {}
        },
        {
          "output_type": "stream",
          "name": "stdout",
          "text": [
            "for:   \t54.07%\n",
            "until:   \t11.17%\n",
            "through:   \t7.55%\n",
            "as:   \t3.83%\n",
            "on:   \t3.55%\n",
            "--------\n",
            "\n"
          ]
        },
        {
          "output_type": "display_data",
          "data": {
            "text/plain": [
              "<IPython.core.display.HTML object>"
            ],
            "text/html": [
              "<span style=\"background-color:rgba(135,206,250,0.06446254);\">wine</span> <span style=\"background-color:rgba(135,206,250,0.09509051);\">review</span> <span style=\"background-color:rgba(135,206,250,0.30524442);\">:</span> <span style=\"background-color:rgba(135,206,250,0.87921244);\">india</span> <span style=\"background-color:rgba(135,206,250,0.19357446);\">:</span> <span style=\"background-color:rgba(135,206,250,0.28559235);\">nashik</span> <span style=\"background-color:rgba(135,206,250,0.094467595);\">:</span> <span style=\"background-color:rgba(135,206,250,0.11608855);\">shiraz</span> <span style=\"background-color:rgba(135,206,250,0.08198363);\">:</span> <span style=\"background-color:rgba(135,206,250,0.030544441);\">a</span> <span style=\"background-color:rgba(135,206,250,0.07458644);\">perennially</span> <span style=\"background-color:rgba(135,206,250,0.060010113);\">impresses</span> <span style=\"background-color:rgba(135,206,250,0.055166606);\">among</span> <span style=\"background-color:rgba(135,206,250,0.027449492);\">the</span> <span style=\"background-color:rgba(135,206,250,0.012685814);\">'</span> <span style=\"background-color:rgba(135,206,250,0.14358185);\">07</span> <span style=\"background-color:rgba(135,206,250,0.02286485);\">single</span> <span style=\"background-color:rgba(135,206,250,0.022313714);\">-</span> <span style=\"background-color:rgba(135,206,250,0.036084294);\">vineyard</span> <span style=\"background-color:rgba(135,206,250,0.09033906);\">site</span> <span style=\"background-color:rgba(135,206,250,0.033976316);\">,</span> <span style=\"background-color:rgba(135,206,250,0.073980175);\">this</span> <span style=\"background-color:rgba(135,206,250,0.053692233);\">elegant</span> <span style=\"background-color:rgba(135,206,250,0.068376675);\">yet</span> <span style=\"background-color:rgba(135,206,250,0.15285014);\">abundantly</span> <span style=\"background-color:rgba(135,206,250,0.042159896);\">fruited</span> <span style=\"background-color:rgba(135,206,250,0.048928887);\">wine</span> <span style=\"background-color:rgba(135,206,250,0.072811015);\">boasts</span> <span style=\"background-color:rgba(135,206,250,0.056949317);\">deep</span> <span style=\"background-color:rgba(135,206,250,0.04161421);\">violet</span> <span style=\"background-color:rgba(135,206,250,0.051761094);\">notes</span> <span style=\"background-color:rgba(135,206,250,0.035914533);\">of</span> <span style=\"background-color:rgba(135,206,250,0.0654032);\">oregano</span> <span style=\"background-color:rgba(135,206,250,0.049180675);\">,</span> <span style=\"background-color:rgba(135,206,250,0.034029104);\">black</span> <span style=\"background-color:rgba(135,206,250,0.06364007);\">currant</span> <span style=\"background-color:rgba(135,206,250,0.06417953);\">and</span> <span style=\"background-color:rgba(135,206,250,0.06406359);\">cigar</span> <span style=\"background-color:rgba(135,206,250,0.053484432);\">box</span> <span style=\"background-color:rgba(135,206,250,0.15731569);\">.</span> <span style=\"background-color:rgba(135,206,250,0.10568167);\">it</span> <span style=\"background-color:rgba(135,206,250,0.15377675);\">comes</span> <span style=\"background-color:rgba(135,206,250,0.086750515);\">across</span> <span style=\"background-color:rgba(135,206,250,0.08047741);\">as</span> <span style=\"background-color:rgba(135,206,250,0.1307527);\">well</span> <span style=\"background-color:rgba(135,206,250,0.10061234);\">as</span> <span style=\"background-color:rgba(135,206,250,0.14206785);\">purity</span> <span style=\"background-color:rgba(135,206,250,0.58721954);\">.</span> <span style=\"background-color:rgba(135,206,250,0.38809338);\">it</span> <span style=\"background-color:rgba(135,206,250,0.84812516);\">should</span> <span style=\"background-color:rgba(135,206,250,0.39816824);\">be</span> <span style=\"background-color:rgba(135,206,250,1.0);\">cellared</span> <span style=\"background-color:rgba(135,206,250,0.36113176);\">through</span>"
            ]
          },
          "metadata": {}
        },
        {
          "output_type": "stream",
          "name": "stdout",
          "text": [
            "at:   \t28.33%\n",
            "2020:   \t17.87%\n",
            "2024:   \t7.31%\n",
            "2023:   \t4.59%\n",
            "a:   \t4.25%\n",
            "--------\n",
            "\n"
          ]
        },
        {
          "output_type": "display_data",
          "data": {
            "text/plain": [
              "<IPython.core.display.HTML object>"
            ],
            "text/html": [
              "<span style=\"background-color:rgba(135,206,250,0.09548963);\">wine</span> <span style=\"background-color:rgba(135,206,250,0.11969289);\">review</span> <span style=\"background-color:rgba(135,206,250,0.14943677);\">:</span> <span style=\"background-color:rgba(135,206,250,0.3499849);\">india</span> <span style=\"background-color:rgba(135,206,250,0.17973703);\">:</span> <span style=\"background-color:rgba(135,206,250,0.23117349);\">nashik</span> <span style=\"background-color:rgba(135,206,250,0.11777552);\">:</span> <span style=\"background-color:rgba(135,206,250,0.13037066);\">shiraz</span> <span style=\"background-color:rgba(135,206,250,0.101865746);\">:</span> <span style=\"background-color:rgba(135,206,250,0.057552245);\">a</span> <span style=\"background-color:rgba(135,206,250,0.056848064);\">perennially</span> <span style=\"background-color:rgba(135,206,250,0.037050806);\">impresses</span> <span style=\"background-color:rgba(135,206,250,0.033717524);\">among</span> <span style=\"background-color:rgba(135,206,250,0.024886705);\">the</span> <span style=\"background-color:rgba(135,206,250,0.013111921);\">'</span> <span style=\"background-color:rgba(135,206,250,0.027624253);\">07</span> <span style=\"background-color:rgba(135,206,250,0.015401418);\">single</span> <span style=\"background-color:rgba(135,206,250,0.011430017);\">-</span> <span style=\"background-color:rgba(135,206,250,0.03449229);\">vineyard</span> <span style=\"background-color:rgba(135,206,250,0.049917303);\">site</span> <span style=\"background-color:rgba(135,206,250,0.02491027);\">,</span> <span style=\"background-color:rgba(135,206,250,0.01690487);\">this</span> <span style=\"background-color:rgba(135,206,250,0.015075794);\">elegant</span> <span style=\"background-color:rgba(135,206,250,0.022593739);\">yet</span> <span style=\"background-color:rgba(135,206,250,0.02714324);\">abundantly</span> <span style=\"background-color:rgba(135,206,250,0.021701325);\">fruited</span> <span style=\"background-color:rgba(135,206,250,0.022419583);\">wine</span> <span style=\"background-color:rgba(135,206,250,0.030959412);\">boasts</span> <span style=\"background-color:rgba(135,206,250,0.012480128);\">deep</span> <span style=\"background-color:rgba(135,206,250,0.033417728);\">violet</span> <span style=\"background-color:rgba(135,206,250,0.03242461);\">notes</span> <span style=\"background-color:rgba(135,206,250,0.029923053);\">of</span> <span style=\"background-color:rgba(135,206,250,0.025949743);\">oregano</span> <span style=\"background-color:rgba(135,206,250,0.03159526);\">,</span> <span style=\"background-color:rgba(135,206,250,0.013495983);\">black</span> <span style=\"background-color:rgba(135,206,250,0.019291976);\">currant</span> <span style=\"background-color:rgba(135,206,250,0.036061894);\">and</span> <span style=\"background-color:rgba(135,206,250,0.019989042);\">cigar</span> <span style=\"background-color:rgba(135,206,250,0.018472152);\">box</span> <span style=\"background-color:rgba(135,206,250,0.07517345);\">.</span> <span style=\"background-color:rgba(135,206,250,0.03697105);\">it</span> <span style=\"background-color:rgba(135,206,250,0.063235566);\">comes</span> <span style=\"background-color:rgba(135,206,250,0.05029895);\">across</span> <span style=\"background-color:rgba(135,206,250,0.05181107);\">as</span> <span style=\"background-color:rgba(135,206,250,0.038605493);\">well</span> <span style=\"background-color:rgba(135,206,250,0.08161015);\">as</span> <span style=\"background-color:rgba(135,206,250,0.063619405);\">purity</span> <span style=\"background-color:rgba(135,206,250,0.24547543);\">.</span> <span style=\"background-color:rgba(135,206,250,0.11642385);\">it</span> <span style=\"background-color:rgba(135,206,250,0.19104405);\">should</span> <span style=\"background-color:rgba(135,206,250,0.1692586);\">be</span> <span style=\"background-color:rgba(135,206,250,0.50565463);\">cellared</span> <span style=\"background-color:rgba(135,206,250,1.0);\">through</span> <span style=\"background-color:rgba(135,206,250,0.19471736);\">2020</span>"
            ]
          },
          "metadata": {}
        },
        {
          "output_type": "stream",
          "name": "stdout",
          "text": [
            ".:   \t92.23%\n",
            ",:   \t2.55%\n",
            "to:   \t2.3%\n",
            "on:   \t0.58%\n",
            "for:   \t0.44%\n",
            "--------\n",
            "\n"
          ]
        },
        {
          "output_type": "display_data",
          "data": {
            "text/plain": [
              "<IPython.core.display.HTML object>"
            ],
            "text/html": [
              "<span style=\"background-color:rgba(135,206,250,0.04914371);\">wine</span> <span style=\"background-color:rgba(135,206,250,0.081405774);\">review</span> <span style=\"background-color:rgba(135,206,250,0.3284234);\">:</span> <span style=\"background-color:rgba(135,206,250,0.88726777);\">india</span> <span style=\"background-color:rgba(135,206,250,0.2282638);\">:</span> <span style=\"background-color:rgba(135,206,250,0.81694865);\">nashik</span> <span style=\"background-color:rgba(135,206,250,0.1610083);\">:</span> <span style=\"background-color:rgba(135,206,250,0.23840104);\">shiraz</span> <span style=\"background-color:rgba(135,206,250,0.10210093);\">:</span> <span style=\"background-color:rgba(135,206,250,0.026731556);\">a</span> <span style=\"background-color:rgba(135,206,250,0.057986043);\">perennially</span> <span style=\"background-color:rgba(135,206,250,0.062042378);\">impresses</span> <span style=\"background-color:rgba(135,206,250,0.024428861);\">among</span> <span style=\"background-color:rgba(135,206,250,0.013214855);\">the</span> <span style=\"background-color:rgba(135,206,250,0.0056837383);\">'</span> <span style=\"background-color:rgba(135,206,250,0.110745884);\">07</span> <span style=\"background-color:rgba(135,206,250,0.016400527);\">single</span> <span style=\"background-color:rgba(135,206,250,0.014755466);\">-</span> <span style=\"background-color:rgba(135,206,250,0.025066944);\">vineyard</span> <span style=\"background-color:rgba(135,206,250,0.071177244);\">site</span> <span style=\"background-color:rgba(135,206,250,0.019397758);\">,</span> <span style=\"background-color:rgba(135,206,250,0.03671933);\">this</span> <span style=\"background-color:rgba(135,206,250,0.024132159);\">elegant</span> <span style=\"background-color:rgba(135,206,250,0.027677892);\">yet</span> <span style=\"background-color:rgba(135,206,250,0.102570616);\">abundantly</span> <span style=\"background-color:rgba(135,206,250,0.033244368);\">fruited</span> <span style=\"background-color:rgba(135,206,250,0.036894515);\">wine</span> <span style=\"background-color:rgba(135,206,250,0.036590625);\">boasts</span> <span style=\"background-color:rgba(135,206,250,0.038718164);\">deep</span> <span style=\"background-color:rgba(135,206,250,0.028131478);\">violet</span> <span style=\"background-color:rgba(135,206,250,0.04117658);\">notes</span> <span style=\"background-color:rgba(135,206,250,0.01812918);\">of</span> <span style=\"background-color:rgba(135,206,250,0.036987416);\">oregano</span> <span style=\"background-color:rgba(135,206,250,0.026880123);\">,</span> <span style=\"background-color:rgba(135,206,250,0.026219595);\">black</span> <span style=\"background-color:rgba(135,206,250,0.045043);\">currant</span> <span style=\"background-color:rgba(135,206,250,0.030222146);\">and</span> <span style=\"background-color:rgba(135,206,250,0.052538376);\">cigar</span> <span style=\"background-color:rgba(135,206,250,0.030506426);\">box</span> <span style=\"background-color:rgba(135,206,250,0.0687101);\">.</span> <span style=\"background-color:rgba(135,206,250,0.040690787);\">it</span> <span style=\"background-color:rgba(135,206,250,0.039751463);\">comes</span> <span style=\"background-color:rgba(135,206,250,0.03217491);\">across</span> <span style=\"background-color:rgba(135,206,250,0.026546491);\">as</span> <span style=\"background-color:rgba(135,206,250,0.04638263);\">well</span> <span style=\"background-color:rgba(135,206,250,0.028634923);\">as</span> <span style=\"background-color:rgba(135,206,250,0.09271505);\">purity</span> <span style=\"background-color:rgba(135,206,250,0.11492533);\">.</span> <span style=\"background-color:rgba(135,206,250,0.096379146);\">it</span> <span style=\"background-color:rgba(135,206,250,0.18185593);\">should</span> <span style=\"background-color:rgba(135,206,250,0.0833221);\">be</span> <span style=\"background-color:rgba(135,206,250,0.20071307);\">cellared</span> <span style=\"background-color:rgba(135,206,250,0.10896829);\">through</span> <span style=\"background-color:rgba(135,206,250,1.0);\">2020</span> <span style=\"background-color:rgba(135,206,250,0.22344752);\">.</span>"
            ]
          },
          "metadata": {}
        },
        {
          "output_type": "stream",
          "name": "stdout",
          "text": [
            ":   \t95.81%\n",
            "beyond:   \t0.61%\n",
            "it:   \t0.42%\n",
            "flavors:   \t0.37%\n",
            "a:   \t0.31%\n",
            "--------\n",
            "\n"
          ]
        }
      ]
    },
    {
      "cell_type": "code",
      "source": [],
      "metadata": {
        "id": "sn5YSlN4fCnP"
      },
      "execution_count": null,
      "outputs": []
    }
  ]
}